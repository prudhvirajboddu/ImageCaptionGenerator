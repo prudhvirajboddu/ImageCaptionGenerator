{
 "cells": [
  {
   "cell_type": "code",
   "execution_count": 1,
   "id": "downtown-report",
   "metadata": {
    "execution": {
     "iopub.execute_input": "2023-11-28T16:04:37.129638Z",
     "iopub.status.busy": "2023-11-28T16:04:37.129008Z",
     "iopub.status.idle": "2023-11-28T16:04:38.550199Z",
     "shell.execute_reply": "2023-11-28T16:04:38.549533Z",
     "shell.execute_reply.started": "2023-11-28T02:56:23.399143Z"
    },
    "papermill": {
     "duration": 1.481819,
     "end_time": "2023-11-28T16:04:38.550384",
     "exception": false,
     "start_time": "2023-11-28T16:04:37.068565",
     "status": "completed"
    },
    "tags": []
   },
   "outputs": [],
   "source": [
    "import pandas as pd\n",
    "import numpy as np\n",
    "from collections import Counter \n",
    "import torchvision\n",
    "from torchvision import transforms\n",
    "from PIL import Image\n",
    "from torch.utils.data import Dataset, DataLoader\n",
    "import torch\n",
    "import torch.nn as nn\n",
    "from torch.autograd import Variable\n",
    "from tqdm.notebook import tqdm\n",
    "import matplotlib.pyplot as plt\n",
    "import math\n",
    "import torch.nn.functional as F\n",
    "import pickle\n",
    "import gc\n",
    "import random\n",
    "pd.set_option('display.max_colwidth', None)"
   ]
  },
  {
   "cell_type": "markdown",
   "id": "prompt-permit",
   "metadata": {
    "papermill": {
     "duration": 0.047292,
     "end_time": "2023-11-28T16:04:38.646603",
     "exception": false,
     "start_time": "2023-11-28T16:04:38.599311",
     "status": "completed"
    },
    "tags": []
   },
   "source": [
    "## Read Data."
   ]
  },
  {
   "cell_type": "code",
   "execution_count": 2,
   "id": "superior-reserve",
   "metadata": {
    "execution": {
     "iopub.execute_input": "2023-11-28T16:04:38.752300Z",
     "iopub.status.busy": "2023-11-28T16:04:38.751702Z",
     "iopub.status.idle": "2023-11-28T16:04:38.884157Z",
     "shell.execute_reply": "2023-11-28T16:04:38.884645Z",
     "shell.execute_reply.started": "2023-11-28T02:56:24.718316Z"
    },
    "papermill": {
     "duration": 0.190505,
     "end_time": "2023-11-28T16:04:38.884818",
     "exception": false,
     "start_time": "2023-11-28T16:04:38.694313",
     "status": "completed"
    },
    "tags": []
   },
   "outputs": [
    {
     "name": "stdout",
     "output_type": "stream",
     "text": [
      "40455\n"
     ]
    },
    {
     "data": {
      "text/html": [
       "<div>\n",
       "<style scoped>\n",
       "    .dataframe tbody tr th:only-of-type {\n",
       "        vertical-align: middle;\n",
       "    }\n",
       "\n",
       "    .dataframe tbody tr th {\n",
       "        vertical-align: top;\n",
       "    }\n",
       "\n",
       "    .dataframe thead th {\n",
       "        text-align: right;\n",
       "    }\n",
       "</style>\n",
       "<table border=\"1\" class=\"dataframe\">\n",
       "  <thead>\n",
       "    <tr style=\"text-align: right;\">\n",
       "      <th></th>\n",
       "      <th>image</th>\n",
       "      <th>caption</th>\n",
       "    </tr>\n",
       "  </thead>\n",
       "  <tbody>\n",
       "    <tr>\n",
       "      <th>0</th>\n",
       "      <td>1000268201_693b08cb0e.jpg</td>\n",
       "      <td>A child in a pink dress is climbing up a set of stairs in an entry way .</td>\n",
       "    </tr>\n",
       "    <tr>\n",
       "      <th>1</th>\n",
       "      <td>1000268201_693b08cb0e.jpg</td>\n",
       "      <td>A girl going into a wooden building .</td>\n",
       "    </tr>\n",
       "    <tr>\n",
       "      <th>2</th>\n",
       "      <td>1000268201_693b08cb0e.jpg</td>\n",
       "      <td>A little girl climbing into a wooden playhouse .</td>\n",
       "    </tr>\n",
       "    <tr>\n",
       "      <th>3</th>\n",
       "      <td>1000268201_693b08cb0e.jpg</td>\n",
       "      <td>A little girl climbing the stairs to her playhouse .</td>\n",
       "    </tr>\n",
       "    <tr>\n",
       "      <th>4</th>\n",
       "      <td>1000268201_693b08cb0e.jpg</td>\n",
       "      <td>A little girl in a pink dress going into a wooden cabin .</td>\n",
       "    </tr>\n",
       "  </tbody>\n",
       "</table>\n",
       "</div>"
      ],
      "text/plain": [
       "                       image  \\\n",
       "0  1000268201_693b08cb0e.jpg   \n",
       "1  1000268201_693b08cb0e.jpg   \n",
       "2  1000268201_693b08cb0e.jpg   \n",
       "3  1000268201_693b08cb0e.jpg   \n",
       "4  1000268201_693b08cb0e.jpg   \n",
       "\n",
       "                                                                    caption  \n",
       "0  A child in a pink dress is climbing up a set of stairs in an entry way .  \n",
       "1                                     A girl going into a wooden building .  \n",
       "2                          A little girl climbing into a wooden playhouse .  \n",
       "3                      A little girl climbing the stairs to her playhouse .  \n",
       "4                 A little girl in a pink dress going into a wooden cabin .  "
      ]
     },
     "execution_count": 2,
     "metadata": {},
     "output_type": "execute_result"
    }
   ],
   "source": [
    "df = pd.read_csv(\"../input/flickr8k/captions.txt\", sep=',')\n",
    "print(len(df))\n",
    "df.head(5)"
   ]
  },
  {
   "cell_type": "markdown",
   "id": "varying-soccer",
   "metadata": {
    "papermill": {
     "duration": 0.048979,
     "end_time": "2023-11-28T16:04:38.982769",
     "exception": false,
     "start_time": "2023-11-28T16:04:38.933790",
     "status": "completed"
    },
    "tags": []
   },
   "source": [
    "## Preprocessing -> Remove Single Character and non alpha Words. Add <Start>, <end> and <pad> tokens. <pad> token is appended such that length in max_seq_len (maximum length across all captions which is 33 in our case)  "
   ]
  },
  {
   "cell_type": "code",
   "execution_count": 3,
   "id": "acknowledged-formation",
   "metadata": {
    "execution": {
     "iopub.execute_input": "2023-11-28T16:04:39.085767Z",
     "iopub.status.busy": "2023-11-28T16:04:39.084893Z",
     "iopub.status.idle": "2023-11-28T16:04:39.087671Z",
     "shell.execute_reply": "2023-11-28T16:04:39.087071Z",
     "shell.execute_reply.started": "2023-11-28T02:56:24.827431Z"
    },
    "papermill": {
     "duration": 0.056081,
     "end_time": "2023-11-28T16:04:39.087794",
     "exception": false,
     "start_time": "2023-11-28T16:04:39.031713",
     "status": "completed"
    },
    "tags": []
   },
   "outputs": [],
   "source": [
    "def remove_single_char_word(word_list):\n",
    "    lst = []\n",
    "    for word in word_list:\n",
    "        if len(word)>1:\n",
    "            lst.append(word)\n",
    "\n",
    "    return lst"
   ]
  },
  {
   "cell_type": "code",
   "execution_count": 4,
   "id": "sharing-genius",
   "metadata": {
    "execution": {
     "iopub.execute_input": "2023-11-28T16:04:39.201781Z",
     "iopub.status.busy": "2023-11-28T16:04:39.191516Z",
     "iopub.status.idle": "2023-11-28T16:04:39.642992Z",
     "shell.execute_reply": "2023-11-28T16:04:39.642443Z",
     "shell.execute_reply.started": "2023-11-28T02:56:24.833953Z"
    },
    "papermill": {
     "duration": 0.506321,
     "end_time": "2023-11-28T16:04:39.643145",
     "exception": false,
     "start_time": "2023-11-28T16:04:39.136824",
     "status": "completed"
    },
    "tags": []
   },
   "outputs": [],
   "source": [
    "df['clean_captions'] = df['caption'].apply(lambda caption : ['<start>'] + [word.lower() if word.isalpha() else '' for word in caption.split(\" \")] + ['<end>'])\n",
    "df['clean_captions']  = df['clean_captions'].apply(lambda x : remove_single_char_word(x))"
   ]
  },
  {
   "cell_type": "code",
   "execution_count": 5,
   "id": "studied-commercial",
   "metadata": {
    "execution": {
     "iopub.execute_input": "2023-11-28T16:04:39.771555Z",
     "iopub.status.busy": "2023-11-28T16:04:39.770191Z",
     "iopub.status.idle": "2023-11-28T16:04:39.774227Z",
     "shell.execute_reply": "2023-11-28T16:04:39.774683Z",
     "shell.execute_reply.started": "2023-11-28T02:56:25.305322Z"
    },
    "papermill": {
     "duration": 0.082425,
     "end_time": "2023-11-28T16:04:39.774831",
     "exception": false,
     "start_time": "2023-11-28T16:04:39.692406",
     "status": "completed"
    },
    "tags": []
   },
   "outputs": [
    {
     "name": "stdout",
     "output_type": "stream",
     "text": [
      "33\n"
     ]
    }
   ],
   "source": [
    "df['seq_length'] = df['clean_captions'].apply(lambda x : len(x))\n",
    "max_seq_len = df['seq_length'].max()\n",
    "print(max_seq_len)"
   ]
  },
  {
   "cell_type": "code",
   "execution_count": 6,
   "id": "given-planning",
   "metadata": {
    "execution": {
     "iopub.execute_input": "2023-11-28T16:04:39.879514Z",
     "iopub.status.busy": "2023-11-28T16:04:39.878445Z",
     "iopub.status.idle": "2023-11-28T16:04:39.973286Z",
     "shell.execute_reply": "2023-11-28T16:04:39.972671Z",
     "shell.execute_reply.started": "2023-11-28T02:56:25.339507Z"
    },
    "papermill": {
     "duration": 0.149649,
     "end_time": "2023-11-28T16:04:39.973430",
     "exception": false,
     "start_time": "2023-11-28T16:04:39.823781",
     "status": "completed"
    },
    "tags": []
   },
   "outputs": [],
   "source": [
    "df.drop(['seq_length'], axis = 1, inplace = True)\n",
    "df['clean_captions'] = df['clean_captions'].apply(lambda caption : caption + ['<pad>']*(max_seq_len-len(caption)) )"
   ]
  },
  {
   "cell_type": "code",
   "execution_count": 7,
   "id": "violent-palace",
   "metadata": {
    "execution": {
     "iopub.execute_input": "2023-11-28T16:04:40.083904Z",
     "iopub.status.busy": "2023-11-28T16:04:40.083056Z",
     "iopub.status.idle": "2023-11-28T16:04:40.086887Z",
     "shell.execute_reply": "2023-11-28T16:04:40.086368Z",
     "shell.execute_reply.started": "2023-11-28T02:56:25.443932Z"
    },
    "papermill": {
     "duration": 0.062828,
     "end_time": "2023-11-28T16:04:40.087018",
     "exception": false,
     "start_time": "2023-11-28T16:04:40.024190",
     "status": "completed"
    },
    "tags": []
   },
   "outputs": [
    {
     "data": {
      "text/html": [
       "<div>\n",
       "<style scoped>\n",
       "    .dataframe tbody tr th:only-of-type {\n",
       "        vertical-align: middle;\n",
       "    }\n",
       "\n",
       "    .dataframe tbody tr th {\n",
       "        vertical-align: top;\n",
       "    }\n",
       "\n",
       "    .dataframe thead th {\n",
       "        text-align: right;\n",
       "    }\n",
       "</style>\n",
       "<table border=\"1\" class=\"dataframe\">\n",
       "  <thead>\n",
       "    <tr style=\"text-align: right;\">\n",
       "      <th></th>\n",
       "      <th>image</th>\n",
       "      <th>caption</th>\n",
       "      <th>clean_captions</th>\n",
       "    </tr>\n",
       "  </thead>\n",
       "  <tbody>\n",
       "    <tr>\n",
       "      <th>0</th>\n",
       "      <td>1000268201_693b08cb0e.jpg</td>\n",
       "      <td>A child in a pink dress is climbing up a set of stairs in an entry way .</td>\n",
       "      <td>[&lt;start&gt;, child, in, pink, dress, is, climbing, up, set, of, stairs, in, an, entry, way, &lt;end&gt;, &lt;pad&gt;, &lt;pad&gt;, &lt;pad&gt;, &lt;pad&gt;, &lt;pad&gt;, &lt;pad&gt;, &lt;pad&gt;, &lt;pad&gt;, &lt;pad&gt;, &lt;pad&gt;, &lt;pad&gt;, &lt;pad&gt;, &lt;pad&gt;, &lt;pad&gt;, &lt;pad&gt;, &lt;pad&gt;, &lt;pad&gt;]</td>\n",
       "    </tr>\n",
       "    <tr>\n",
       "      <th>1</th>\n",
       "      <td>1000268201_693b08cb0e.jpg</td>\n",
       "      <td>A girl going into a wooden building .</td>\n",
       "      <td>[&lt;start&gt;, girl, going, into, wooden, building, &lt;end&gt;, &lt;pad&gt;, &lt;pad&gt;, &lt;pad&gt;, &lt;pad&gt;, &lt;pad&gt;, &lt;pad&gt;, &lt;pad&gt;, &lt;pad&gt;, &lt;pad&gt;, &lt;pad&gt;, &lt;pad&gt;, &lt;pad&gt;, &lt;pad&gt;, &lt;pad&gt;, &lt;pad&gt;, &lt;pad&gt;, &lt;pad&gt;, &lt;pad&gt;, &lt;pad&gt;, &lt;pad&gt;, &lt;pad&gt;, &lt;pad&gt;, &lt;pad&gt;, &lt;pad&gt;, &lt;pad&gt;, &lt;pad&gt;]</td>\n",
       "    </tr>\n",
       "  </tbody>\n",
       "</table>\n",
       "</div>"
      ],
      "text/plain": [
       "                       image  \\\n",
       "0  1000268201_693b08cb0e.jpg   \n",
       "1  1000268201_693b08cb0e.jpg   \n",
       "\n",
       "                                                                    caption  \\\n",
       "0  A child in a pink dress is climbing up a set of stairs in an entry way .   \n",
       "1                                     A girl going into a wooden building .   \n",
       "\n",
       "                                                                                                                                                                                                                                clean_captions  \n",
       "0                       [<start>, child, in, pink, dress, is, climbing, up, set, of, stairs, in, an, entry, way, <end>, <pad>, <pad>, <pad>, <pad>, <pad>, <pad>, <pad>, <pad>, <pad>, <pad>, <pad>, <pad>, <pad>, <pad>, <pad>, <pad>, <pad>]  \n",
       "1  [<start>, girl, going, into, wooden, building, <end>, <pad>, <pad>, <pad>, <pad>, <pad>, <pad>, <pad>, <pad>, <pad>, <pad>, <pad>, <pad>, <pad>, <pad>, <pad>, <pad>, <pad>, <pad>, <pad>, <pad>, <pad>, <pad>, <pad>, <pad>, <pad>, <pad>]  "
      ]
     },
     "execution_count": 7,
     "metadata": {},
     "output_type": "execute_result"
    }
   ],
   "source": [
    "df.head(2)"
   ]
  },
  {
   "cell_type": "markdown",
   "id": "unavailable-cattle",
   "metadata": {
    "papermill": {
     "duration": 0.048984,
     "end_time": "2023-11-28T16:04:40.185433",
     "exception": false,
     "start_time": "2023-11-28T16:04:40.136449",
     "status": "completed"
    },
    "tags": []
   },
   "source": [
    "## Create Vocab and mapping of token to ID"
   ]
  },
  {
   "cell_type": "code",
   "execution_count": 8,
   "id": "marked-allowance",
   "metadata": {
    "execution": {
     "iopub.execute_input": "2023-11-28T16:04:40.289532Z",
     "iopub.status.busy": "2023-11-28T16:04:40.288956Z",
     "iopub.status.idle": "2023-11-28T16:04:40.635591Z",
     "shell.execute_reply": "2023-11-28T16:04:40.635041Z",
     "shell.execute_reply.started": "2023-11-28T02:56:25.458412Z"
    },
    "papermill": {
     "duration": 0.400652,
     "end_time": "2023-11-28T16:04:40.635724",
     "exception": false,
     "start_time": "2023-11-28T16:04:40.235072",
     "status": "completed"
    },
    "tags": []
   },
   "outputs": [],
   "source": [
    "words_list = df['clean_captions'].apply(lambda x : \" \".join(x)).str.cat(sep = ' ').split(' ')\n",
    "words_dict = Counter(words_list)\n",
    "words_dict =  sorted(words_dict, key=words_dict.get, reverse=True)"
   ]
  },
  {
   "cell_type": "code",
   "execution_count": 9,
   "id": "beneficial-conditions",
   "metadata": {
    "execution": {
     "iopub.execute_input": "2023-11-28T16:04:40.739158Z",
     "iopub.status.busy": "2023-11-28T16:04:40.738450Z",
     "iopub.status.idle": "2023-11-28T16:04:40.741127Z",
     "shell.execute_reply": "2023-11-28T16:04:40.741606Z",
     "shell.execute_reply.started": "2023-11-28T02:56:25.816390Z"
    },
    "papermill": {
     "duration": 0.056312,
     "end_time": "2023-11-28T16:04:40.741743",
     "exception": false,
     "start_time": "2023-11-28T16:04:40.685431",
     "status": "completed"
    },
    "tags": []
   },
   "outputs": [
    {
     "name": "stdout",
     "output_type": "stream",
     "text": [
      "8360\n",
      "['<pad>', '<start>', '<end>', 'in', 'the']\n"
     ]
    }
   ],
   "source": [
    "print(len(words_dict))\n",
    "print(words_dict[:5])"
   ]
  },
  {
   "cell_type": "markdown",
   "id": "arabic-missile",
   "metadata": {
    "papermill": {
     "duration": 0.049329,
     "end_time": "2023-11-28T16:04:40.841081",
     "exception": false,
     "start_time": "2023-11-28T16:04:40.791752",
     "status": "completed"
    },
    "tags": []
   },
   "source": [
    "### Vocab size is 8360"
   ]
  },
  {
   "cell_type": "code",
   "execution_count": 10,
   "id": "enormous-demand",
   "metadata": {
    "execution": {
     "iopub.execute_input": "2023-11-28T16:04:40.945271Z",
     "iopub.status.busy": "2023-11-28T16:04:40.944547Z",
     "iopub.status.idle": "2023-11-28T16:04:40.947278Z",
     "shell.execute_reply": "2023-11-28T16:04:40.947756Z",
     "shell.execute_reply.started": "2023-11-28T02:56:25.823043Z"
    },
    "papermill": {
     "duration": 0.056576,
     "end_time": "2023-11-28T16:04:40.947921",
     "exception": false,
     "start_time": "2023-11-28T16:04:40.891345",
     "status": "completed"
    },
    "tags": []
   },
   "outputs": [
    {
     "name": "stdout",
     "output_type": "stream",
     "text": [
      "8360\n"
     ]
    }
   ],
   "source": [
    "vocab_size = len(words_dict)\n",
    "print(vocab_size)"
   ]
  },
  {
   "cell_type": "code",
   "execution_count": 11,
   "id": "adolescent-manhattan",
   "metadata": {
    "execution": {
     "iopub.execute_input": "2023-11-28T16:04:41.058013Z",
     "iopub.status.busy": "2023-11-28T16:04:41.057275Z",
     "iopub.status.idle": "2023-11-28T16:04:41.060735Z",
     "shell.execute_reply": "2023-11-28T16:04:41.060249Z",
     "shell.execute_reply.started": "2023-11-28T02:56:25.832541Z"
    },
    "papermill": {
     "duration": 0.062496,
     "end_time": "2023-11-28T16:04:41.060871",
     "exception": false,
     "start_time": "2023-11-28T16:04:40.998375",
     "status": "completed"
    },
    "tags": []
   },
   "outputs": [
    {
     "name": "stdout",
     "output_type": "stream",
     "text": [
      "8360 8360\n"
     ]
    }
   ],
   "source": [
    "index_to_word = {index: word for index, word in enumerate(words_dict)}\n",
    "word_to_index = {word: index for index, word in enumerate(words_dict)}\n",
    "print(len(index_to_word), len(word_to_index))"
   ]
  },
  {
   "cell_type": "markdown",
   "id": "adapted-registration",
   "metadata": {
    "papermill": {
     "duration": 0.050305,
     "end_time": "2023-11-28T16:04:41.161616",
     "exception": false,
     "start_time": "2023-11-28T16:04:41.111311",
     "status": "completed"
    },
    "tags": []
   },
   "source": [
    "### Covert sequence of tokens to IDs"
   ]
  },
  {
   "cell_type": "code",
   "execution_count": 12,
   "id": "national-remedy",
   "metadata": {
    "execution": {
     "iopub.execute_input": "2023-11-28T16:04:41.437127Z",
     "iopub.status.busy": "2023-11-28T16:04:41.266114Z",
     "iopub.status.idle": "2023-11-28T16:04:41.605464Z",
     "shell.execute_reply": "2023-11-28T16:04:41.604835Z",
     "shell.execute_reply.started": "2023-11-28T02:56:25.845931Z"
    },
    "papermill": {
     "duration": 0.393438,
     "end_time": "2023-11-28T16:04:41.605601",
     "exception": false,
     "start_time": "2023-11-28T16:04:41.212163",
     "status": "completed"
    },
    "tags": []
   },
   "outputs": [],
   "source": [
    "df['text_seq']  = df['clean_captions'].apply(lambda caption : [word_to_index[word] for word in caption] )"
   ]
  },
  {
   "cell_type": "code",
   "execution_count": 13,
   "id": "incident-airline",
   "metadata": {
    "execution": {
     "iopub.execute_input": "2023-11-28T16:04:41.719659Z",
     "iopub.status.busy": "2023-11-28T16:04:41.718933Z",
     "iopub.status.idle": "2023-11-28T16:04:41.722590Z",
     "shell.execute_reply": "2023-11-28T16:04:41.723066Z",
     "shell.execute_reply.started": "2023-11-28T02:56:26.213006Z"
    },
    "papermill": {
     "duration": 0.066723,
     "end_time": "2023-11-28T16:04:41.723216",
     "exception": false,
     "start_time": "2023-11-28T16:04:41.656493",
     "status": "completed"
    },
    "tags": []
   },
   "outputs": [
    {
     "data": {
      "text/html": [
       "<div>\n",
       "<style scoped>\n",
       "    .dataframe tbody tr th:only-of-type {\n",
       "        vertical-align: middle;\n",
       "    }\n",
       "\n",
       "    .dataframe tbody tr th {\n",
       "        vertical-align: top;\n",
       "    }\n",
       "\n",
       "    .dataframe thead th {\n",
       "        text-align: right;\n",
       "    }\n",
       "</style>\n",
       "<table border=\"1\" class=\"dataframe\">\n",
       "  <thead>\n",
       "    <tr style=\"text-align: right;\">\n",
       "      <th></th>\n",
       "      <th>image</th>\n",
       "      <th>caption</th>\n",
       "      <th>clean_captions</th>\n",
       "      <th>text_seq</th>\n",
       "    </tr>\n",
       "  </thead>\n",
       "  <tbody>\n",
       "    <tr>\n",
       "      <th>0</th>\n",
       "      <td>1000268201_693b08cb0e.jpg</td>\n",
       "      <td>A child in a pink dress is climbing up a set of stairs in an entry way .</td>\n",
       "      <td>[&lt;start&gt;, child, in, pink, dress, is, climbing, up, set, of, stairs, in, an, entry, way, &lt;end&gt;, &lt;pad&gt;, &lt;pad&gt;, &lt;pad&gt;, &lt;pad&gt;, &lt;pad&gt;, &lt;pad&gt;, &lt;pad&gt;, &lt;pad&gt;, &lt;pad&gt;, &lt;pad&gt;, &lt;pad&gt;, &lt;pad&gt;, &lt;pad&gt;, &lt;pad&gt;, &lt;pad&gt;, &lt;pad&gt;, &lt;pad&gt;]</td>\n",
       "      <td>[1, 41, 3, 89, 168, 6, 118, 52, 392, 11, 389, 3, 27, 5075, 690, 2, 0, 0, 0, 0, 0, 0, 0, 0, 0, 0, 0, 0, 0, 0, 0, 0, 0]</td>\n",
       "    </tr>\n",
       "    <tr>\n",
       "      <th>1</th>\n",
       "      <td>1000268201_693b08cb0e.jpg</td>\n",
       "      <td>A girl going into a wooden building .</td>\n",
       "      <td>[&lt;start&gt;, girl, going, into, wooden, building, &lt;end&gt;, &lt;pad&gt;, &lt;pad&gt;, &lt;pad&gt;, &lt;pad&gt;, &lt;pad&gt;, &lt;pad&gt;, &lt;pad&gt;, &lt;pad&gt;, &lt;pad&gt;, &lt;pad&gt;, &lt;pad&gt;, &lt;pad&gt;, &lt;pad&gt;, &lt;pad&gt;, &lt;pad&gt;, &lt;pad&gt;, &lt;pad&gt;, &lt;pad&gt;, &lt;pad&gt;, &lt;pad&gt;, &lt;pad&gt;, &lt;pad&gt;, &lt;pad&gt;, &lt;pad&gt;, &lt;pad&gt;, &lt;pad&gt;]</td>\n",
       "      <td>[1, 18, 311, 63, 192, 116, 2, 0, 0, 0, 0, 0, 0, 0, 0, 0, 0, 0, 0, 0, 0, 0, 0, 0, 0, 0, 0, 0, 0, 0, 0, 0, 0]</td>\n",
       "    </tr>\n",
       "  </tbody>\n",
       "</table>\n",
       "</div>"
      ],
      "text/plain": [
       "                       image  \\\n",
       "0  1000268201_693b08cb0e.jpg   \n",
       "1  1000268201_693b08cb0e.jpg   \n",
       "\n",
       "                                                                    caption  \\\n",
       "0  A child in a pink dress is climbing up a set of stairs in an entry way .   \n",
       "1                                     A girl going into a wooden building .   \n",
       "\n",
       "                                                                                                                                                                                                                                clean_captions  \\\n",
       "0                       [<start>, child, in, pink, dress, is, climbing, up, set, of, stairs, in, an, entry, way, <end>, <pad>, <pad>, <pad>, <pad>, <pad>, <pad>, <pad>, <pad>, <pad>, <pad>, <pad>, <pad>, <pad>, <pad>, <pad>, <pad>, <pad>]   \n",
       "1  [<start>, girl, going, into, wooden, building, <end>, <pad>, <pad>, <pad>, <pad>, <pad>, <pad>, <pad>, <pad>, <pad>, <pad>, <pad>, <pad>, <pad>, <pad>, <pad>, <pad>, <pad>, <pad>, <pad>, <pad>, <pad>, <pad>, <pad>, <pad>, <pad>, <pad>]   \n",
       "\n",
       "                                                                                                                text_seq  \n",
       "0  [1, 41, 3, 89, 168, 6, 118, 52, 392, 11, 389, 3, 27, 5075, 690, 2, 0, 0, 0, 0, 0, 0, 0, 0, 0, 0, 0, 0, 0, 0, 0, 0, 0]  \n",
       "1            [1, 18, 311, 63, 192, 116, 2, 0, 0, 0, 0, 0, 0, 0, 0, 0, 0, 0, 0, 0, 0, 0, 0, 0, 0, 0, 0, 0, 0, 0, 0, 0, 0]  "
      ]
     },
     "execution_count": 13,
     "metadata": {},
     "output_type": "execute_result"
    }
   ],
   "source": [
    "df.head(2)"
   ]
  },
  {
   "cell_type": "markdown",
   "id": "outdoor-chamber",
   "metadata": {
    "papermill": {
     "duration": 0.050585,
     "end_time": "2023-11-28T16:04:41.824737",
     "exception": false,
     "start_time": "2023-11-28T16:04:41.774152",
     "status": "completed"
    },
    "tags": []
   },
   "source": [
    "## Split In Train and validation data. Same Image should not be present in both training and validation data "
   ]
  },
  {
   "cell_type": "code",
   "execution_count": 14,
   "id": "initial-attraction",
   "metadata": {
    "execution": {
     "iopub.execute_input": "2023-11-28T16:04:41.935049Z",
     "iopub.status.busy": "2023-11-28T16:04:41.934415Z",
     "iopub.status.idle": "2023-11-28T16:04:41.979511Z",
     "shell.execute_reply": "2023-11-28T16:04:41.978932Z",
     "shell.execute_reply.started": "2023-11-28T02:56:26.229432Z"
    },
    "papermill": {
     "duration": 0.10393,
     "end_time": "2023-11-28T16:04:41.979637",
     "exception": false,
     "start_time": "2023-11-28T16:04:41.875707",
     "status": "completed"
    },
    "tags": []
   },
   "outputs": [],
   "source": [
    "df = df.sort_values(by = 'image')\n",
    "train = df.iloc[:int(0.9*len(df))]\n",
    "valid = df.iloc[int(0.9*len(df)):]"
   ]
  },
  {
   "cell_type": "code",
   "execution_count": 15,
   "id": "existing-booth",
   "metadata": {
    "execution": {
     "iopub.execute_input": "2023-11-28T16:04:42.088758Z",
     "iopub.status.busy": "2023-11-28T16:04:42.088195Z",
     "iopub.status.idle": "2023-11-28T16:04:42.095677Z",
     "shell.execute_reply": "2023-11-28T16:04:42.095149Z",
     "shell.execute_reply.started": "2023-11-28T02:56:26.284918Z"
    },
    "papermill": {
     "duration": 0.064984,
     "end_time": "2023-11-28T16:04:42.095806",
     "exception": false,
     "start_time": "2023-11-28T16:04:42.030822",
     "status": "completed"
    },
    "tags": []
   },
   "outputs": [
    {
     "name": "stdout",
     "output_type": "stream",
     "text": [
      "36409 7282\n",
      "4046 810\n"
     ]
    }
   ],
   "source": [
    "print(len(train), train['image'].nunique())\n",
    "print(len(valid), valid['image'].nunique())"
   ]
  },
  {
   "cell_type": "markdown",
   "id": "pacific-grill",
   "metadata": {
    "papermill": {
     "duration": 0.051981,
     "end_time": "2023-11-28T16:04:42.199460",
     "exception": false,
     "start_time": "2023-11-28T16:04:42.147479",
     "status": "completed"
    },
    "tags": []
   },
   "source": [
    "## Extract features from Images Using Resnet"
   ]
  },
  {
   "cell_type": "code",
   "execution_count": 16,
   "id": "instructional-integrity",
   "metadata": {
    "execution": {
     "iopub.execute_input": "2023-11-28T16:04:42.305550Z",
     "iopub.status.busy": "2023-11-28T16:04:42.304961Z",
     "iopub.status.idle": "2023-11-28T16:04:42.307918Z",
     "shell.execute_reply": "2023-11-28T16:04:42.308360Z",
     "shell.execute_reply.started": "2023-11-28T02:56:26.297725Z"
    },
    "papermill": {
     "duration": 0.058186,
     "end_time": "2023-11-28T16:04:42.308499",
     "exception": false,
     "start_time": "2023-11-28T16:04:42.250313",
     "status": "completed"
    },
    "tags": []
   },
   "outputs": [
    {
     "name": "stdout",
     "output_type": "stream",
     "text": [
      "36409\n"
     ]
    }
   ],
   "source": [
    "train_samples = len(train)\n",
    "print(train_samples)"
   ]
  },
  {
   "cell_type": "code",
   "execution_count": 17,
   "id": "alpha-jefferson",
   "metadata": {
    "execution": {
     "iopub.execute_input": "2023-11-28T16:04:42.420016Z",
     "iopub.status.busy": "2023-11-28T16:04:42.418218Z",
     "iopub.status.idle": "2023-11-28T16:04:42.429344Z",
     "shell.execute_reply": "2023-11-28T16:04:42.428717Z",
     "shell.execute_reply.started": "2023-11-28T02:56:26.304908Z"
    },
    "papermill": {
     "duration": 0.069165,
     "end_time": "2023-11-28T16:04:42.429466",
     "exception": false,
     "start_time": "2023-11-28T16:04:42.360301",
     "status": "completed"
    },
    "tags": []
   },
   "outputs": [
    {
     "name": "stdout",
     "output_type": "stream",
     "text": [
      "7282 810\n"
     ]
    }
   ],
   "source": [
    "unq_train_imgs = train[['image']].drop_duplicates()\n",
    "unq_valid_imgs = valid[['image']].drop_duplicates()\n",
    "print(len(unq_train_imgs), len(unq_valid_imgs))"
   ]
  },
  {
   "cell_type": "code",
   "execution_count": 18,
   "id": "monetary-firmware",
   "metadata": {
    "execution": {
     "iopub.execute_input": "2023-11-28T16:04:42.592914Z",
     "iopub.status.busy": "2023-11-28T16:04:42.592293Z",
     "iopub.status.idle": "2023-11-28T16:04:42.595742Z",
     "shell.execute_reply": "2023-11-28T16:04:42.595250Z",
     "shell.execute_reply.started": "2023-11-28T02:56:26.325400Z"
    },
    "papermill": {
     "duration": 0.112947,
     "end_time": "2023-11-28T16:04:42.595901",
     "exception": false,
     "start_time": "2023-11-28T16:04:42.482954",
     "status": "completed"
    },
    "tags": []
   },
   "outputs": [
    {
     "name": "stdout",
     "output_type": "stream",
     "text": [
      "cuda\n"
     ]
    }
   ],
   "source": [
    "device = torch.device(\"cuda\" if torch.cuda.is_available() else \"cpu\")\n",
    "print(device)"
   ]
  },
  {
   "cell_type": "code",
   "execution_count": 19,
   "id": "prescribed-collective",
   "metadata": {
    "execution": {
     "iopub.execute_input": "2023-11-28T16:04:42.707921Z",
     "iopub.status.busy": "2023-11-28T16:04:42.707343Z",
     "iopub.status.idle": "2023-11-28T16:04:42.710293Z",
     "shell.execute_reply": "2023-11-28T16:04:42.709777Z",
     "shell.execute_reply.started": "2023-11-28T02:56:26.404686Z"
    },
    "papermill": {
     "duration": 0.062166,
     "end_time": "2023-11-28T16:04:42.710415",
     "exception": false,
     "start_time": "2023-11-28T16:04:42.648249",
     "status": "completed"
    },
    "tags": []
   },
   "outputs": [],
   "source": [
    "class extractImageFeatureDataSet():\n",
    "    def __init__(self, data, size):\n",
    "        self.data = data \n",
    "        self.scaler = transforms.Resize([size,size])\n",
    "        self.normalize = transforms.Normalize(mean=[0.485, 0.456, 0.406],\n",
    "                                     std=[0.229, 0.224, 0.225])\n",
    "        self.to_tensor = transforms.ToTensor()\n",
    "    def __len__(self):  \n",
    "        return len(self.data)\n",
    "\n",
    "    def __getitem__(self, idx):\n",
    "\n",
    "        image_name = self.data.iloc[idx]['image']\n",
    "        img_loc = '../input/flickr8k/Images/'+str(image_name)\n",
    "\n",
    "        img = Image.open(img_loc)\n",
    "        t_img = self.normalize(self.to_tensor(self.scaler(img)))\n",
    "\n",
    "        return image_name, t_img"
   ]
  },
  {
   "cell_type": "code",
   "execution_count": 20,
   "id": "experimental-journal",
   "metadata": {
    "execution": {
     "iopub.execute_input": "2023-11-28T16:04:42.819901Z",
     "iopub.status.busy": "2023-11-28T16:04:42.819276Z",
     "iopub.status.idle": "2023-11-28T16:04:42.822195Z",
     "shell.execute_reply": "2023-11-28T16:04:42.821516Z",
     "shell.execute_reply.started": "2023-11-28T02:56:26.414524Z"
    },
    "papermill": {
     "duration": 0.060085,
     "end_time": "2023-11-28T16:04:42.822322",
     "exception": false,
     "start_time": "2023-11-28T16:04:42.762237",
     "status": "completed"
    },
    "tags": []
   },
   "outputs": [],
   "source": [
    "train_ImageDataset_ResNet = extractImageFeatureDataSet(unq_train_imgs , 224)\n",
    "train_ImageDataloader_ResNet = DataLoader(train_ImageDataset_ResNet, batch_size = 1, shuffle=False)\n",
    "\n",
    "valid_ImageDataset_ResNet = extractImageFeatureDataSet(unq_valid_imgs , 224)\n",
    "valid_ImageDataloader_ResNet = DataLoader(valid_ImageDataset_ResNet, batch_size = 1, shuffle=False)"
   ]
  },
  {
   "cell_type": "code",
   "execution_count": 21,
   "id": "stylish-auditor",
   "metadata": {
    "execution": {
     "iopub.execute_input": "2023-11-28T16:04:42.934177Z",
     "iopub.status.busy": "2023-11-28T16:04:42.933326Z",
     "iopub.status.idle": "2023-11-28T16:04:42.935539Z",
     "shell.execute_reply": "2023-11-28T16:04:42.936017Z",
     "shell.execute_reply.started": "2023-11-28T02:56:26.423980Z"
    },
    "papermill": {
     "duration": 0.059041,
     "end_time": "2023-11-28T16:04:42.936167",
     "exception": false,
     "start_time": "2023-11-28T16:04:42.877126",
     "status": "completed"
    },
    "tags": []
   },
   "outputs": [],
   "source": [
    "train_ImageDataset_Inception = extractImageFeatureDataSet(unq_train_imgs, 340)\n",
    "train_ImageDataloader_Inception = DataLoader(train_ImageDataset_Inception, batch_size = 1, shuffle=False)\n",
    "\n",
    "valid_ImageDataset_Inception = extractImageFeatureDataSet(unq_valid_imgs, 340)\n",
    "valid_ImageDataloader_Inception = DataLoader(valid_ImageDataset_Inception, batch_size = 1, shuffle=False)"
   ]
  },
  {
   "cell_type": "code",
   "execution_count": 22,
   "id": "romantic-russia",
   "metadata": {
    "execution": {
     "iopub.execute_input": "2023-11-28T16:04:43.045618Z",
     "iopub.status.busy": "2023-11-28T16:04:43.044991Z",
     "iopub.status.idle": "2023-11-28T16:04:43.164236Z",
     "shell.execute_reply": "2023-11-28T16:04:43.163694Z",
     "shell.execute_reply.started": "2023-11-28T02:56:26.433292Z"
    },
    "papermill": {
     "duration": 0.176174,
     "end_time": "2023-11-28T16:04:43.164378",
     "exception": false,
     "start_time": "2023-11-28T16:04:42.988204",
     "status": "completed"
    },
    "tags": []
   },
   "outputs": [
    {
     "data": {
      "application/vnd.jupyter.widget-view+json": {
       "model_id": "e14b3161f9e84f819925df6be3c7222d",
       "version_major": 2,
       "version_minor": 0
      },
      "text/plain": [
       "  0%|          | 0/7282 [00:00<?, ?it/s]"
      ]
     },
     "metadata": {},
     "output_type": "display_data"
    },
    {
     "name": "stdout",
     "output_type": "stream",
     "text": [
      "Image size for Resnet Features: torch.Size([1, 3, 224, 224])\n"
     ]
    }
   ],
   "source": [
    "for ima,image in tqdm(train_ImageDataloader_ResNet):\n",
    "    print(f'Image size for Resnet Features: {image.shape}')\n",
    "    break"
   ]
  },
  {
   "cell_type": "code",
   "execution_count": 23,
   "id": "prerequisite-mapping",
   "metadata": {
    "execution": {
     "iopub.execute_input": "2023-11-28T16:04:43.302137Z",
     "iopub.status.busy": "2023-11-28T16:04:43.301433Z",
     "iopub.status.idle": "2023-11-28T16:04:43.321611Z",
     "shell.execute_reply": "2023-11-28T16:04:43.321074Z",
     "shell.execute_reply.started": "2023-11-28T02:56:26.550118Z"
    },
    "papermill": {
     "duration": 0.103695,
     "end_time": "2023-11-28T16:04:43.321745",
     "exception": false,
     "start_time": "2023-11-28T16:04:43.218050",
     "status": "completed"
    },
    "tags": []
   },
   "outputs": [
    {
     "data": {
      "application/vnd.jupyter.widget-view+json": {
       "model_id": "4fb37f4fb8164f4ea408c03fece138c1",
       "version_major": 2,
       "version_minor": 0
      },
      "text/plain": [
       "  0%|          | 0/7282 [00:00<?, ?it/s]"
      ]
     },
     "metadata": {},
     "output_type": "display_data"
    },
    {
     "name": "stdout",
     "output_type": "stream",
     "text": [
      "Image size for Inception Features: torch.Size([1, 3, 340, 340])\n"
     ]
    }
   ],
   "source": [
    "for ima,image in tqdm(train_ImageDataloader_Inception):\n",
    "    print(f'Image size for Inception Features: {image.shape}')\n",
    "    break"
   ]
  },
  {
   "cell_type": "code",
   "execution_count": 24,
   "id": "guided-kernel",
   "metadata": {
    "execution": {
     "iopub.execute_input": "2023-11-28T16:04:43.439183Z",
     "iopub.status.busy": "2023-11-28T16:04:43.438548Z",
     "iopub.status.idle": "2023-11-28T16:07:00.101871Z",
     "shell.execute_reply": "2023-11-28T16:07:00.101216Z",
     "shell.execute_reply.started": "2023-11-28T02:56:26.602159Z"
    },
    "papermill": {
     "duration": 136.725544,
     "end_time": "2023-11-28T16:07:00.102024",
     "exception": false,
     "start_time": "2023-11-28T16:04:43.376480",
     "status": "completed"
    },
    "tags": []
   },
   "outputs": [
    {
     "name": "stderr",
     "output_type": "stream",
     "text": [
      "Downloading: \"https://download.pytorch.org/models/resnet18-5c106cde.pth\" to /root/.cache/torch/hub/checkpoints/resnet18-5c106cde.pth\n"
     ]
    },
    {
     "data": {
      "application/vnd.jupyter.widget-view+json": {
       "model_id": "c69b2f34b7654cc2979a9d5935a86319",
       "version_major": 2,
       "version_minor": 0
      },
      "text/plain": [
       "  0%|          | 0.00/44.7M [00:00<?, ?B/s]"
      ]
     },
     "metadata": {},
     "output_type": "display_data"
    },
    {
     "data": {
      "text/plain": [
       "['conv1',\n",
       " 'bn1',\n",
       " 'relu',\n",
       " 'maxpool',\n",
       " 'layer1',\n",
       " 'layer2',\n",
       " 'layer3',\n",
       " 'layer4',\n",
       " 'avgpool',\n",
       " 'fc']"
      ]
     },
     "execution_count": 24,
     "metadata": {},
     "output_type": "execute_result"
    }
   ],
   "source": [
    "resnet18 = torchvision.models.resnet18(pretrained=True).to(device)\n",
    "resnet18.eval()\n",
    "list(resnet18._modules)"
   ]
  },
  {
   "cell_type": "code",
   "execution_count": 25,
   "id": "alien-procurement",
   "metadata": {
    "execution": {
     "iopub.execute_input": "2023-11-28T16:07:00.218090Z",
     "iopub.status.busy": "2023-11-28T16:07:00.217472Z",
     "iopub.status.idle": "2023-11-28T16:07:02.706202Z",
     "shell.execute_reply": "2023-11-28T16:07:02.705615Z",
     "shell.execute_reply.started": "2023-11-28T02:56:31.640776Z"
    },
    "papermill": {
     "duration": 2.548521,
     "end_time": "2023-11-28T16:07:02.706342",
     "exception": false,
     "start_time": "2023-11-28T16:07:00.157821",
     "status": "completed"
    },
    "tags": []
   },
   "outputs": [
    {
     "data": {
      "text/plain": [
       "['Conv2d_1a_3x3',\n",
       " 'Conv2d_2a_3x3',\n",
       " 'Conv2d_2b_3x3',\n",
       " 'maxpool1',\n",
       " 'Conv2d_3b_1x1',\n",
       " 'Conv2d_4a_3x3',\n",
       " 'maxpool2',\n",
       " 'Mixed_5b',\n",
       " 'Mixed_5c',\n",
       " 'Mixed_5d',\n",
       " 'Mixed_6a',\n",
       " 'Mixed_6b',\n",
       " 'Mixed_6c',\n",
       " 'Mixed_6d',\n",
       " 'Mixed_6e',\n",
       " 'AuxLogits',\n",
       " 'Mixed_7a',\n",
       " 'Mixed_7b',\n",
       " 'Mixed_7c',\n",
       " 'avgpool',\n",
       " 'dropout',\n",
       " 'fc']"
      ]
     },
     "execution_count": 25,
     "metadata": {},
     "output_type": "execute_result"
    }
   ],
   "source": [
    "inception = torchvision.models.Inception3(init_weights=True).to(device)\n",
    "inception.eval()\n",
    "list(inception._modules)"
   ]
  },
  {
   "cell_type": "code",
   "execution_count": 26,
   "id": "protecting-taylor",
   "metadata": {
    "execution": {
     "iopub.execute_input": "2023-11-28T16:07:02.822996Z",
     "iopub.status.busy": "2023-11-28T16:07:02.822125Z",
     "iopub.status.idle": "2023-11-28T16:07:02.826436Z",
     "shell.execute_reply": "2023-11-28T16:07:02.825838Z",
     "shell.execute_reply.started": "2023-11-28T02:56:34.180376Z"
    },
    "papermill": {
     "duration": 0.064103,
     "end_time": "2023-11-28T16:07:02.826549",
     "exception": false,
     "start_time": "2023-11-28T16:07:02.762446",
     "status": "completed"
    },
    "tags": []
   },
   "outputs": [],
   "source": [
    "resNet18Layer4 = resnet18._modules.get('layer4').to(device)\n",
    "\n",
    "inceptionLayer7 = inception._modules.get('Mixed_7c').to(device)"
   ]
  },
  {
   "cell_type": "code",
   "execution_count": 27,
   "id": "perfect-uncertainty",
   "metadata": {
    "execution": {
     "iopub.execute_input": "2023-11-28T16:07:02.945727Z",
     "iopub.status.busy": "2023-11-28T16:07:02.944907Z",
     "iopub.status.idle": "2023-11-28T16:07:02.947602Z",
     "shell.execute_reply": "2023-11-28T16:07:02.947107Z",
     "shell.execute_reply.started": "2023-11-28T02:56:34.188085Z"
    },
    "papermill": {
     "duration": 0.064901,
     "end_time": "2023-11-28T16:07:02.947726",
     "exception": false,
     "start_time": "2023-11-28T16:07:02.882825",
     "status": "completed"
    },
    "tags": []
   },
   "outputs": [],
   "source": [
    "def get_resnet_vector(t_img):\n",
    "    \n",
    "    t_img = Variable(t_img)\n",
    "#     print(t_img)\n",
    "    my_embedding = torch.zeros(1, 512, 7, 7)\n",
    "    def copy_data(m, i, o):\n",
    "        my_embedding.copy_(o.data)\n",
    "    \n",
    "    h = resNet18Layer4.register_forward_hook(copy_data)\n",
    "    resnet18(t_img)\n",
    "    \n",
    "    h.remove()\n",
    "    return my_embedding"
   ]
  },
  {
   "cell_type": "code",
   "execution_count": 28,
   "id": "heated-holocaust",
   "metadata": {
    "execution": {
     "iopub.execute_input": "2023-11-28T16:07:03.067115Z",
     "iopub.status.busy": "2023-11-28T16:07:03.066244Z",
     "iopub.status.idle": "2023-11-28T16:07:03.068961Z",
     "shell.execute_reply": "2023-11-28T16:07:03.068496Z",
     "shell.execute_reply.started": "2023-11-28T02:56:34.196074Z"
    },
    "papermill": {
     "duration": 0.064438,
     "end_time": "2023-11-28T16:07:03.069077",
     "exception": false,
     "start_time": "2023-11-28T16:07:03.004639",
     "status": "completed"
    },
    "tags": []
   },
   "outputs": [],
   "source": [
    "def get_inception_vector(t_img):\n",
    "    \n",
    "    t_img = Variable(t_img)\n",
    "    \n",
    "    #embedding size is the last layer size\n",
    "    my_embedding = torch.zeros(1, 2048, 9, 9)\n",
    "    def copy_data(m, i, o):\n",
    "        my_embedding.copy_(o.data)\n",
    "    \n",
    "    h = inceptionLayer7.register_forward_hook(copy_data)\n",
    "    inception(t_img)\n",
    "    \n",
    "    h.remove()\n",
    "    return my_embedding"
   ]
  },
  {
   "cell_type": "code",
   "execution_count": 29,
   "id": "constitutional-illness",
   "metadata": {
    "execution": {
     "iopub.execute_input": "2023-11-28T16:07:03.185959Z",
     "iopub.status.busy": "2023-11-28T16:07:03.185113Z",
     "iopub.status.idle": "2023-11-28T16:07:03.187815Z",
     "shell.execute_reply": "2023-11-28T16:07:03.187294Z",
     "shell.execute_reply.started": "2023-11-28T02:56:34.204538Z"
    },
    "papermill": {
     "duration": 0.063292,
     "end_time": "2023-11-28T16:07:03.187959",
     "exception": false,
     "start_time": "2023-11-28T16:07:03.124667",
     "status": "completed"
    },
    "tags": []
   },
   "outputs": [],
   "source": [
    "def writeResnetPickle(loader,name):\n",
    "    picklDict = {}\n",
    "    for image_name,img in tqdm(loader):\n",
    "        img = img.to(device)\n",
    "        embdg = get_resnet_vector(img)\n",
    "        \n",
    "        picklDict[image_name[0]] =  embdg\n",
    "    \n",
    "    a_file = open(f'./{name}.pkl', \"wb\")\n",
    "    pickle.dump(picklDict, a_file)\n",
    "    a_file.close()\n",
    "    \n",
    "    return \"Done\""
   ]
  },
  {
   "cell_type": "code",
   "execution_count": 30,
   "id": "round-slide",
   "metadata": {
    "execution": {
     "iopub.execute_input": "2023-11-28T16:07:03.305014Z",
     "iopub.status.busy": "2023-11-28T16:07:03.304155Z",
     "iopub.status.idle": "2023-11-28T16:07:03.306943Z",
     "shell.execute_reply": "2023-11-28T16:07:03.306335Z",
     "shell.execute_reply.started": "2023-11-28T03:01:24.819332Z"
    },
    "papermill": {
     "duration": 0.063123,
     "end_time": "2023-11-28T16:07:03.307061",
     "exception": false,
     "start_time": "2023-11-28T16:07:03.243938",
     "status": "completed"
    },
    "tags": []
   },
   "outputs": [],
   "source": [
    "def writeInceptionPickle(loader,name):\n",
    "    picklDict = {}\n",
    "    for image_name,img in tqdm(loader):\n",
    "        img = img.to(device)\n",
    "        embdg = get_inception_vector(img)\n",
    "        \n",
    "        picklDict[image_name[0]] =  embdg\n",
    "    \n",
    "    a_file = open(f'./{name}.pkl', \"wb\")\n",
    "    pickle.dump(picklDict, a_file)\n",
    "    a_file.close()\n",
    "    \n",
    "    return \"Done\""
   ]
  },
  {
   "cell_type": "code",
   "execution_count": 31,
   "id": "recent-cambodia",
   "metadata": {
    "execution": {
     "iopub.execute_input": "2023-11-28T16:07:03.446765Z",
     "iopub.status.busy": "2023-11-28T16:07:03.446194Z",
     "iopub.status.idle": "2023-11-28T16:10:23.707734Z",
     "shell.execute_reply": "2023-11-28T16:10:23.707210Z",
     "shell.execute_reply.started": "2023-11-28T02:56:34.222059Z"
    },
    "papermill": {
     "duration": 200.345131,
     "end_time": "2023-11-28T16:10:23.707887",
     "exception": false,
     "start_time": "2023-11-28T16:07:03.362756",
     "status": "completed"
    },
    "tags": []
   },
   "outputs": [
    {
     "data": {
      "application/vnd.jupyter.widget-view+json": {
       "model_id": "138d6a83be084fa49b2bb8358ca7ef3e",
       "version_major": 2,
       "version_minor": 0
      },
      "text/plain": [
       "  0%|          | 0/7282 [00:00<?, ?it/s]"
      ]
     },
     "metadata": {},
     "output_type": "display_data"
    },
    {
     "data": {
      "application/vnd.jupyter.widget-view+json": {
       "model_id": "244563f138f64896b5c3a6f12dc489e1",
       "version_major": 2,
       "version_minor": 0
      },
      "text/plain": [
       "  0%|          | 0/810 [00:00<?, ?it/s]"
      ]
     },
     "metadata": {},
     "output_type": "display_data"
    },
    {
     "data": {
      "text/plain": [
       "'Done'"
      ]
     },
     "execution_count": 31,
     "metadata": {},
     "output_type": "execute_result"
    }
   ],
   "source": [
    "writeResnetPickle(train_ImageDataloader_ResNet,'resnetTrainEncoder')\n",
    "writeResnetPickle(valid_ImageDataloader_ResNet,'resnetValidEncoder')"
   ]
  },
  {
   "cell_type": "code",
   "execution_count": 32,
   "id": "respiratory-deficit",
   "metadata": {
    "execution": {
     "iopub.execute_input": "2023-11-28T16:10:23.849983Z",
     "iopub.status.busy": "2023-11-28T16:10:23.849372Z",
     "iopub.status.idle": "2023-11-28T16:16:25.420605Z",
     "shell.execute_reply": "2023-11-28T16:16:25.421091Z",
     "shell.execute_reply.started": "2023-11-28T03:01:26.988190Z"
    },
    "papermill": {
     "duration": 361.656332,
     "end_time": "2023-11-28T16:16:25.421260",
     "exception": false,
     "start_time": "2023-11-28T16:10:23.764928",
     "status": "completed"
    },
    "tags": []
   },
   "outputs": [
    {
     "data": {
      "application/vnd.jupyter.widget-view+json": {
       "model_id": "e30122714dd744e78890c5557b0fa2d2",
       "version_major": 2,
       "version_minor": 0
      },
      "text/plain": [
       "  0%|          | 0/7282 [00:00<?, ?it/s]"
      ]
     },
     "metadata": {},
     "output_type": "display_data"
    },
    {
     "data": {
      "application/vnd.jupyter.widget-view+json": {
       "model_id": "6649c89b92bc415e900d1b6f2f222a30",
       "version_major": 2,
       "version_minor": 0
      },
      "text/plain": [
       "  0%|          | 0/810 [00:00<?, ?it/s]"
      ]
     },
     "metadata": {},
     "output_type": "display_data"
    },
    {
     "data": {
      "text/plain": [
       "'Done'"
      ]
     },
     "execution_count": 32,
     "metadata": {},
     "output_type": "execute_result"
    }
   ],
   "source": [
    "writeInceptionPickle(train_ImageDataloader_Inception,'inceptionTrainEncoder')\n",
    "writeInceptionPickle(valid_ImageDataloader_Inception,'inceptionValidEncoder')"
   ]
  },
  {
   "cell_type": "markdown",
   "id": "solved-defensive",
   "metadata": {
    "papermill": {
     "duration": 0.05719,
     "end_time": "2023-11-28T16:16:25.536075",
     "exception": false,
     "start_time": "2023-11-28T16:16:25.478885",
     "status": "completed"
    },
    "tags": []
   },
   "source": [
    "## Create DataLoader which will be used to load data into Transformer Model.\n",
    "## FlickerDataSetResnet will return caption sequence, 1 timestep left shifted caption sequence which model will predict and Stored Image features from ResNet."
   ]
  },
  {
   "cell_type": "code",
   "execution_count": 33,
   "id": "metallic-labor",
   "metadata": {
    "execution": {
     "iopub.execute_input": "2023-11-28T16:16:25.660068Z",
     "iopub.status.busy": "2023-11-28T16:16:25.659304Z",
     "iopub.status.idle": "2023-11-28T16:16:25.662393Z",
     "shell.execute_reply": "2023-11-28T16:16:25.661821Z",
     "shell.execute_reply.started": "2023-11-28T03:11:53.325118Z"
    },
    "papermill": {
     "duration": 0.068853,
     "end_time": "2023-11-28T16:16:25.662505",
     "exception": false,
     "start_time": "2023-11-28T16:16:25.593652",
     "status": "completed"
    },
    "tags": []
   },
   "outputs": [],
   "source": [
    "class FlickerDataSet():\n",
    "    def __init__(self, data, pkl_file):\n",
    "        self.data = data\n",
    "        self.encodedImgs = pd.read_pickle(pkl_file)\n",
    "\n",
    "    def __len__(self):\n",
    "        return len(self.data)\n",
    "\n",
    "    def __getitem__(self, idx):\n",
    "    \n",
    "        caption_seq = self.data.iloc[idx]['text_seq']\n",
    "        target_seq = caption_seq[1:]+[0]\n",
    "\n",
    "        image_name = self.data.iloc[idx]['image']\n",
    "        image_tensor = self.encodedImgs[image_name]\n",
    "        image_tensor = image_tensor.permute(0,2,3,1)\n",
    "        image_tensor_view = image_tensor.view(image_tensor.size(0), -1, image_tensor.size(3))\n",
    "\n",
    "        return torch.tensor(caption_seq), torch.tensor(target_seq), image_tensor_view"
   ]
  },
  {
   "cell_type": "code",
   "execution_count": 34,
   "id": "varied-jungle",
   "metadata": {
    "execution": {
     "iopub.execute_input": "2023-11-28T16:16:25.784141Z",
     "iopub.status.busy": "2023-11-28T16:16:25.783535Z",
     "iopub.status.idle": "2023-11-28T16:16:25.786463Z",
     "shell.execute_reply": "2023-11-28T16:16:25.785891Z",
     "shell.execute_reply.started": "2023-11-28T03:12:05.084089Z"
    },
    "papermill": {
     "duration": 0.065572,
     "end_time": "2023-11-28T16:16:25.786575",
     "exception": false,
     "start_time": "2023-11-28T16:16:25.721003",
     "status": "completed"
    },
    "tags": []
   },
   "outputs": [],
   "source": [
    "def getEncodedLoader(data,pickleFile,train):\n",
    "    dataset = FlickerDataSet(data,pickleFile)\n",
    "    if train:\n",
    "        loader = DataLoader(dataset, batch_size = 32, shuffle = True)\n",
    "    else:\n",
    "        loader = DataLoader(dataset, batch_size = 32, shuffle = False)\n",
    "    \n",
    "    return loader"
   ]
  },
  {
   "cell_type": "code",
   "execution_count": 35,
   "id": "enhanced-texas",
   "metadata": {
    "execution": {
     "iopub.execute_input": "2023-11-28T16:16:25.951784Z",
     "iopub.status.busy": "2023-11-28T16:16:25.951203Z",
     "iopub.status.idle": "2023-11-28T16:16:27.009457Z",
     "shell.execute_reply": "2023-11-28T16:16:27.008747Z",
     "shell.execute_reply.started": "2023-11-28T03:12:07.214404Z"
    },
    "papermill": {
     "duration": 1.120155,
     "end_time": "2023-11-28T16:16:27.009594",
     "exception": false,
     "start_time": "2023-11-28T16:16:25.889439",
     "status": "completed"
    },
    "tags": []
   },
   "outputs": [],
   "source": [
    "train_resnet_loader = getEncodedLoader(train,'resnetTrainEncoder.pkl',True)\n",
    "valid_resnet_loader = getEncodedLoader(valid, 'resnetValidEncoder.pkl',False)"
   ]
  },
  {
   "cell_type": "code",
   "execution_count": 36,
   "id": "imperial-plymouth",
   "metadata": {
    "execution": {
     "iopub.execute_input": "2023-11-28T16:16:27.130893Z",
     "iopub.status.busy": "2023-11-28T16:16:27.130278Z",
     "iopub.status.idle": "2023-11-28T16:16:33.263235Z",
     "shell.execute_reply": "2023-11-28T16:16:33.262558Z",
     "shell.execute_reply.started": "2023-11-28T03:14:49.406418Z"
    },
    "papermill": {
     "duration": 6.195185,
     "end_time": "2023-11-28T16:16:33.263380",
     "exception": false,
     "start_time": "2023-11-28T16:16:27.068195",
     "status": "completed"
    },
    "tags": []
   },
   "outputs": [],
   "source": [
    "train_inception_loader = getEncodedLoader(train,'inceptionTrainEncoder.pkl',True)\n",
    "valid_inception_loader = getEncodedLoader(valid,'inceptionValidEncoder.pkl',False)"
   ]
  },
  {
   "cell_type": "markdown",
   "id": "arctic-bumper",
   "metadata": {
    "papermill": {
     "duration": 0.057467,
     "end_time": "2023-11-28T16:16:33.379266",
     "exception": false,
     "start_time": "2023-11-28T16:16:33.321799",
     "status": "completed"
    },
    "tags": []
   },
   "source": [
    "## Create Transformer Decoder Model. This Model will take caption sequence and the extracted resnet image features as input and ouput 1 timestep shifted (left) caption sequence. \n",
    "## In the Transformer decoder, lookAhead and padding mask has also been applied"
   ]
  },
  {
   "cell_type": "markdown",
   "id": "stainless-orchestra",
   "metadata": {
    "papermill": {
     "duration": 0.057183,
     "end_time": "2023-11-28T16:16:33.494384",
     "exception": false,
     "start_time": "2023-11-28T16:16:33.437201",
     "status": "completed"
    },
    "tags": []
   },
   "source": [
    "### Position Embedding"
   ]
  },
  {
   "cell_type": "code",
   "execution_count": 37,
   "id": "fancy-enlargement",
   "metadata": {
    "execution": {
     "iopub.execute_input": "2023-11-28T16:16:33.620141Z",
     "iopub.status.busy": "2023-11-28T16:16:33.619286Z",
     "iopub.status.idle": "2023-11-28T16:16:33.622180Z",
     "shell.execute_reply": "2023-11-28T16:16:33.621647Z",
     "shell.execute_reply.started": "2023-11-28T03:15:17.301793Z"
    },
    "papermill": {
     "duration": 0.069896,
     "end_time": "2023-11-28T16:16:33.622311",
     "exception": false,
     "start_time": "2023-11-28T16:16:33.552415",
     "status": "completed"
    },
    "tags": []
   },
   "outputs": [],
   "source": [
    "class PositionalEncoding(nn.Module):\n",
    "\n",
    "    def __init__(self, d_model, dropout=0.1, max_len=max_seq_len):\n",
    "        super(PositionalEncoding, self).__init__()\n",
    "        self.dropout = nn.Dropout(p=dropout)\n",
    "\n",
    "        pe = torch.zeros(max_len, d_model)\n",
    "        position = torch.arange(0, max_len, dtype=torch.float).unsqueeze(1)\n",
    "        div_term = torch.exp(torch.arange(0, d_model, 2).float() * (-math.log(10000.0) / d_model))\n",
    "        pe[:, 0::2] = torch.sin(position * div_term)\n",
    "        pe[:, 1::2] = torch.cos(position * div_term)\n",
    "        pe = pe.unsqueeze(0)\n",
    "        self.register_buffer('pe', pe)\n",
    "        \n",
    "\n",
    "    def forward(self, x):\n",
    "        if self.pe.size(0) < x.size(0):\n",
    "            self.pe = self.pe.repeat(x.size(0), 1, 1).to(device)\n",
    "        self.pe = self.pe[:x.size(0), : , : ]\n",
    "        \n",
    "        x = x + self.pe\n",
    "        return self.dropout(x)"
   ]
  },
  {
   "cell_type": "markdown",
   "id": "revised-awareness",
   "metadata": {
    "papermill": {
     "duration": 0.05825,
     "end_time": "2023-11-28T16:16:33.739252",
     "exception": false,
     "start_time": "2023-11-28T16:16:33.681002",
     "status": "completed"
    },
    "tags": []
   },
   "source": [
    "## Transformer Decoder"
   ]
  },
  {
   "cell_type": "code",
   "execution_count": 38,
   "id": "closing-climate",
   "metadata": {
    "execution": {
     "iopub.execute_input": "2023-11-28T16:16:33.871128Z",
     "iopub.status.busy": "2023-11-28T16:16:33.870181Z",
     "iopub.status.idle": "2023-11-28T16:16:33.872934Z",
     "shell.execute_reply": "2023-11-28T16:16:33.872437Z",
     "shell.execute_reply.started": "2023-11-28T03:19:38.098846Z"
    },
    "papermill": {
     "duration": 0.07596,
     "end_time": "2023-11-28T16:16:33.873064",
     "exception": false,
     "start_time": "2023-11-28T16:16:33.797104",
     "status": "completed"
    },
    "tags": []
   },
   "outputs": [],
   "source": [
    "class ImageCaptionModel(nn.Module):\n",
    "    def __init__(self, n_head, n_decoder_layer, vocab_size, embedding_size):\n",
    "        super(ImageCaptionModel, self).__init__()\n",
    "        self.pos_encoder = PositionalEncoding(embedding_size, 0.1)\n",
    "        self.TransformerDecoderLayer = nn.TransformerDecoderLayer(d_model =  embedding_size, nhead = n_head)\n",
    "        self.TransformerDecoder = nn.TransformerDecoder(decoder_layer = self.TransformerDecoderLayer, num_layers = n_decoder_layer)\n",
    "        self.embedding_size = embedding_size\n",
    "        self.embedding = nn.Embedding(vocab_size , embedding_size)\n",
    "        self.last_linear_layer = nn.Linear(embedding_size, vocab_size)\n",
    "        self.init_weights()\n",
    "\n",
    "    def init_weights(self):\n",
    "        initrange = 0.1\n",
    "        self.embedding.weight.data.uniform_(-initrange, initrange)\n",
    "        self.last_linear_layer.bias.data.zero_()\n",
    "        self.last_linear_layer.weight.data.uniform_(-initrange, initrange)\n",
    "\n",
    "    def generate_Mask(self, size, decoder_inp):\n",
    "        decoder_input_mask = (torch.triu(torch.ones(size, size)) == 1).transpose(0, 1)\n",
    "        decoder_input_mask = decoder_input_mask.float().masked_fill(decoder_input_mask == 0, float('-inf')).masked_fill(decoder_input_mask == 1, float(0.0))\n",
    "\n",
    "        decoder_input_pad_mask = decoder_inp.float().masked_fill(decoder_inp == 0, float(0.0)).masked_fill(decoder_inp > 0, float(1.0))\n",
    "        decoder_input_pad_mask_bool = decoder_inp == 0\n",
    "\n",
    "        return decoder_input_mask, decoder_input_pad_mask, decoder_input_pad_mask_bool\n",
    "\n",
    "    def forward(self, encoded_image, decoder_inp):\n",
    "        encoded_image = encoded_image.permute(1,0,2)\n",
    "        \n",
    "#         print(decoder_inp)\n",
    "        \n",
    "#         print(self.embedding_size)\n",
    "        \n",
    "        decoder_inp_embed = self.embedding(decoder_inp)* math.sqrt(self.embedding_size)\n",
    "        \n",
    "#         print(f'First one: {decoder_inp_embed}')\n",
    "        \n",
    "        decoder_inp_embed = self.pos_encoder(decoder_inp_embed)\n",
    "        decoder_inp_embed = decoder_inp_embed.permute(1,0,2)\n",
    "        \n",
    "\n",
    "        decoder_input_mask, decoder_input_pad_mask, decoder_input_pad_mask_bool = self.generate_Mask(decoder_inp.size(1), decoder_inp)\n",
    "        decoder_input_mask = decoder_input_mask.to(device)\n",
    "        decoder_input_pad_mask = decoder_input_pad_mask.to(device)\n",
    "        decoder_input_pad_mask_bool = decoder_input_pad_mask_bool.to(device)\n",
    "        \n",
    "#         print(f'mask: {decoder_input_mask}')\n",
    "#         print(f'second one: {decoder_inp_embed}')\n",
    "\n",
    "        decoder_output = self.TransformerDecoder(tgt = decoder_inp_embed, memory = encoded_image, tgt_mask = decoder_input_mask, tgt_key_padding_mask = decoder_input_pad_mask_bool)\n",
    "        \n",
    "        final_output = self.last_linear_layer(decoder_output)\n",
    "\n",
    "        return final_output,  decoder_input_pad_mask\n"
   ]
  },
  {
   "cell_type": "markdown",
   "id": "average-september",
   "metadata": {
    "papermill": {
     "duration": 0.057358,
     "end_time": "2023-11-28T16:16:33.988410",
     "exception": false,
     "start_time": "2023-11-28T16:16:33.931052",
     "status": "completed"
    },
    "tags": []
   },
   "source": [
    "##  Train the Model"
   ]
  },
  {
   "cell_type": "markdown",
   "id": "personalized-contamination",
   "metadata": {
    "papermill": {
     "duration": 0.057933,
     "end_time": "2023-11-28T16:16:34.103947",
     "exception": false,
     "start_time": "2023-11-28T16:16:34.046014",
     "status": "completed"
    },
    "tags": []
   },
   "source": [
    "### The cross entropy loss has been masked at time steps where input token is <'pad'>."
   ]
  },
  {
   "cell_type": "code",
   "execution_count": 39,
   "id": "transparent-vintage",
   "metadata": {
    "execution": {
     "iopub.execute_input": "2023-11-28T16:16:34.223740Z",
     "iopub.status.busy": "2023-11-28T16:16:34.222953Z",
     "iopub.status.idle": "2023-11-28T16:16:34.225909Z",
     "shell.execute_reply": "2023-11-28T16:16:34.225287Z",
     "shell.execute_reply.started": "2023-11-28T03:15:46.319213Z"
    },
    "papermill": {
     "duration": 0.063919,
     "end_time": "2023-11-28T16:16:34.226030",
     "exception": false,
     "start_time": "2023-11-28T16:16:34.162111",
     "status": "completed"
    },
    "tags": []
   },
   "outputs": [],
   "source": [
    "EPOCH = 25"
   ]
  },
  {
   "cell_type": "code",
   "execution_count": 40,
   "id": "criminal-ensemble",
   "metadata": {
    "execution": {
     "iopub.execute_input": "2023-11-28T16:16:34.345337Z",
     "iopub.status.busy": "2023-11-28T16:16:34.344703Z",
     "iopub.status.idle": "2023-11-28T16:16:34.347471Z",
     "shell.execute_reply": "2023-11-28T16:16:34.346892Z"
    },
    "papermill": {
     "duration": 0.063573,
     "end_time": "2023-11-28T16:16:34.347583",
     "exception": false,
     "start_time": "2023-11-28T16:16:34.284010",
     "status": "completed"
    },
    "tags": []
   },
   "outputs": [],
   "source": [
    "# embedding size 2048 for inception 9 X 9 output layer"
   ]
  },
  {
   "cell_type": "code",
   "execution_count": 41,
   "id": "initial-argument",
   "metadata": {
    "execution": {
     "iopub.execute_input": "2023-11-28T16:16:34.469069Z",
     "iopub.status.busy": "2023-11-28T16:16:34.468443Z",
     "iopub.status.idle": "2023-11-28T16:16:35.973450Z",
     "shell.execute_reply": "2023-11-28T16:16:35.972781Z",
     "shell.execute_reply.started": "2023-11-28T03:19:40.921356Z"
    },
    "papermill": {
     "duration": 1.567881,
     "end_time": "2023-11-28T16:16:35.973582",
     "exception": false,
     "start_time": "2023-11-28T16:16:34.405701",
     "status": "completed"
    },
    "tags": []
   },
   "outputs": [],
   "source": [
    "ictModel = ImageCaptionModel(n_head=16, n_decoder_layer=5, vocab_size=vocab_size, embedding_size=2048).to(device)\n",
    "optimizer = torch.optim.Adam(ictModel.parameters(), lr = 0.00001)\n",
    "scheduler = torch.optim.lr_scheduler.ReduceLROnPlateau(optimizer, factor = 0.8, patience=2, verbose = True)\n",
    "criterion = torch.nn.CrossEntropyLoss(reduction='none')\n",
    "min_val_loss = np.float('Inf')"
   ]
  },
  {
   "cell_type": "code",
   "execution_count": 42,
   "id": "ahead-amateur",
   "metadata": {
    "execution": {
     "iopub.execute_input": "2023-11-28T16:16:36.129224Z",
     "iopub.status.busy": "2023-11-28T16:16:36.128290Z",
     "iopub.status.idle": "2023-11-28T19:00:44.816511Z",
     "shell.execute_reply": "2023-11-28T19:00:44.813661Z",
     "shell.execute_reply.started": "2023-11-28T03:20:07.642881Z"
    },
    "papermill": {
     "duration": 9848.784557,
     "end_time": "2023-11-28T19:00:44.816653",
     "exception": false,
     "start_time": "2023-11-28T16:16:36.032096",
     "status": "completed"
    },
    "tags": []
   },
   "outputs": [
    {
     "data": {
      "application/vnd.jupyter.widget-view+json": {
       "model_id": "21ecde0cf8b9411894a57528c937a6bc",
       "version_major": 2,
       "version_minor": 0
      },
      "text/plain": [
       "  0%|          | 0/25 [00:00<?, ?it/s]"
      ]
     },
     "metadata": {},
     "output_type": "display_data"
    },
    {
     "name": "stdout",
     "output_type": "stream",
     "text": [
      "Epoch ->  0  Training Loss ->  6.0992112159729 Eval Loss ->  5.5920586585998535\n",
      "Writing Model at epoch  0\n",
      "Epoch ->  1  Training Loss ->  5.749101638793945 Eval Loss ->  5.578451156616211\n",
      "Writing Model at epoch  1\n",
      "Epoch ->  2  Training Loss ->  5.720700740814209 Eval Loss ->  5.573095321655273\n",
      "Writing Model at epoch  2\n",
      "Epoch ->  3  Training Loss ->  5.703803539276123 Eval Loss ->  5.580995082855225\n",
      "Epoch ->  4  Training Loss ->  5.6910271644592285 Eval Loss ->  5.5834221839904785\n",
      "Epoch ->  5  Training Loss ->  5.683437347412109 Eval Loss ->  5.583168029785156\n",
      "Epoch     6: reducing learning rate of group 0 to 8.0000e-06.\n",
      "Epoch ->  6  Training Loss ->  5.672372817993164 Eval Loss ->  5.587848663330078\n",
      "Epoch ->  7  Training Loss ->  5.663800239562988 Eval Loss ->  5.588690280914307\n",
      "Epoch ->  8  Training Loss ->  5.6576385498046875 Eval Loss ->  5.590116024017334\n",
      "Epoch     9: reducing learning rate of group 0 to 6.4000e-06.\n",
      "Epoch ->  9  Training Loss ->  5.654189586639404 Eval Loss ->  5.59318208694458\n",
      "Epoch ->  10  Training Loss ->  5.645646572113037 Eval Loss ->  5.598055362701416\n",
      "Epoch ->  11  Training Loss ->  5.643673896789551 Eval Loss ->  5.6021904945373535\n",
      "Epoch    12: reducing learning rate of group 0 to 5.1200e-06.\n",
      "Epoch ->  12  Training Loss ->  5.635307788848877 Eval Loss ->  5.600485801696777\n",
      "Epoch ->  13  Training Loss ->  5.631871700286865 Eval Loss ->  5.600555419921875\n",
      "Epoch ->  14  Training Loss ->  5.628702640533447 Eval Loss ->  5.599842548370361\n",
      "Epoch    15: reducing learning rate of group 0 to 4.0960e-06.\n",
      "Epoch ->  15  Training Loss ->  5.6221089363098145 Eval Loss ->  5.599581718444824\n",
      "Epoch ->  16  Training Loss ->  5.618473529815674 Eval Loss ->  5.59999942779541\n",
      "Epoch ->  17  Training Loss ->  5.6125311851501465 Eval Loss ->  5.599069595336914\n",
      "Epoch    18: reducing learning rate of group 0 to 3.2768e-06.\n",
      "Epoch ->  18  Training Loss ->  5.6053147315979 Eval Loss ->  5.597529888153076\n",
      "Epoch ->  19  Training Loss ->  5.601103782653809 Eval Loss ->  5.5978522300720215\n",
      "Epoch ->  20  Training Loss ->  5.597502708435059 Eval Loss ->  5.598044395446777\n",
      "Epoch    21: reducing learning rate of group 0 to 2.6214e-06.\n",
      "Epoch ->  21  Training Loss ->  5.591978073120117 Eval Loss ->  5.597818851470947\n",
      "Epoch ->  22  Training Loss ->  5.586987018585205 Eval Loss ->  5.6010541915893555\n",
      "Epoch ->  23  Training Loss ->  5.5891523361206055 Eval Loss ->  5.598156452178955\n",
      "Epoch    24: reducing learning rate of group 0 to 2.0972e-06.\n",
      "Epoch ->  24  Training Loss ->  5.582265377044678 Eval Loss ->  5.59806489944458\n"
     ]
    }
   ],
   "source": [
    "train_losses = []\n",
    "valid_losses = []\n",
    "for epoch in tqdm(range(EPOCH)):\n",
    "    total_epoch_train_loss = 0\n",
    "    total_epoch_valid_loss = 0\n",
    "    total_train_words = 0\n",
    "    total_valid_words = 0\n",
    "    ictModel.train()\n",
    "\n",
    "    ### Train Loop\n",
    "    for caption_seq, target_seq, image_embed in train_inception_loader:\n",
    "\n",
    "        optimizer.zero_grad()\n",
    "\n",
    "        image_embed = image_embed.squeeze(1).to(device)\n",
    "        caption_seq = caption_seq.to(device)\n",
    "        target_seq = target_seq.to(device)\n",
    "\n",
    "        output, padding_mask = ictModel.forward(image_embed, caption_seq)\n",
    "        output = output.permute(1, 2, 0)\n",
    "\n",
    "        loss = criterion(output,target_seq)\n",
    "\n",
    "        loss_masked = torch.mul(loss, padding_mask)\n",
    "\n",
    "        final_batch_loss = torch.sum(loss_masked)/torch.sum(padding_mask)\n",
    "\n",
    "        final_batch_loss.backward()\n",
    "        optimizer.step()\n",
    "        total_epoch_train_loss += torch.sum(loss_masked).detach().item()\n",
    "        total_train_words += torch.sum(padding_mask)\n",
    "\n",
    " \n",
    "    total_epoch_train_loss = total_epoch_train_loss/total_train_words\n",
    "  \n",
    "\n",
    "    ### Eval Loop\n",
    "    ictModel.eval()\n",
    "    with torch.no_grad():\n",
    "        for caption_seq, target_seq, image_embed in valid_inception_loader:\n",
    "\n",
    "            image_embed = image_embed.squeeze(1).to(device)\n",
    "            caption_seq = caption_seq.to(device)\n",
    "            target_seq = target_seq.to(device)\n",
    "\n",
    "            output, padding_mask = ictModel.forward(image_embed, caption_seq)\n",
    "            output = output.permute(1, 2, 0)\n",
    "\n",
    "            loss = criterion(output,target_seq)\n",
    "\n",
    "            loss_masked = torch.mul(loss, padding_mask)\n",
    "\n",
    "            total_epoch_valid_loss += torch.sum(loss_masked).detach().item()\n",
    "            total_valid_words += torch.sum(padding_mask)\n",
    "\n",
    "    total_epoch_valid_loss = total_epoch_valid_loss/total_valid_words\n",
    "    \n",
    "    \n",
    "  \n",
    "    print(\"Epoch -> \", epoch,\" Training Loss -> \", total_epoch_train_loss.item(), \"Eval Loss -> \", total_epoch_valid_loss.item() )\n",
    "    \n",
    "    train_losses.append(total_epoch_train_loss.item())\n",
    "    valid_losses.append(total_epoch_valid_loss.item())\n",
    "    \n",
    "    if min_val_loss > total_epoch_valid_loss:\n",
    "        print(\"Writing Model at epoch \", epoch)\n",
    "        torch.save(ictModel, './BestModel.pt')\n",
    "        min_val_loss = total_epoch_valid_loss\n",
    "  \n",
    "\n",
    "    scheduler.step(total_epoch_valid_loss.item())"
   ]
  },
  {
   "cell_type": "code",
   "execution_count": 43,
   "id": "legal-indonesian",
   "metadata": {
    "execution": {
     "iopub.execute_input": "2023-11-28T19:00:44.954782Z",
     "iopub.status.busy": "2023-11-28T19:00:44.954079Z",
     "iopub.status.idle": "2023-11-28T19:00:50.495741Z",
     "shell.execute_reply": "2023-11-28T19:00:50.495020Z",
     "shell.execute_reply.started": "2023-11-28T03:45:06.368126Z"
    },
    "papermill": {
     "duration": 5.612206,
     "end_time": "2023-11-28T19:00:50.495901",
     "exception": false,
     "start_time": "2023-11-28T19:00:44.883695",
     "status": "completed"
    },
    "tags": []
   },
   "outputs": [],
   "source": [
    "torch.save(ictModel,'FinalModel.pt')"
   ]
  },
  {
   "cell_type": "code",
   "execution_count": 44,
   "id": "prerequisite-block",
   "metadata": {
    "execution": {
     "iopub.execute_input": "2023-11-28T19:00:50.651190Z",
     "iopub.status.busy": "2023-11-28T19:00:50.650506Z",
     "iopub.status.idle": "2023-11-28T19:00:50.814561Z",
     "shell.execute_reply": "2023-11-28T19:00:50.813963Z"
    },
    "papermill": {
     "duration": 0.25138,
     "end_time": "2023-11-28T19:00:50.814704",
     "exception": false,
     "start_time": "2023-11-28T19:00:50.563324",
     "status": "completed"
    },
    "tags": []
   },
   "outputs": [
    {
     "data": {
      "image/png": "[encoded data removed]",
      "text/plain": [
       "<Figure size 432x288 with 1 Axes>"
      ]
     },
     "metadata": {
      "needs_background": "light"
     },
     "output_type": "display_data"
    },
    {
     "data": {
      "text/plain": [
       "<Figure size 432x288 with 0 Axes>"
      ]
     },
     "metadata": {},
     "output_type": "display_data"
    }
   ],
   "source": [
    "plt.plot(train_losses, label = 'Training Loss')\n",
    "plt.plot(valid_losses, label = 'Validation Loss')\n",
    "\n",
    "plt.legend()\n",
    "plt.show()\n",
    "\n",
    "plt.savefig('Loss.png')"
   ]
  },
  {
   "cell_type": "markdown",
   "id": "resistant-innocent",
   "metadata": {
    "papermill": {
     "duration": 0.068519,
     "end_time": "2023-11-28T19:00:50.952193",
     "exception": false,
     "start_time": "2023-11-28T19:00:50.883674",
     "status": "completed"
    },
    "tags": []
   },
   "source": [
    "## Lets Generate Captions !!!"
   ]
  },
  {
   "cell_type": "code",
   "execution_count": 45,
   "id": "united-equipment",
   "metadata": {
    "execution": {
     "iopub.execute_input": "2023-11-28T19:00:51.093595Z",
     "iopub.status.busy": "2023-11-28T19:00:51.092993Z",
     "iopub.status.idle": "2023-11-28T19:00:52.064001Z",
     "shell.execute_reply": "2023-11-28T19:00:52.063373Z",
     "shell.execute_reply.started": "2023-11-28T03:45:27.787351Z"
    },
    "papermill": {
     "duration": 1.04343,
     "end_time": "2023-11-28T19:00:52.064135",
     "exception": false,
     "start_time": "2023-11-28T19:00:51.020705",
     "status": "completed"
    },
    "tags": []
   },
   "outputs": [
    {
     "name": "stdout",
     "output_type": "stream",
     "text": [
      "1 2 0\n"
     ]
    }
   ],
   "source": [
    "model = torch.load('BestModel.pt')\n",
    "start_token = word_to_index['<start>']\n",
    "end_token = word_to_index['<end>']\n",
    "pad_token = word_to_index['<pad>']\n",
    "max_seq_len = 33\n",
    "print(start_token, end_token, pad_token)"
   ]
  },
  {
   "cell_type": "code",
   "execution_count": 46,
   "id": "surrounded-coordinator",
   "metadata": {
    "execution": {
     "iopub.execute_input": "2023-11-28T19:00:52.208148Z",
     "iopub.status.busy": "2023-11-28T19:00:52.207524Z",
     "iopub.status.idle": "2023-11-28T19:00:52.559046Z",
     "shell.execute_reply": "2023-11-28T19:00:52.558362Z",
     "shell.execute_reply.started": "2023-11-28T03:35:02.349830Z"
    },
    "papermill": {
     "duration": 0.42508,
     "end_time": "2023-11-28T19:00:52.559189",
     "exception": false,
     "start_time": "2023-11-28T19:00:52.134109",
     "status": "completed"
    },
    "tags": []
   },
   "outputs": [],
   "source": [
    "valid_img_embed = pd.read_pickle('inceptionValidEncoder.pkl')"
   ]
  },
  {
   "cell_type": "markdown",
   "id": "involved-stupid",
   "metadata": {
    "papermill": {
     "duration": 0.069174,
     "end_time": "2023-11-28T19:00:52.697512",
     "exception": false,
     "start_time": "2023-11-28T19:00:52.628338",
     "status": "completed"
    },
    "tags": []
   },
   "source": [
    "### Here in the below function,we are generating caption in beam search. K defines the topK token to look at each time step"
   ]
  },
  {
   "cell_type": "code",
   "execution_count": 47,
   "id": "certified-money",
   "metadata": {
    "execution": {
     "iopub.execute_input": "2023-11-28T19:00:52.847435Z",
     "iopub.status.busy": "2023-11-28T19:00:52.846572Z",
     "iopub.status.idle": "2023-11-28T19:00:52.849381Z",
     "shell.execute_reply": "2023-11-28T19:00:52.848917Z",
     "shell.execute_reply.started": "2023-11-28T03:36:15.869582Z"
    },
    "papermill": {
     "duration": 0.082507,
     "end_time": "2023-11-28T19:00:52.849502",
     "exception": false,
     "start_time": "2023-11-28T19:00:52.766995",
     "status": "completed"
    },
    "tags": []
   },
   "outputs": [],
   "source": [
    "def generate_caption(K, img_nm): \n",
    "    img_loc = '../input/flickr8k/Images/'+str(img_nm)\n",
    "    image = Image.open(img_loc).convert(\"RGB\")\n",
    "    plt.imshow(image)\n",
    "\n",
    "    model.eval() \n",
    "    valid_img_df = valid[valid['image']==img_nm]\n",
    "    print(\"Actual Caption : \")\n",
    "    print(valid_img_df['caption'].tolist())\n",
    "    img_embed = valid_img_embed[img_nm].to(device)\n",
    "\n",
    "\n",
    "    img_embed = img_embed.permute(0,2,3,1)\n",
    "    img_embed = img_embed.view(img_embed.size(0), -1, img_embed.size(3))\n",
    "\n",
    "\n",
    "    input_seq = [pad_token]*max_seq_len\n",
    "    input_seq[0] = start_token\n",
    "\n",
    "    input_seq = torch.tensor(input_seq).unsqueeze(0).to(device)\n",
    "    predicted_sentence = []\n",
    "    with torch.no_grad():\n",
    "        for eval_iter in range(0, max_seq_len):\n",
    "\n",
    "            output, padding_mask = model.forward(img_embed, input_seq)\n",
    "\n",
    "            output = output[eval_iter, 0, :]\n",
    "\n",
    "            values = torch.topk(output, K).values.tolist()\n",
    "            indices = torch.topk(output, K).indices.tolist()\n",
    "\n",
    "            next_word_index = random.choices(indices, values, k = 1)[0]\n",
    "\n",
    "            next_word = index_to_word[next_word_index]\n",
    "\n",
    "            input_seq[:, eval_iter+1] = next_word_index\n",
    "\n",
    "\n",
    "            if next_word == '<end>' :\n",
    "                break\n",
    "\n",
    "            predicted_sentence.append(next_word)\n",
    "    print(\"\\n\")\n",
    "    print(\"Predicted caption : \")\n",
    "    print(\" \".join(predicted_sentence+['.']))"
   ]
  },
  {
   "cell_type": "markdown",
   "id": "labeled-marina",
   "metadata": {
    "papermill": {
     "duration": 0.068702,
     "end_time": "2023-11-28T19:00:52.988376",
     "exception": false,
     "start_time": "2023-11-28T19:00:52.919674",
     "status": "completed"
    },
    "tags": []
   },
   "source": []
  },
  {
   "cell_type": "code",
   "execution_count": 48,
   "id": "applied-satin",
   "metadata": {
    "execution": {
     "iopub.execute_input": "2023-11-28T19:00:53.131640Z",
     "iopub.status.busy": "2023-11-28T19:00:53.131073Z",
     "iopub.status.idle": "2023-11-28T19:00:53.339768Z",
     "shell.execute_reply": "2023-11-28T19:00:53.340253Z",
     "shell.execute_reply.started": "2023-11-28T03:36:24.594759Z"
    },
    "papermill": {
     "duration": 0.281707,
     "end_time": "2023-11-28T19:00:53.340405",
     "exception": false,
     "start_time": "2023-11-28T19:00:53.058698",
     "status": "completed"
    },
    "tags": []
   },
   "outputs": [
    {
     "name": "stdout",
     "output_type": "stream",
     "text": [
      "Actual Caption : \n",
      "['Young child in pink top and purple pants clutching a turquoise guard rail .', 'A very young girl is walking on a playground .', 'The little girl is playing at the playground .', 'A little girl in pink and purple stands on a playground .', 'A female toddler wearing a pink shirt is playing on a playground .']\n",
      "\n",
      "\n",
      "Predicted caption : \n",
      "<pad> .\n"
     ]
    },
    {
     "data": {
      "image/png": "[encoded data removed]",
      "text/plain": [
       "<Figure size 432x288 with 1 Axes>"
      ]
     },
     "metadata": {
      "needs_background": "light"
     },
     "output_type": "display_data"
    }
   ],
   "source": [
    "generate_caption(2, unq_valid_imgs.iloc[50]['image'])"
   ]
  }
 ],
 "metadata": {
  "kaggle": {
   "accelerator": "gpu",
   "dataSources": [
    {
     "datasetId": 623289,
     "sourceId": 1111676,
     "sourceType": "datasetVersion"
    }
   ],
   "dockerImageVersionId": 30097,
   "isGpuEnabled": true,
   "isInternetEnabled": true,
   "language": "python",
   "sourceType": "notebook"
  },
  "kernelspec": {
   "display_name": "Python 3",
   "language": "python",
   "name": "python3"
  },
  "language_info": {
   "codemirror_mode": {
    "name": "ipython",
    "version": 3
   },
   "file_extension": ".py",
   "mimetype": "text/x-python",
   "name": "python",
   "nbconvert_exporter": "python",
   "pygments_lexer": "ipython3",
   "version": "3.7.10"
  },
  "papermill": {
   "default_parameters": {},
   "duration": 10586.411949,
   "end_time": "2023-11-28T19:00:56.263966",
   "environment_variables": {},
   "exception": null,
   "input_path": "__notebook__.ipynb",
   "output_path": "__notebook__.ipynb",
   "parameters": {},
   "start_time": "2023-11-28T16:04:29.852017",
   "version": "2.3.3"
  },
  "widgets": {
   "application/vnd.jupyter.widget-state+json": {
    "state": {
     "0e38973f30e0468098f221828fa2c0b5": {
      "model_module": "@jupyter-widgets/base",
      "model_module_version": "1.2.0",
      "model_name": "LayoutModel",
      "state": {
       "_model_module": "@jupyter-widgets/base",
       "_model_module_version": "1.2.0",
       "_model_name": "LayoutModel",
       "_view_count": null,
       "_view_module": "@jupyter-widgets/base",
       "_view_module_version": "1.2.0",
       "_view_name": "LayoutView",
       "align_content": null,
       "align_items": null,
       "align_self": null,
       "border": null,
       "bottom": null,
       "display": null,
       "flex": null,
       "flex_flow": null,
       "grid_area": null,
       "grid_auto_columns": null,
       "grid_auto_flow": null,
       "grid_auto_rows": null,
       "grid_column": null,
       "grid_gap": null,
       "grid_row": null,
       "grid_template_areas": null,
       "grid_template_columns": null,
       "grid_template_rows": null,
       "height": null,
       "justify_content": null,
       "justify_items": null,
       "left": null,
       "margin": null,
       "max_height": null,
       "max_width": null,
       "min_height": null,
       "min_width": null,
       "object_fit": null,
       "object_position": null,
       "order": null,
       "overflow": null,
       "overflow_x": null,
       "overflow_y": null,
       "padding": null,
       "right": null,
       "top": null,
       "visibility": null,
       "width": null
      }
     },
     "12775abfd15b42c9b1ad91ce62b06355": {
      "model_module": "@jupyter-widgets/base",
      "model_module_version": "1.2.0",
      "model_name": "LayoutModel",
      "state": {
       "_model_module": "@jupyter-widgets/base",
       "_model_module_version": "1.2.0",
       "_model_name": "LayoutModel",
       "_view_count": null,
       "_view_module": "@jupyter-widgets/base",
       "_view_module_version": "1.2.0",
       "_view_name": "LayoutView",
       "align_content": null,
       "align_items": null,
       "align_self": null,
       "border": null,
       "bottom": null,
       "display": null,
       "flex": null,
       "flex_flow": null,
       "grid_area": null,
       "grid_auto_columns": null,
       "grid_auto_flow": null,
       "grid_auto_rows": null,
       "grid_column": null,
       "grid_gap": null,
       "grid_row": null,
       "grid_template_areas": null,
       "grid_template_columns": null,
       "grid_template_rows": null,
       "height": null,
       "justify_content": null,
       "justify_items": null,
       "left": null,
       "margin": null,
       "max_height": null,
       "max_width": null,
       "min_height": null,
       "min_width": null,
       "object_fit": null,
       "object_position": null,
       "order": null,
       "overflow": null,
       "overflow_x": null,
       "overflow_y": null,
       "padding": null,
       "right": null,
       "top": null,
       "visibility": null,
       "width": null
      }
     },
     "12f490c56c0d4763aa3a407145be5f74": {
      "model_module": "@jupyter-widgets/base",
      "model_module_version": "1.2.0",
      "model_name": "LayoutModel",
      "state": {
       "_model_module": "@jupyter-widgets/base",
       "_model_module_version": "1.2.0",
       "_model_name": "LayoutModel",
       "_view_count": null,
       "_view_module": "@jupyter-widgets/base",
       "_view_module_version": "1.2.0",
       "_view_name": "LayoutView",
       "align_content": null,
       "align_items": null,
       "align_self": null,
       "border": null,
       "bottom": null,
       "display": null,
       "flex": null,
       "flex_flow": null,
       "grid_area": null,
       "grid_auto_columns": null,
       "grid_auto_flow": null,
       "grid_auto_rows": null,
       "grid_column": null,
       "grid_gap": null,
       "grid_row": null,
       "grid_template_areas": null,
       "grid_template_columns": null,
       "grid_template_rows": null,
       "height": null,
       "justify_content": null,
       "justify_items": null,
       "left": null,
       "margin": null,
       "max_height": null,
       "max_width": null,
       "min_height": null,
       "min_width": null,
       "object_fit": null,
       "object_position": null,
       "order": null,
       "overflow": null,
       "overflow_x": null,
       "overflow_y": null,
       "padding": null,
       "right": null,
       "top": null,
       "visibility": null,
       "width": null
      }
     },
     "138d6a83be084fa49b2bb8358ca7ef3e": {
      "model_module": "@jupyter-widgets/controls",
      "model_module_version": "1.5.0",
      "model_name": "HBoxModel",
      "state": {
       "_dom_classes": [],
       "_model_module": "@jupyter-widgets/controls",
       "_model_module_version": "1.5.0",
       "_model_name": "HBoxModel",
       "_view_count": null,
       "_view_module": "@jupyter-widgets/controls",
       "_view_module_version": "1.5.0",
       "_view_name": "HBoxView",
       "box_style": "",
       "children": [
        "IPY_MODEL_c47e860f4f7d40c49924537255a5aaab",
        "IPY_MODEL_b34bab3f50b344b4aa7bd7be41f9b2c5",
        "IPY_MODEL_1b1a25bf0f9b44ed883ba49032d3d92e"
       ],
       "layout": "IPY_MODEL_d59661e6c4c44f949ddaef78795961d5"
      }
     },
     "140a9baf113743fda415eede5a9a4458": {
      "model_module": "@jupyter-widgets/controls",
      "model_module_version": "1.5.0",
      "model_name": "ProgressStyleModel",
      "state": {
       "_model_module": "@jupyter-widgets/controls",
       "_model_module_version": "1.5.0",
       "_model_name": "ProgressStyleModel",
       "_view_count": null,
       "_view_module": "@jupyter-widgets/base",
       "_view_module_version": "1.2.0",
       "_view_name": "StyleView",
       "bar_color": null,
       "description_width": ""
      }
     },
     "1ad4b71d11624bf1ae6b88c203d55f8f": {
      "model_module": "@jupyter-widgets/base",
      "model_module_version": "1.2.0",
      "model_name": "LayoutModel",
      "state": {
       "_model_module": "@jupyter-widgets/base",
       "_model_module_version": "1.2.0",
       "_model_name": "LayoutModel",
       "_view_count": null,
       "_view_module": "@jupyter-widgets/base",
       "_view_module_version": "1.2.0",
       "_view_name": "LayoutView",
       "align_content": null,
       "align_items": null,
       "align_self": null,
       "border": null,
       "bottom": null,
       "display": null,
       "flex": null,
       "flex_flow": null,
       "grid_area": null,
       "grid_auto_columns": null,
       "grid_auto_flow": null,
       "grid_auto_rows": null,
       "grid_column": null,
       "grid_gap": null,
       "grid_row": null,
       "grid_template_areas": null,
       "grid_template_columns": null,
       "grid_template_rows": null,
       "height": null,
       "justify_content": null,
       "justify_items": null,
       "left": null,
       "margin": null,
       "max_height": null,
       "max_width": null,
       "min_height": null,
       "min_width": null,
       "object_fit": null,
       "object_position": null,
       "order": null,
       "overflow": null,
       "overflow_x": null,
       "overflow_y": null,
       "padding": null,
       "right": null,
       "top": null,
       "visibility": null,
       "width": null
      }
     },
     "1b1a25bf0f9b44ed883ba49032d3d92e": {
      "model_module": "@jupyter-widgets/controls",
      "model_module_version": "1.5.0",
      "model_name": "HTMLModel",
      "state": {
       "_dom_classes": [],
       "_model_module": "@jupyter-widgets/controls",
       "_model_module_version": "1.5.0",
       "_model_name": "HTMLModel",
       "_view_count": null,
       "_view_module": "@jupyter-widgets/controls",
       "_view_module_version": "1.5.0",
       "_view_name": "HTMLView",
       "description": "",
       "description_tooltip": null,
       "layout": "IPY_MODEL_5194bc2c1ab34a25819123a93a5c7806",
       "placeholder": "​",
       "style": "IPY_MODEL_c205455f09894d1d82a14830169aeebf",
       "value": " 7282/7282 [03:00&lt;00:00, 39.84it/s]"
      }
     },
     "1e25b9aab68b4dabae174d4cb89ce100": {
      "model_module": "@jupyter-widgets/controls",
      "model_module_version": "1.5.0",
      "model_name": "HTMLModel",
      "state": {
       "_dom_classes": [],
       "_model_module": "@jupyter-widgets/controls",
       "_model_module_version": "1.5.0",
       "_model_name": "HTMLModel",
       "_view_count": null,
       "_view_module": "@jupyter-widgets/controls",
       "_view_module_version": "1.5.0",
       "_view_name": "HTMLView",
       "description": "",
       "description_tooltip": null,
       "layout": "IPY_MODEL_d5a7010430de4871aed98ea2fb8ab8e5",
       "placeholder": "​",
       "style": "IPY_MODEL_bddff59f93e14637bdc1bce84b9a7ac6",
       "value": " 810/810 [00:17&lt;00:00, 48.53it/s]"
      }
     },
     "21883da5fb5449019cd4bfd90642b3f6": {
      "model_module": "@jupyter-widgets/base",
      "model_module_version": "1.2.0",
      "model_name": "LayoutModel",
      "state": {
       "_model_module": "@jupyter-widgets/base",
       "_model_module_version": "1.2.0",
       "_model_name": "LayoutModel",
       "_view_count": null,
       "_view_module": "@jupyter-widgets/base",
       "_view_module_version": "1.2.0",
       "_view_name": "LayoutView",
       "align_content": null,
       "align_items": null,
       "align_self": null,
       "border": null,
       "bottom": null,
       "display": null,
       "flex": null,
       "flex_flow": null,
       "grid_area": null,
       "grid_auto_columns": null,
       "grid_auto_flow": null,
       "grid_auto_rows": null,
       "grid_column": null,
       "grid_gap": null,
       "grid_row": null,
       "grid_template_areas": null,
       "grid_template_columns": null,
       "grid_template_rows": null,
       "height": null,
       "justify_content": null,
       "justify_items": null,
       "left": null,
       "margin": null,
       "max_height": null,
       "max_width": null,
       "min_height": null,
       "min_width": null,
       "object_fit": null,
       "object_position": null,
       "order": null,
       "overflow": null,
       "overflow_x": null,
       "overflow_y": null,
       "padding": null,
       "right": null,
       "top": null,
       "visibility": null,
       "width": null
      }
     },
     "21c3c086ff134f0d90753ccef5b7854d": {
      "model_module": "@jupyter-widgets/controls",
      "model_module_version": "1.5.0",
      "model_name": "DescriptionStyleModel",
      "state": {
       "_model_module": "@jupyter-widgets/controls",
       "_model_module_version": "1.5.0",
       "_model_name": "DescriptionStyleModel",
       "_view_count": null,
       "_view_module": "@jupyter-widgets/base",
       "_view_module_version": "1.2.0",
       "_view_name": "StyleView",
       "description_width": ""
      }
     },
     "21ecde0cf8b9411894a57528c937a6bc": {
      "model_module": "@jupyter-widgets/controls",
      "model_module_version": "1.5.0",
      "model_name": "HBoxModel",
      "state": {
       "_dom_classes": [],
       "_model_module": "@jupyter-widgets/controls",
       "_model_module_version": "1.5.0",
       "_model_name": "HBoxModel",
       "_view_count": null,
       "_view_module": "@jupyter-widgets/controls",
       "_view_module_version": "1.5.0",
       "_view_name": "HBoxView",
       "box_style": "",
       "children": [
        "IPY_MODEL_36b0c1dc4e404236b577cb5d83120545",
        "IPY_MODEL_da3e4ff55f7a49b2ba9537a2c6fd0540",
        "IPY_MODEL_77fadcdc368b42aaace0157472443181"
       ],
       "layout": "IPY_MODEL_c4ea353dbe2747e0a62c4758bfef522f"
      }
     },
     "22fcdc886cf84c0888794cb8f3077a17": {
      "model_module": "@jupyter-widgets/base",
      "model_module_version": "1.2.0",
      "model_name": "LayoutModel",
      "state": {
       "_model_module": "@jupyter-widgets/base",
       "_model_module_version": "1.2.0",
       "_model_name": "LayoutModel",
       "_view_count": null,
       "_view_module": "@jupyter-widgets/base",
       "_view_module_version": "1.2.0",
       "_view_name": "LayoutView",
       "align_content": null,
       "align_items": null,
       "align_self": null,
       "border": null,
       "bottom": null,
       "display": null,
       "flex": null,
       "flex_flow": null,
       "grid_area": null,
       "grid_auto_columns": null,
       "grid_auto_flow": null,
       "grid_auto_rows": null,
       "grid_column": null,
       "grid_gap": null,
       "grid_row": null,
       "grid_template_areas": null,
       "grid_template_columns": null,
       "grid_template_rows": null,
       "height": null,
       "justify_content": null,
       "justify_items": null,
       "left": null,
       "margin": null,
       "max_height": null,
       "max_width": null,
       "min_height": null,
       "min_width": null,
       "object_fit": null,
       "object_position": null,
       "order": null,
       "overflow": null,
       "overflow_x": null,
       "overflow_y": null,
       "padding": null,
       "right": null,
       "top": null,
       "visibility": null,
       "width": null
      }
     },
     "244563f138f64896b5c3a6f12dc489e1": {
      "model_module": "@jupyter-widgets/controls",
      "model_module_version": "1.5.0",
      "model_name": "HBoxModel",
      "state": {
       "_dom_classes": [],
       "_model_module": "@jupyter-widgets/controls",
       "_model_module_version": "1.5.0",
       "_model_name": "HBoxModel",
       "_view_count": null,
       "_view_module": "@jupyter-widgets/controls",
       "_view_module_version": "1.5.0",
       "_view_name": "HBoxView",
       "box_style": "",
       "children": [
        "IPY_MODEL_cb1c209e7f8e4eecb0791b0ea31ca9da",
        "IPY_MODEL_7f47ea880ca84b10a70cd4592ec9ede8",
        "IPY_MODEL_1e25b9aab68b4dabae174d4cb89ce100"
       ],
       "layout": "IPY_MODEL_12f490c56c0d4763aa3a407145be5f74"
      }
     },
     "2854c12063b646b7b830b02a3989783c": {
      "model_module": "@jupyter-widgets/controls",
      "model_module_version": "1.5.0",
      "model_name": "ProgressStyleModel",
      "state": {
       "_model_module": "@jupyter-widgets/controls",
       "_model_module_version": "1.5.0",
       "_model_name": "ProgressStyleModel",
       "_view_count": null,
       "_view_module": "@jupyter-widgets/base",
       "_view_module_version": "1.2.0",
       "_view_name": "StyleView",
       "bar_color": null,
       "description_width": ""
      }
     },
     "2a183043224246968b942828eb5ecd9d": {
      "model_module": "@jupyter-widgets/controls",
      "model_module_version": "1.5.0",
      "model_name": "DescriptionStyleModel",
      "state": {
       "_model_module": "@jupyter-widgets/controls",
       "_model_module_version": "1.5.0",
       "_model_name": "DescriptionStyleModel",
       "_view_count": null,
       "_view_module": "@jupyter-widgets/base",
       "_view_module_version": "1.2.0",
       "_view_name": "StyleView",
       "description_width": ""
      }
     },
     "2ba52a2b907d4d899699e7ca52f90ad1": {
      "model_module": "@jupyter-widgets/controls",
      "model_module_version": "1.5.0",
      "model_name": "FloatProgressModel",
      "state": {
       "_dom_classes": [],
       "_model_module": "@jupyter-widgets/controls",
       "_model_module_version": "1.5.0",
       "_model_name": "FloatProgressModel",
       "_view_count": null,
       "_view_module": "@jupyter-widgets/controls",
       "_view_module_version": "1.5.0",
       "_view_name": "ProgressView",
       "bar_style": "danger",
       "description": "",
       "description_tooltip": null,
       "layout": "IPY_MODEL_ab6447d5659642fba5cf3134da04be4b",
       "max": 7282.0,
       "min": 0.0,
       "orientation": "horizontal",
       "style": "IPY_MODEL_446893ca5a7340ee8f03b523fb08e95c",
       "value": 0.0
      }
     },
     "32875fc0c42142748768cee264392659": {
      "model_module": "@jupyter-widgets/controls",
      "model_module_version": "1.5.0",
      "model_name": "ProgressStyleModel",
      "state": {
       "_model_module": "@jupyter-widgets/controls",
       "_model_module_version": "1.5.0",
       "_model_name": "ProgressStyleModel",
       "_view_count": null,
       "_view_module": "@jupyter-widgets/base",
       "_view_module_version": "1.2.0",
       "_view_name": "StyleView",
       "bar_color": null,
       "description_width": ""
      }
     },
     "3601e4d917a341cb83c88358a195d689": {
      "model_module": "@jupyter-widgets/base",
      "model_module_version": "1.2.0",
      "model_name": "LayoutModel",
      "state": {
       "_model_module": "@jupyter-widgets/base",
       "_model_module_version": "1.2.0",
       "_model_name": "LayoutModel",
       "_view_count": null,
       "_view_module": "@jupyter-widgets/base",
       "_view_module_version": "1.2.0",
       "_view_name": "LayoutView",
       "align_content": null,
       "align_items": null,
       "align_self": null,
       "border": null,
       "bottom": null,
       "display": null,
       "flex": null,
       "flex_flow": null,
       "grid_area": null,
       "grid_auto_columns": null,
       "grid_auto_flow": null,
       "grid_auto_rows": null,
       "grid_column": null,
       "grid_gap": null,
       "grid_row": null,
       "grid_template_areas": null,
       "grid_template_columns": null,
       "grid_template_rows": null,
       "height": null,
       "justify_content": null,
       "justify_items": null,
       "left": null,
       "margin": null,
       "max_height": null,
       "max_width": null,
       "min_height": null,
       "min_width": null,
       "object_fit": null,
       "object_position": null,
       "order": null,
       "overflow": null,
       "overflow_x": null,
       "overflow_y": null,
       "padding": null,
       "right": null,
       "top": null,
       "visibility": null,
       "width": null
      }
     },
     "36b0c1dc4e404236b577cb5d83120545": {
      "model_module": "@jupyter-widgets/controls",
      "model_module_version": "1.5.0",
      "model_name": "HTMLModel",
      "state": {
       "_dom_classes": [],
       "_model_module": "@jupyter-widgets/controls",
       "_model_module_version": "1.5.0",
       "_model_name": "HTMLModel",
       "_view_count": null,
       "_view_module": "@jupyter-widgets/controls",
       "_view_module_version": "1.5.0",
       "_view_name": "HTMLView",
       "description": "",
       "description_tooltip": null,
       "layout": "IPY_MODEL_c6c5071464464b39b5c6aa99dd930973",
       "placeholder": "​",
       "style": "IPY_MODEL_e331532169884741b9d3620add82e19c",
       "value": "100%"
      }
     },
     "3abaa55899f7457881c0cc4a08bae818": {
      "model_module": "@jupyter-widgets/controls",
      "model_module_version": "1.5.0",
      "model_name": "DescriptionStyleModel",
      "state": {
       "_model_module": "@jupyter-widgets/controls",
       "_model_module_version": "1.5.0",
       "_model_name": "DescriptionStyleModel",
       "_view_count": null,
       "_view_module": "@jupyter-widgets/base",
       "_view_module_version": "1.2.0",
       "_view_name": "StyleView",
       "description_width": ""
      }
     },
     "3c3d2962e0074115b00a0d4626a68e76": {
      "model_module": "@jupyter-widgets/controls",
      "model_module_version": "1.5.0",
      "model_name": "DescriptionStyleModel",
      "state": {
       "_model_module": "@jupyter-widgets/controls",
       "_model_module_version": "1.5.0",
       "_model_name": "DescriptionStyleModel",
       "_view_count": null,
       "_view_module": "@jupyter-widgets/base",
       "_view_module_version": "1.2.0",
       "_view_name": "StyleView",
       "description_width": ""
      }
     },
     "3e06c3be57964828beb13447b8ca8934": {
      "model_module": "@jupyter-widgets/controls",
      "model_module_version": "1.5.0",
      "model_name": "DescriptionStyleModel",
      "state": {
       "_model_module": "@jupyter-widgets/controls",
       "_model_module_version": "1.5.0",
       "_model_name": "DescriptionStyleModel",
       "_view_count": null,
       "_view_module": "@jupyter-widgets/base",
       "_view_module_version": "1.2.0",
       "_view_name": "StyleView",
       "description_width": ""
      }
     },
     "446893ca5a7340ee8f03b523fb08e95c": {
      "model_module": "@jupyter-widgets/controls",
      "model_module_version": "1.5.0",
      "model_name": "ProgressStyleModel",
      "state": {
       "_model_module": "@jupyter-widgets/controls",
       "_model_module_version": "1.5.0",
       "_model_name": "ProgressStyleModel",
       "_view_count": null,
       "_view_module": "@jupyter-widgets/base",
       "_view_module_version": "1.2.0",
       "_view_name": "StyleView",
       "bar_color": null,
       "description_width": ""
      }
     },
     "4e0b4d03f13a4054af318381d1cd45d0": {
      "model_module": "@jupyter-widgets/controls",
      "model_module_version": "1.5.0",
      "model_name": "ProgressStyleModel",
      "state": {
       "_model_module": "@jupyter-widgets/controls",
       "_model_module_version": "1.5.0",
       "_model_name": "ProgressStyleModel",
       "_view_count": null,
       "_view_module": "@jupyter-widgets/base",
       "_view_module_version": "1.2.0",
       "_view_name": "StyleView",
       "bar_color": null,
       "description_width": ""
      }
     },
     "4fb37f4fb8164f4ea408c03fece138c1": {
      "model_module": "@jupyter-widgets/controls",
      "model_module_version": "1.5.0",
      "model_name": "HBoxModel",
      "state": {
       "_dom_classes": [],
       "_model_module": "@jupyter-widgets/controls",
       "_model_module_version": "1.5.0",
       "_model_name": "HBoxModel",
       "_view_count": null,
       "_view_module": "@jupyter-widgets/controls",
       "_view_module_version": "1.5.0",
       "_view_name": "HBoxView",
       "box_style": "",
       "children": [
        "IPY_MODEL_9be0a90c020e4cddbced3700654eac6f",
        "IPY_MODEL_f19ed5e8fd91492d8cca64bf87e7e973",
        "IPY_MODEL_dda990dd403e448fae70e5f52f0850b6"
       ],
       "layout": "IPY_MODEL_ee1e6b34febd475094387635d6dcf9a9"
      }
     },
     "5194bc2c1ab34a25819123a93a5c7806": {
      "model_module": "@jupyter-widgets/base",
      "model_module_version": "1.2.0",
      "model_name": "LayoutModel",
      "state": {
       "_model_module": "@jupyter-widgets/base",
       "_model_module_version": "1.2.0",
       "_model_name": "LayoutModel",
       "_view_count": null,
       "_view_module": "@jupyter-widgets/base",
       "_view_module_version": "1.2.0",
       "_view_name": "LayoutView",
       "align_content": null,
       "align_items": null,
       "align_self": null,
       "border": null,
       "bottom": null,
       "display": null,
       "flex": null,
       "flex_flow": null,
       "grid_area": null,
       "grid_auto_columns": null,
       "grid_auto_flow": null,
       "grid_auto_rows": null,
       "grid_column": null,
       "grid_gap": null,
       "grid_row": null,
       "grid_template_areas": null,
       "grid_template_columns": null,
       "grid_template_rows": null,
       "height": null,
       "justify_content": null,
       "justify_items": null,
       "left": null,
       "margin": null,
       "max_height": null,
       "max_width": null,
       "min_height": null,
       "min_width": null,
       "object_fit": null,
       "object_position": null,
       "order": null,
       "overflow": null,
       "overflow_x": null,
       "overflow_y": null,
       "padding": null,
       "right": null,
       "top": null,
       "visibility": null,
       "width": null
      }
     },
     "52456a3fc1e546539153f16e0d85d3d0": {
      "model_module": "@jupyter-widgets/controls",
      "model_module_version": "1.5.0",
      "model_name": "HTMLModel",
      "state": {
       "_dom_classes": [],
       "_model_module": "@jupyter-widgets/controls",
       "_model_module_version": "1.5.0",
       "_model_name": "HTMLModel",
       "_view_count": null,
       "_view_module": "@jupyter-widgets/controls",
       "_view_module_version": "1.5.0",
       "_view_name": "HTMLView",
       "description": "",
       "description_tooltip": null,
       "layout": "IPY_MODEL_cd6740595d2f42049d29ba41bfa44018",
       "placeholder": "​",
       "style": "IPY_MODEL_806382b88ade4c208e41d0cef22197f5",
       "value": " 810/810 [00:35&lt;00:00, 23.24it/s]"
      }
     },
     "55d0a354cea34a5a9f89f12999fba69f": {
      "model_module": "@jupyter-widgets/controls",
      "model_module_version": "1.5.0",
      "model_name": "HTMLModel",
      "state": {
       "_dom_classes": [],
       "_model_module": "@jupyter-widgets/controls",
       "_model_module_version": "1.5.0",
       "_model_name": "HTMLModel",
       "_view_count": null,
       "_view_module": "@jupyter-widgets/controls",
       "_view_module_version": "1.5.0",
       "_view_name": "HTMLView",
       "description": "",
       "description_tooltip": null,
       "layout": "IPY_MODEL_0e38973f30e0468098f221828fa2c0b5",
       "placeholder": "​",
       "style": "IPY_MODEL_60339360469b4ae5a1672783a03cca16",
       "value": " 7282/7282 [05:12&lt;00:00, 23.00it/s]"
      }
     },
     "57effb3f09c34ce09563a7716097f014": {
      "model_module": "@jupyter-widgets/controls",
      "model_module_version": "1.5.0",
      "model_name": "ProgressStyleModel",
      "state": {
       "_model_module": "@jupyter-widgets/controls",
       "_model_module_version": "1.5.0",
       "_model_name": "ProgressStyleModel",
       "_view_count": null,
       "_view_module": "@jupyter-widgets/base",
       "_view_module_version": "1.2.0",
       "_view_name": "StyleView",
       "bar_color": null,
       "description_width": ""
      }
     },
     "5a4eb0304b0f4ab09c45f6510689c717": {
      "model_module": "@jupyter-widgets/base",
      "model_module_version": "1.2.0",
      "model_name": "LayoutModel",
      "state": {
       "_model_module": "@jupyter-widgets/base",
       "_model_module_version": "1.2.0",
       "_model_name": "LayoutModel",
       "_view_count": null,
       "_view_module": "@jupyter-widgets/base",
       "_view_module_version": "1.2.0",
       "_view_name": "LayoutView",
       "align_content": null,
       "align_items": null,
       "align_self": null,
       "border": null,
       "bottom": null,
       "display": null,
       "flex": null,
       "flex_flow": null,
       "grid_area": null,
       "grid_auto_columns": null,
       "grid_auto_flow": null,
       "grid_auto_rows": null,
       "grid_column": null,
       "grid_gap": null,
       "grid_row": null,
       "grid_template_areas": null,
       "grid_template_columns": null,
       "grid_template_rows": null,
       "height": null,
       "justify_content": null,
       "justify_items": null,
       "left": null,
       "margin": null,
       "max_height": null,
       "max_width": null,
       "min_height": null,
       "min_width": null,
       "object_fit": null,
       "object_position": null,
       "order": null,
       "overflow": null,
       "overflow_x": null,
       "overflow_y": null,
       "padding": null,
       "right": null,
       "top": null,
       "visibility": null,
       "width": null
      }
     },
     "60339360469b4ae5a1672783a03cca16": {
      "model_module": "@jupyter-widgets/controls",
      "model_module_version": "1.5.0",
      "model_name": "DescriptionStyleModel",
      "state": {
       "_model_module": "@jupyter-widgets/controls",
       "_model_module_version": "1.5.0",
       "_model_name": "DescriptionStyleModel",
       "_view_count": null,
       "_view_module": "@jupyter-widgets/base",
       "_view_module_version": "1.2.0",
       "_view_name": "StyleView",
       "description_width": ""
      }
     },
     "60d46344af0b4f34a549b66270eacf27": {
      "model_module": "@jupyter-widgets/controls",
      "model_module_version": "1.5.0",
      "model_name": "DescriptionStyleModel",
      "state": {
       "_model_module": "@jupyter-widgets/controls",
       "_model_module_version": "1.5.0",
       "_model_name": "DescriptionStyleModel",
       "_view_count": null,
       "_view_module": "@jupyter-widgets/base",
       "_view_module_version": "1.2.0",
       "_view_name": "StyleView",
       "description_width": ""
      }
     },
     "6649c89b92bc415e900d1b6f2f222a30": {
      "model_module": "@jupyter-widgets/controls",
      "model_module_version": "1.5.0",
      "model_name": "HBoxModel",
      "state": {
       "_dom_classes": [],
       "_model_module": "@jupyter-widgets/controls",
       "_model_module_version": "1.5.0",
       "_model_name": "HBoxModel",
       "_view_count": null,
       "_view_module": "@jupyter-widgets/controls",
       "_view_module_version": "1.5.0",
       "_view_name": "HBoxView",
       "box_style": "",
       "children": [
        "IPY_MODEL_bb815a0c4a3b4cfeab7b4cd6e247942f",
        "IPY_MODEL_9b94b19f7b17486b948bc2daf564543c",
        "IPY_MODEL_52456a3fc1e546539153f16e0d85d3d0"
       ],
       "layout": "IPY_MODEL_21883da5fb5449019cd4bfd90642b3f6"
      }
     },
     "6c22d2117bc34a71afd4b070f683cac1": {
      "model_module": "@jupyter-widgets/base",
      "model_module_version": "1.2.0",
      "model_name": "LayoutModel",
      "state": {
       "_model_module": "@jupyter-widgets/base",
       "_model_module_version": "1.2.0",
       "_model_name": "LayoutModel",
       "_view_count": null,
       "_view_module": "@jupyter-widgets/base",
       "_view_module_version": "1.2.0",
       "_view_name": "LayoutView",
       "align_content": null,
       "align_items": null,
       "align_self": null,
       "border": null,
       "bottom": null,
       "display": null,
       "flex": null,
       "flex_flow": null,
       "grid_area": null,
       "grid_auto_columns": null,
       "grid_auto_flow": null,
       "grid_auto_rows": null,
       "grid_column": null,
       "grid_gap": null,
       "grid_row": null,
       "grid_template_areas": null,
       "grid_template_columns": null,
       "grid_template_rows": null,
       "height": null,
       "justify_content": null,
       "justify_items": null,
       "left": null,
       "margin": null,
       "max_height": null,
       "max_width": null,
       "min_height": null,
       "min_width": null,
       "object_fit": null,
       "object_position": null,
       "order": null,
       "overflow": null,
       "overflow_x": null,
       "overflow_y": null,
       "padding": null,
       "right": null,
       "top": null,
       "visibility": null,
       "width": null
      }
     },
     "6e15df801e0a4e36815c43c48a3a5aa1": {
      "model_module": "@jupyter-widgets/base",
      "model_module_version": "1.2.0",
      "model_name": "LayoutModel",
      "state": {
       "_model_module": "@jupyter-widgets/base",
       "_model_module_version": "1.2.0",
       "_model_name": "LayoutModel",
       "_view_count": null,
       "_view_module": "@jupyter-widgets/base",
       "_view_module_version": "1.2.0",
       "_view_name": "LayoutView",
       "align_content": null,
       "align_items": null,
       "align_self": null,
       "border": null,
       "bottom": null,
       "display": null,
       "flex": null,
       "flex_flow": null,
       "grid_area": null,
       "grid_auto_columns": null,
       "grid_auto_flow": null,
       "grid_auto_rows": null,
       "grid_column": null,
       "grid_gap": null,
       "grid_row": null,
       "grid_template_areas": null,
       "grid_template_columns": null,
       "grid_template_rows": null,
       "height": null,
       "justify_content": null,
       "justify_items": null,
       "left": null,
       "margin": null,
       "max_height": null,
       "max_width": null,
       "min_height": null,
       "min_width": null,
       "object_fit": null,
       "object_position": null,
       "order": null,
       "overflow": null,
       "overflow_x": null,
       "overflow_y": null,
       "padding": null,
       "right": null,
       "top": null,
       "visibility": null,
       "width": null
      }
     },
     "6e923ab9207c4b4abf27cf6e93876e32": {
      "model_module": "@jupyter-widgets/controls",
      "model_module_version": "1.5.0",
      "model_name": "DescriptionStyleModel",
      "state": {
       "_model_module": "@jupyter-widgets/controls",
       "_model_module_version": "1.5.0",
       "_model_name": "DescriptionStyleModel",
       "_view_count": null,
       "_view_module": "@jupyter-widgets/base",
       "_view_module_version": "1.2.0",
       "_view_name": "StyleView",
       "description_width": ""
      }
     },
     "700813b9ec3f425c94cc4cce5291be9c": {
      "model_module": "@jupyter-widgets/base",
      "model_module_version": "1.2.0",
      "model_name": "LayoutModel",
      "state": {
       "_model_module": "@jupyter-widgets/base",
       "_model_module_version": "1.2.0",
       "_model_name": "LayoutModel",
       "_view_count": null,
       "_view_module": "@jupyter-widgets/base",
       "_view_module_version": "1.2.0",
       "_view_name": "LayoutView",
       "align_content": null,
       "align_items": null,
       "align_self": null,
       "border": null,
       "bottom": null,
       "display": null,
       "flex": null,
       "flex_flow": null,
       "grid_area": null,
       "grid_auto_columns": null,
       "grid_auto_flow": null,
       "grid_auto_rows": null,
       "grid_column": null,
       "grid_gap": null,
       "grid_row": null,
       "grid_template_areas": null,
       "grid_template_columns": null,
       "grid_template_rows": null,
       "height": null,
       "justify_content": null,
       "justify_items": null,
       "left": null,
       "margin": null,
       "max_height": null,
       "max_width": null,
       "min_height": null,
       "min_width": null,
       "object_fit": null,
       "object_position": null,
       "order": null,
       "overflow": null,
       "overflow_x": null,
       "overflow_y": null,
       "padding": null,
       "right": null,
       "top": null,
       "visibility": null,
       "width": null
      }
     },
     "7618256a965747bdbfdabf3b696322fd": {
      "model_module": "@jupyter-widgets/base",
      "model_module_version": "1.2.0",
      "model_name": "LayoutModel",
      "state": {
       "_model_module": "@jupyter-widgets/base",
       "_model_module_version": "1.2.0",
       "_model_name": "LayoutModel",
       "_view_count": null,
       "_view_module": "@jupyter-widgets/base",
       "_view_module_version": "1.2.0",
       "_view_name": "LayoutView",
       "align_content": null,
       "align_items": null,
       "align_self": null,
       "border": null,
       "bottom": null,
       "display": null,
       "flex": null,
       "flex_flow": null,
       "grid_area": null,
       "grid_auto_columns": null,
       "grid_auto_flow": null,
       "grid_auto_rows": null,
       "grid_column": null,
       "grid_gap": null,
       "grid_row": null,
       "grid_template_areas": null,
       "grid_template_columns": null,
       "grid_template_rows": null,
       "height": null,
       "justify_content": null,
       "justify_items": null,
       "left": null,
       "margin": null,
       "max_height": null,
       "max_width": null,
       "min_height": null,
       "min_width": null,
       "object_fit": null,
       "object_position": null,
       "order": null,
       "overflow": null,
       "overflow_x": null,
       "overflow_y": null,
       "padding": null,
       "right": null,
       "top": null,
       "visibility": null,
       "width": null
      }
     },
     "77fadcdc368b42aaace0157472443181": {
      "model_module": "@jupyter-widgets/controls",
      "model_module_version": "1.5.0",
      "model_name": "HTMLModel",
      "state": {
       "_dom_classes": [],
       "_model_module": "@jupyter-widgets/controls",
       "_model_module_version": "1.5.0",
       "_model_name": "HTMLModel",
       "_view_count": null,
       "_view_module": "@jupyter-widgets/controls",
       "_view_module_version": "1.5.0",
       "_view_name": "HTMLView",
       "description": "",
       "description_tooltip": null,
       "layout": "IPY_MODEL_f3a4352b19c342f2a67979653f0a6a91",
       "placeholder": "​",
       "style": "IPY_MODEL_21c3c086ff134f0d90753ccef5b7854d",
       "value": " 25/25 [2:44:08&lt;00:00, 392.98s/it]"
      }
     },
     "7e2a3dded86a49ba992f55895083d58d": {
      "model_module": "@jupyter-widgets/base",
      "model_module_version": "1.2.0",
      "model_name": "LayoutModel",
      "state": {
       "_model_module": "@jupyter-widgets/base",
       "_model_module_version": "1.2.0",
       "_model_name": "LayoutModel",
       "_view_count": null,
       "_view_module": "@jupyter-widgets/base",
       "_view_module_version": "1.2.0",
       "_view_name": "LayoutView",
       "align_content": null,
       "align_items": null,
       "align_self": null,
       "border": null,
       "bottom": null,
       "display": null,
       "flex": null,
       "flex_flow": null,
       "grid_area": null,
       "grid_auto_columns": null,
       "grid_auto_flow": null,
       "grid_auto_rows": null,
       "grid_column": null,
       "grid_gap": null,
       "grid_row": null,
       "grid_template_areas": null,
       "grid_template_columns": null,
       "grid_template_rows": null,
       "height": null,
       "justify_content": null,
       "justify_items": null,
       "left": null,
       "margin": null,
       "max_height": null,
       "max_width": null,
       "min_height": null,
       "min_width": null,
       "object_fit": null,
       "object_position": null,
       "order": null,
       "overflow": null,
       "overflow_x": null,
       "overflow_y": null,
       "padding": null,
       "right": null,
       "top": null,
       "visibility": null,
       "width": null
      }
     },
     "7e7715c036be467ba512f2f71fe2c7a8": {
      "model_module": "@jupyter-widgets/controls",
      "model_module_version": "1.5.0",
      "model_name": "DescriptionStyleModel",
      "state": {
       "_model_module": "@jupyter-widgets/controls",
       "_model_module_version": "1.5.0",
       "_model_name": "DescriptionStyleModel",
       "_view_count": null,
       "_view_module": "@jupyter-widgets/base",
       "_view_module_version": "1.2.0",
       "_view_name": "StyleView",
       "description_width": ""
      }
     },
     "7e9130969e6c4997b779b347730e3819": {
      "model_module": "@jupyter-widgets/controls",
      "model_module_version": "1.5.0",
      "model_name": "DescriptionStyleModel",
      "state": {
       "_model_module": "@jupyter-widgets/controls",
       "_model_module_version": "1.5.0",
       "_model_name": "DescriptionStyleModel",
       "_view_count": null,
       "_view_module": "@jupyter-widgets/base",
       "_view_module_version": "1.2.0",
       "_view_name": "StyleView",
       "description_width": ""
      }
     },
     "7f47ea880ca84b10a70cd4592ec9ede8": {
      "model_module": "@jupyter-widgets/controls",
      "model_module_version": "1.5.0",
      "model_name": "FloatProgressModel",
      "state": {
       "_dom_classes": [],
       "_model_module": "@jupyter-widgets/controls",
       "_model_module_version": "1.5.0",
       "_model_name": "FloatProgressModel",
       "_view_count": null,
       "_view_module": "@jupyter-widgets/controls",
       "_view_module_version": "1.5.0",
       "_view_name": "ProgressView",
       "bar_style": "success",
       "description": "",
       "description_tooltip": null,
       "layout": "IPY_MODEL_ba51c1d6f0464c8f841a0beff8fbd37e",
       "max": 810.0,
       "min": 0.0,
       "orientation": "horizontal",
       "style": "IPY_MODEL_992a4ae502b242868978f813237d5cec",
       "value": 810.0
      }
     },
     "806382b88ade4c208e41d0cef22197f5": {
      "model_module": "@jupyter-widgets/controls",
      "model_module_version": "1.5.0",
      "model_name": "DescriptionStyleModel",
      "state": {
       "_model_module": "@jupyter-widgets/controls",
       "_model_module_version": "1.5.0",
       "_model_name": "DescriptionStyleModel",
       "_view_count": null,
       "_view_module": "@jupyter-widgets/base",
       "_view_module_version": "1.2.0",
       "_view_name": "StyleView",
       "description_width": ""
      }
     },
     "8115e13fdb7741e691c8172ecd3239df": {
      "model_module": "@jupyter-widgets/base",
      "model_module_version": "1.2.0",
      "model_name": "LayoutModel",
      "state": {
       "_model_module": "@jupyter-widgets/base",
       "_model_module_version": "1.2.0",
       "_model_name": "LayoutModel",
       "_view_count": null,
       "_view_module": "@jupyter-widgets/base",
       "_view_module_version": "1.2.0",
       "_view_name": "LayoutView",
       "align_content": null,
       "align_items": null,
       "align_self": null,
       "border": null,
       "bottom": null,
       "display": null,
       "flex": null,
       "flex_flow": null,
       "grid_area": null,
       "grid_auto_columns": null,
       "grid_auto_flow": null,
       "grid_auto_rows": null,
       "grid_column": null,
       "grid_gap": null,
       "grid_row": null,
       "grid_template_areas": null,
       "grid_template_columns": null,
       "grid_template_rows": null,
       "height": null,
       "justify_content": null,
       "justify_items": null,
       "left": null,
       "margin": null,
       "max_height": null,
       "max_width": null,
       "min_height": null,
       "min_width": null,
       "object_fit": null,
       "object_position": null,
       "order": null,
       "overflow": null,
       "overflow_x": null,
       "overflow_y": null,
       "padding": null,
       "right": null,
       "top": null,
       "visibility": null,
       "width": null
      }
     },
     "8fca668ff20149b39653d70af0e748c3": {
      "model_module": "@jupyter-widgets/base",
      "model_module_version": "1.2.0",
      "model_name": "LayoutModel",
      "state": {
       "_model_module": "@jupyter-widgets/base",
       "_model_module_version": "1.2.0",
       "_model_name": "LayoutModel",
       "_view_count": null,
       "_view_module": "@jupyter-widgets/base",
       "_view_module_version": "1.2.0",
       "_view_name": "LayoutView",
       "align_content": null,
       "align_items": null,
       "align_self": null,
       "border": null,
       "bottom": null,
       "display": null,
       "flex": null,
       "flex_flow": null,
       "grid_area": null,
       "grid_auto_columns": null,
       "grid_auto_flow": null,
       "grid_auto_rows": null,
       "grid_column": null,
       "grid_gap": null,
       "grid_row": null,
       "grid_template_areas": null,
       "grid_template_columns": null,
       "grid_template_rows": null,
       "height": null,
       "justify_content": null,
       "justify_items": null,
       "left": null,
       "margin": null,
       "max_height": null,
       "max_width": null,
       "min_height": null,
       "min_width": null,
       "object_fit": null,
       "object_position": null,
       "order": null,
       "overflow": null,
       "overflow_x": null,
       "overflow_y": null,
       "padding": null,
       "right": null,
       "top": null,
       "visibility": null,
       "width": null
      }
     },
     "992a4ae502b242868978f813237d5cec": {
      "model_module": "@jupyter-widgets/controls",
      "model_module_version": "1.5.0",
      "model_name": "ProgressStyleModel",
      "state": {
       "_model_module": "@jupyter-widgets/controls",
       "_model_module_version": "1.5.0",
       "_model_name": "ProgressStyleModel",
       "_view_count": null,
       "_view_module": "@jupyter-widgets/base",
       "_view_module_version": "1.2.0",
       "_view_name": "StyleView",
       "bar_color": null,
       "description_width": ""
      }
     },
     "9b60ae287f9545c6a36d3a2073e12228": {
      "model_module": "@jupyter-widgets/controls",
      "model_module_version": "1.5.0",
      "model_name": "DescriptionStyleModel",
      "state": {
       "_model_module": "@jupyter-widgets/controls",
       "_model_module_version": "1.5.0",
       "_model_name": "DescriptionStyleModel",
       "_view_count": null,
       "_view_module": "@jupyter-widgets/base",
       "_view_module_version": "1.2.0",
       "_view_name": "StyleView",
       "description_width": ""
      }
     },
     "9b94b19f7b17486b948bc2daf564543c": {
      "model_module": "@jupyter-widgets/controls",
      "model_module_version": "1.5.0",
      "model_name": "FloatProgressModel",
      "state": {
       "_dom_classes": [],
       "_model_module": "@jupyter-widgets/controls",
       "_model_module_version": "1.5.0",
       "_model_name": "FloatProgressModel",
       "_view_count": null,
       "_view_module": "@jupyter-widgets/controls",
       "_view_module_version": "1.5.0",
       "_view_name": "ProgressView",
       "bar_style": "success",
       "description": "",
       "description_tooltip": null,
       "layout": "IPY_MODEL_22fcdc886cf84c0888794cb8f3077a17",
       "max": 810.0,
       "min": 0.0,
       "orientation": "horizontal",
       "style": "IPY_MODEL_57effb3f09c34ce09563a7716097f014",
       "value": 810.0
      }
     },
     "9bb100649bf6412fa86b637ea63c87b8": {
      "model_module": "@jupyter-widgets/base",
      "model_module_version": "1.2.0",
      "model_name": "LayoutModel",
      "state": {
       "_model_module": "@jupyter-widgets/base",
       "_model_module_version": "1.2.0",
       "_model_name": "LayoutModel",
       "_view_count": null,
       "_view_module": "@jupyter-widgets/base",
       "_view_module_version": "1.2.0",
       "_view_name": "LayoutView",
       "align_content": null,
       "align_items": null,
       "align_self": null,
       "border": null,
       "bottom": null,
       "display": null,
       "flex": null,
       "flex_flow": null,
       "grid_area": null,
       "grid_auto_columns": null,
       "grid_auto_flow": null,
       "grid_auto_rows": null,
       "grid_column": null,
       "grid_gap": null,
       "grid_row": null,
       "grid_template_areas": null,
       "grid_template_columns": null,
       "grid_template_rows": null,
       "height": null,
       "justify_content": null,
       "justify_items": null,
       "left": null,
       "margin": null,
       "max_height": null,
       "max_width": null,
       "min_height": null,
       "min_width": null,
       "object_fit": null,
       "object_position": null,
       "order": null,
       "overflow": null,
       "overflow_x": null,
       "overflow_y": null,
       "padding": null,
       "right": null,
       "top": null,
       "visibility": null,
       "width": null
      }
     },
     "9be0a90c020e4cddbced3700654eac6f": {
      "model_module": "@jupyter-widgets/controls",
      "model_module_version": "1.5.0",
      "model_name": "HTMLModel",
      "state": {
       "_dom_classes": [],
       "_model_module": "@jupyter-widgets/controls",
       "_model_module_version": "1.5.0",
       "_model_name": "HTMLModel",
       "_view_count": null,
       "_view_module": "@jupyter-widgets/controls",
       "_view_module_version": "1.5.0",
       "_view_name": "HTMLView",
       "description": "",
       "description_tooltip": null,
       "layout": "IPY_MODEL_acc09a970f82423ca1a6673c82570606",
       "placeholder": "​",
       "style": "IPY_MODEL_6e923ab9207c4b4abf27cf6e93876e32",
       "value": "  0%"
      }
     },
     "a92db5b8de324628b9b6ca32a4e91442": {
      "model_module": "@jupyter-widgets/controls",
      "model_module_version": "1.5.0",
      "model_name": "HTMLModel",
      "state": {
       "_dom_classes": [],
       "_model_module": "@jupyter-widgets/controls",
       "_model_module_version": "1.5.0",
       "_model_name": "HTMLModel",
       "_view_count": null,
       "_view_module": "@jupyter-widgets/controls",
       "_view_module_version": "1.5.0",
       "_view_name": "HTMLView",
       "description": "",
       "description_tooltip": null,
       "layout": "IPY_MODEL_3601e4d917a341cb83c88358a195d689",
       "placeholder": "​",
       "style": "IPY_MODEL_2a183043224246968b942828eb5ecd9d",
       "value": "100%"
      }
     },
     "ab6447d5659642fba5cf3134da04be4b": {
      "model_module": "@jupyter-widgets/base",
      "model_module_version": "1.2.0",
      "model_name": "LayoutModel",
      "state": {
       "_model_module": "@jupyter-widgets/base",
       "_model_module_version": "1.2.0",
       "_model_name": "LayoutModel",
       "_view_count": null,
       "_view_module": "@jupyter-widgets/base",
       "_view_module_version": "1.2.0",
       "_view_name": "LayoutView",
       "align_content": null,
       "align_items": null,
       "align_self": null,
       "border": null,
       "bottom": null,
       "display": null,
       "flex": null,
       "flex_flow": null,
       "grid_area": null,
       "grid_auto_columns": null,
       "grid_auto_flow": null,
       "grid_auto_rows": null,
       "grid_column": null,
       "grid_gap": null,
       "grid_row": null,
       "grid_template_areas": null,
       "grid_template_columns": null,
       "grid_template_rows": null,
       "height": null,
       "justify_content": null,
       "justify_items": null,
       "left": null,
       "margin": null,
       "max_height": null,
       "max_width": null,
       "min_height": null,
       "min_width": null,
       "object_fit": null,
       "object_position": null,
       "order": null,
       "overflow": null,
       "overflow_x": null,
       "overflow_y": null,
       "padding": null,
       "right": null,
       "top": null,
       "visibility": null,
       "width": null
      }
     },
     "acc09a970f82423ca1a6673c82570606": {
      "model_module": "@jupyter-widgets/base",
      "model_module_version": "1.2.0",
      "model_name": "LayoutModel",
      "state": {
       "_model_module": "@jupyter-widgets/base",
       "_model_module_version": "1.2.0",
       "_model_name": "LayoutModel",
       "_view_count": null,
       "_view_module": "@jupyter-widgets/base",
       "_view_module_version": "1.2.0",
       "_view_name": "LayoutView",
       "align_content": null,
       "align_items": null,
       "align_self": null,
       "border": null,
       "bottom": null,
       "display": null,
       "flex": null,
       "flex_flow": null,
       "grid_area": null,
       "grid_auto_columns": null,
       "grid_auto_flow": null,
       "grid_auto_rows": null,
       "grid_column": null,
       "grid_gap": null,
       "grid_row": null,
       "grid_template_areas": null,
       "grid_template_columns": null,
       "grid_template_rows": null,
       "height": null,
       "justify_content": null,
       "justify_items": null,
       "left": null,
       "margin": null,
       "max_height": null,
       "max_width": null,
       "min_height": null,
       "min_width": null,
       "object_fit": null,
       "object_position": null,
       "order": null,
       "overflow": null,
       "overflow_x": null,
       "overflow_y": null,
       "padding": null,
       "right": null,
       "top": null,
       "visibility": null,
       "width": null
      }
     },
     "b34bab3f50b344b4aa7bd7be41f9b2c5": {
      "model_module": "@jupyter-widgets/controls",
      "model_module_version": "1.5.0",
      "model_name": "FloatProgressModel",
      "state": {
       "_dom_classes": [],
       "_model_module": "@jupyter-widgets/controls",
       "_model_module_version": "1.5.0",
       "_model_name": "FloatProgressModel",
       "_view_count": null,
       "_view_module": "@jupyter-widgets/controls",
       "_view_module_version": "1.5.0",
       "_view_name": "ProgressView",
       "bar_style": "success",
       "description": "",
       "description_tooltip": null,
       "layout": "IPY_MODEL_5a4eb0304b0f4ab09c45f6510689c717",
       "max": 7282.0,
       "min": 0.0,
       "orientation": "horizontal",
       "style": "IPY_MODEL_140a9baf113743fda415eede5a9a4458",
       "value": 7282.0
      }
     },
     "b9d0f8c95c5b483680e81787791943c4": {
      "model_module": "@jupyter-widgets/controls",
      "model_module_version": "1.5.0",
      "model_name": "FloatProgressModel",
      "state": {
       "_dom_classes": [],
       "_model_module": "@jupyter-widgets/controls",
       "_model_module_version": "1.5.0",
       "_model_name": "FloatProgressModel",
       "_view_count": null,
       "_view_module": "@jupyter-widgets/controls",
       "_view_module_version": "1.5.0",
       "_view_name": "ProgressView",
       "bar_style": "success",
       "description": "",
       "description_tooltip": null,
       "layout": "IPY_MODEL_d586f4147632410b81f679897efe59dc",
       "max": 46827520.0,
       "min": 0.0,
       "orientation": "horizontal",
       "style": "IPY_MODEL_de1674b5c9d744b9babd611f9f47d07e",
       "value": 46827520.0
      }
     },
     "ba51c1d6f0464c8f841a0beff8fbd37e": {
      "model_module": "@jupyter-widgets/base",
      "model_module_version": "1.2.0",
      "model_name": "LayoutModel",
      "state": {
       "_model_module": "@jupyter-widgets/base",
       "_model_module_version": "1.2.0",
       "_model_name": "LayoutModel",
       "_view_count": null,
       "_view_module": "@jupyter-widgets/base",
       "_view_module_version": "1.2.0",
       "_view_name": "LayoutView",
       "align_content": null,
       "align_items": null,
       "align_self": null,
       "border": null,
       "bottom": null,
       "display": null,
       "flex": null,
       "flex_flow": null,
       "grid_area": null,
       "grid_auto_columns": null,
       "grid_auto_flow": null,
       "grid_auto_rows": null,
       "grid_column": null,
       "grid_gap": null,
       "grid_row": null,
       "grid_template_areas": null,
       "grid_template_columns": null,
       "grid_template_rows": null,
       "height": null,
       "justify_content": null,
       "justify_items": null,
       "left": null,
       "margin": null,
       "max_height": null,
       "max_width": null,
       "min_height": null,
       "min_width": null,
       "object_fit": null,
       "object_position": null,
       "order": null,
       "overflow": null,
       "overflow_x": null,
       "overflow_y": null,
       "padding": null,
       "right": null,
       "top": null,
       "visibility": null,
       "width": null
      }
     },
     "bb815a0c4a3b4cfeab7b4cd6e247942f": {
      "model_module": "@jupyter-widgets/controls",
      "model_module_version": "1.5.0",
      "model_name": "HTMLModel",
      "state": {
       "_dom_classes": [],
       "_model_module": "@jupyter-widgets/controls",
       "_model_module_version": "1.5.0",
       "_model_name": "HTMLModel",
       "_view_count": null,
       "_view_module": "@jupyter-widgets/controls",
       "_view_module_version": "1.5.0",
       "_view_name": "HTMLView",
       "description": "",
       "description_tooltip": null,
       "layout": "IPY_MODEL_7618256a965747bdbfdabf3b696322fd",
       "placeholder": "​",
       "style": "IPY_MODEL_60d46344af0b4f34a549b66270eacf27",
       "value": "100%"
      }
     },
     "bddff59f93e14637bdc1bce84b9a7ac6": {
      "model_module": "@jupyter-widgets/controls",
      "model_module_version": "1.5.0",
      "model_name": "DescriptionStyleModel",
      "state": {
       "_model_module": "@jupyter-widgets/controls",
       "_model_module_version": "1.5.0",
       "_model_name": "DescriptionStyleModel",
       "_view_count": null,
       "_view_module": "@jupyter-widgets/base",
       "_view_module_version": "1.2.0",
       "_view_name": "StyleView",
       "description_width": ""
      }
     },
     "bf121c85a8834d1f96ed82c13f9b44af": {
      "model_module": "@jupyter-widgets/controls",
      "model_module_version": "1.5.0",
      "model_name": "HTMLModel",
      "state": {
       "_dom_classes": [],
       "_model_module": "@jupyter-widgets/controls",
       "_model_module_version": "1.5.0",
       "_model_name": "HTMLModel",
       "_view_count": null,
       "_view_module": "@jupyter-widgets/controls",
       "_view_module_version": "1.5.0",
       "_view_name": "HTMLView",
       "description": "",
       "description_tooltip": null,
       "layout": "IPY_MODEL_bf72e4be4a37415480841c93e798bd4a",
       "placeholder": "​",
       "style": "IPY_MODEL_3abaa55899f7457881c0cc4a08bae818",
       "value": " 0/7282 [00:00&lt;?, ?it/s]"
      }
     },
     "bf72e4be4a37415480841c93e798bd4a": {
      "model_module": "@jupyter-widgets/base",
      "model_module_version": "1.2.0",
      "model_name": "LayoutModel",
      "state": {
       "_model_module": "@jupyter-widgets/base",
       "_model_module_version": "1.2.0",
       "_model_name": "LayoutModel",
       "_view_count": null,
       "_view_module": "@jupyter-widgets/base",
       "_view_module_version": "1.2.0",
       "_view_name": "LayoutView",
       "align_content": null,
       "align_items": null,
       "align_self": null,
       "border": null,
       "bottom": null,
       "display": null,
       "flex": null,
       "flex_flow": null,
       "grid_area": null,
       "grid_auto_columns": null,
       "grid_auto_flow": null,
       "grid_auto_rows": null,
       "grid_column": null,
       "grid_gap": null,
       "grid_row": null,
       "grid_template_areas": null,
       "grid_template_columns": null,
       "grid_template_rows": null,
       "height": null,
       "justify_content": null,
       "justify_items": null,
       "left": null,
       "margin": null,
       "max_height": null,
       "max_width": null,
       "min_height": null,
       "min_width": null,
       "object_fit": null,
       "object_position": null,
       "order": null,
       "overflow": null,
       "overflow_x": null,
       "overflow_y": null,
       "padding": null,
       "right": null,
       "top": null,
       "visibility": null,
       "width": null
      }
     },
     "c205455f09894d1d82a14830169aeebf": {
      "model_module": "@jupyter-widgets/controls",
      "model_module_version": "1.5.0",
      "model_name": "DescriptionStyleModel",
      "state": {
       "_model_module": "@jupyter-widgets/controls",
       "_model_module_version": "1.5.0",
       "_model_name": "DescriptionStyleModel",
       "_view_count": null,
       "_view_module": "@jupyter-widgets/base",
       "_view_module_version": "1.2.0",
       "_view_name": "StyleView",
       "description_width": ""
      }
     },
     "c47e860f4f7d40c49924537255a5aaab": {
      "model_module": "@jupyter-widgets/controls",
      "model_module_version": "1.5.0",
      "model_name": "HTMLModel",
      "state": {
       "_dom_classes": [],
       "_model_module": "@jupyter-widgets/controls",
       "_model_module_version": "1.5.0",
       "_model_name": "HTMLModel",
       "_view_count": null,
       "_view_module": "@jupyter-widgets/controls",
       "_view_module_version": "1.5.0",
       "_view_name": "HTMLView",
       "description": "",
       "description_tooltip": null,
       "layout": "IPY_MODEL_7e2a3dded86a49ba992f55895083d58d",
       "placeholder": "​",
       "style": "IPY_MODEL_7e7715c036be467ba512f2f71fe2c7a8",
       "value": "100%"
      }
     },
     "c4ea353dbe2747e0a62c4758bfef522f": {
      "model_module": "@jupyter-widgets/base",
      "model_module_version": "1.2.0",
      "model_name": "LayoutModel",
      "state": {
       "_model_module": "@jupyter-widgets/base",
       "_model_module_version": "1.2.0",
       "_model_name": "LayoutModel",
       "_view_count": null,
       "_view_module": "@jupyter-widgets/base",
       "_view_module_version": "1.2.0",
       "_view_name": "LayoutView",
       "align_content": null,
       "align_items": null,
       "align_self": null,
       "border": null,
       "bottom": null,
       "display": null,
       "flex": null,
       "flex_flow": null,
       "grid_area": null,
       "grid_auto_columns": null,
       "grid_auto_flow": null,
       "grid_auto_rows": null,
       "grid_column": null,
       "grid_gap": null,
       "grid_row": null,
       "grid_template_areas": null,
       "grid_template_columns": null,
       "grid_template_rows": null,
       "height": null,
       "justify_content": null,
       "justify_items": null,
       "left": null,
       "margin": null,
       "max_height": null,
       "max_width": null,
       "min_height": null,
       "min_width": null,
       "object_fit": null,
       "object_position": null,
       "order": null,
       "overflow": null,
       "overflow_x": null,
       "overflow_y": null,
       "padding": null,
       "right": null,
       "top": null,
       "visibility": null,
       "width": null
      }
     },
     "c56d15bd66e14a58a448b6c66d56f2b4": {
      "model_module": "@jupyter-widgets/controls",
      "model_module_version": "1.5.0",
      "model_name": "HTMLModel",
      "state": {
       "_dom_classes": [],
       "_model_module": "@jupyter-widgets/controls",
       "_model_module_version": "1.5.0",
       "_model_name": "HTMLModel",
       "_view_count": null,
       "_view_module": "@jupyter-widgets/controls",
       "_view_module_version": "1.5.0",
       "_view_name": "HTMLView",
       "description": "",
       "description_tooltip": null,
       "layout": "IPY_MODEL_6c22d2117bc34a71afd4b070f683cac1",
       "placeholder": "​",
       "style": "IPY_MODEL_3e06c3be57964828beb13447b8ca8934",
       "value": " 44.7M/44.7M [00:00&lt;00:00, 84.5MB/s]"
      }
     },
     "c69b2f34b7654cc2979a9d5935a86319": {
      "model_module": "@jupyter-widgets/controls",
      "model_module_version": "1.5.0",
      "model_name": "HBoxModel",
      "state": {
       "_dom_classes": [],
       "_model_module": "@jupyter-widgets/controls",
       "_model_module_version": "1.5.0",
       "_model_name": "HBoxModel",
       "_view_count": null,
       "_view_module": "@jupyter-widgets/controls",
       "_view_module_version": "1.5.0",
       "_view_name": "HBoxView",
       "box_style": "",
       "children": [
        "IPY_MODEL_a92db5b8de324628b9b6ca32a4e91442",
        "IPY_MODEL_b9d0f8c95c5b483680e81787791943c4",
        "IPY_MODEL_c56d15bd66e14a58a448b6c66d56f2b4"
       ],
       "layout": "IPY_MODEL_1ad4b71d11624bf1ae6b88c203d55f8f"
      }
     },
     "c6c5071464464b39b5c6aa99dd930973": {
      "model_module": "@jupyter-widgets/base",
      "model_module_version": "1.2.0",
      "model_name": "LayoutModel",
      "state": {
       "_model_module": "@jupyter-widgets/base",
       "_model_module_version": "1.2.0",
       "_model_name": "LayoutModel",
       "_view_count": null,
       "_view_module": "@jupyter-widgets/base",
       "_view_module_version": "1.2.0",
       "_view_name": "LayoutView",
       "align_content": null,
       "align_items": null,
       "align_self": null,
       "border": null,
       "bottom": null,
       "display": null,
       "flex": null,
       "flex_flow": null,
       "grid_area": null,
       "grid_auto_columns": null,
       "grid_auto_flow": null,
       "grid_auto_rows": null,
       "grid_column": null,
       "grid_gap": null,
       "grid_row": null,
       "grid_template_areas": null,
       "grid_template_columns": null,
       "grid_template_rows": null,
       "height": null,
       "justify_content": null,
       "justify_items": null,
       "left": null,
       "margin": null,
       "max_height": null,
       "max_width": null,
       "min_height": null,
       "min_width": null,
       "object_fit": null,
       "object_position": null,
       "order": null,
       "overflow": null,
       "overflow_x": null,
       "overflow_y": null,
       "padding": null,
       "right": null,
       "top": null,
       "visibility": null,
       "width": null
      }
     },
     "cb1c209e7f8e4eecb0791b0ea31ca9da": {
      "model_module": "@jupyter-widgets/controls",
      "model_module_version": "1.5.0",
      "model_name": "HTMLModel",
      "state": {
       "_dom_classes": [],
       "_model_module": "@jupyter-widgets/controls",
       "_model_module_version": "1.5.0",
       "_model_name": "HTMLModel",
       "_view_count": null,
       "_view_module": "@jupyter-widgets/controls",
       "_view_module_version": "1.5.0",
       "_view_name": "HTMLView",
       "description": "",
       "description_tooltip": null,
       "layout": "IPY_MODEL_12775abfd15b42c9b1ad91ce62b06355",
       "placeholder": "​",
       "style": "IPY_MODEL_ef582bfe35d4498eb3182309fa05aec7",
       "value": "100%"
      }
     },
     "cd6740595d2f42049d29ba41bfa44018": {
      "model_module": "@jupyter-widgets/base",
      "model_module_version": "1.2.0",
      "model_name": "LayoutModel",
      "state": {
       "_model_module": "@jupyter-widgets/base",
       "_model_module_version": "1.2.0",
       "_model_name": "LayoutModel",
       "_view_count": null,
       "_view_module": "@jupyter-widgets/base",
       "_view_module_version": "1.2.0",
       "_view_name": "LayoutView",
       "align_content": null,
       "align_items": null,
       "align_self": null,
       "border": null,
       "bottom": null,
       "display": null,
       "flex": null,
       "flex_flow": null,
       "grid_area": null,
       "grid_auto_columns": null,
       "grid_auto_flow": null,
       "grid_auto_rows": null,
       "grid_column": null,
       "grid_gap": null,
       "grid_row": null,
       "grid_template_areas": null,
       "grid_template_columns": null,
       "grid_template_rows": null,
       "height": null,
       "justify_content": null,
       "justify_items": null,
       "left": null,
       "margin": null,
       "max_height": null,
       "max_width": null,
       "min_height": null,
       "min_width": null,
       "object_fit": null,
       "object_position": null,
       "order": null,
       "overflow": null,
       "overflow_x": null,
       "overflow_y": null,
       "padding": null,
       "right": null,
       "top": null,
       "visibility": null,
       "width": null
      }
     },
     "d15be6e71f834d8db65b955663a8404d": {
      "model_module": "@jupyter-widgets/base",
      "model_module_version": "1.2.0",
      "model_name": "LayoutModel",
      "state": {
       "_model_module": "@jupyter-widgets/base",
       "_model_module_version": "1.2.0",
       "_model_name": "LayoutModel",
       "_view_count": null,
       "_view_module": "@jupyter-widgets/base",
       "_view_module_version": "1.2.0",
       "_view_name": "LayoutView",
       "align_content": null,
       "align_items": null,
       "align_self": null,
       "border": null,
       "bottom": null,
       "display": null,
       "flex": null,
       "flex_flow": null,
       "grid_area": null,
       "grid_auto_columns": null,
       "grid_auto_flow": null,
       "grid_auto_rows": null,
       "grid_column": null,
       "grid_gap": null,
       "grid_row": null,
       "grid_template_areas": null,
       "grid_template_columns": null,
       "grid_template_rows": null,
       "height": null,
       "justify_content": null,
       "justify_items": null,
       "left": null,
       "margin": null,
       "max_height": null,
       "max_width": null,
       "min_height": null,
       "min_width": null,
       "object_fit": null,
       "object_position": null,
       "order": null,
       "overflow": null,
       "overflow_x": null,
       "overflow_y": null,
       "padding": null,
       "right": null,
       "top": null,
       "visibility": null,
       "width": null
      }
     },
     "d16684e7b0dd461abde78116359f3a04": {
      "model_module": "@jupyter-widgets/base",
      "model_module_version": "1.2.0",
      "model_name": "LayoutModel",
      "state": {
       "_model_module": "@jupyter-widgets/base",
       "_model_module_version": "1.2.0",
       "_model_name": "LayoutModel",
       "_view_count": null,
       "_view_module": "@jupyter-widgets/base",
       "_view_module_version": "1.2.0",
       "_view_name": "LayoutView",
       "align_content": null,
       "align_items": null,
       "align_self": null,
       "border": null,
       "bottom": null,
       "display": null,
       "flex": null,
       "flex_flow": null,
       "grid_area": null,
       "grid_auto_columns": null,
       "grid_auto_flow": null,
       "grid_auto_rows": null,
       "grid_column": null,
       "grid_gap": null,
       "grid_row": null,
       "grid_template_areas": null,
       "grid_template_columns": null,
       "grid_template_rows": null,
       "height": null,
       "justify_content": null,
       "justify_items": null,
       "left": null,
       "margin": null,
       "max_height": null,
       "max_width": null,
       "min_height": null,
       "min_width": null,
       "object_fit": null,
       "object_position": null,
       "order": null,
       "overflow": null,
       "overflow_x": null,
       "overflow_y": null,
       "padding": null,
       "right": null,
       "top": null,
       "visibility": null,
       "width": null
      }
     },
     "d1b997eb2fa1497aaa7547598bbae197": {
      "model_module": "@jupyter-widgets/controls",
      "model_module_version": "1.5.0",
      "model_name": "HTMLModel",
      "state": {
       "_dom_classes": [],
       "_model_module": "@jupyter-widgets/controls",
       "_model_module_version": "1.5.0",
       "_model_name": "HTMLModel",
       "_view_count": null,
       "_view_module": "@jupyter-widgets/controls",
       "_view_module_version": "1.5.0",
       "_view_name": "HTMLView",
       "description": "",
       "description_tooltip": null,
       "layout": "IPY_MODEL_d15be6e71f834d8db65b955663a8404d",
       "placeholder": "​",
       "style": "IPY_MODEL_3c3d2962e0074115b00a0d4626a68e76",
       "value": "100%"
      }
     },
     "d4f8effc8f2c484984d5bd97e542da6e": {
      "model_module": "@jupyter-widgets/base",
      "model_module_version": "1.2.0",
      "model_name": "LayoutModel",
      "state": {
       "_model_module": "@jupyter-widgets/base",
       "_model_module_version": "1.2.0",
       "_model_name": "LayoutModel",
       "_view_count": null,
       "_view_module": "@jupyter-widgets/base",
       "_view_module_version": "1.2.0",
       "_view_name": "LayoutView",
       "align_content": null,
       "align_items": null,
       "align_self": null,
       "border": null,
       "bottom": null,
       "display": null,
       "flex": null,
       "flex_flow": null,
       "grid_area": null,
       "grid_auto_columns": null,
       "grid_auto_flow": null,
       "grid_auto_rows": null,
       "grid_column": null,
       "grid_gap": null,
       "grid_row": null,
       "grid_template_areas": null,
       "grid_template_columns": null,
       "grid_template_rows": null,
       "height": null,
       "justify_content": null,
       "justify_items": null,
       "left": null,
       "margin": null,
       "max_height": null,
       "max_width": null,
       "min_height": null,
       "min_width": null,
       "object_fit": null,
       "object_position": null,
       "order": null,
       "overflow": null,
       "overflow_x": null,
       "overflow_y": null,
       "padding": null,
       "right": null,
       "top": null,
       "visibility": null,
       "width": null
      }
     },
     "d586f4147632410b81f679897efe59dc": {
      "model_module": "@jupyter-widgets/base",
      "model_module_version": "1.2.0",
      "model_name": "LayoutModel",
      "state": {
       "_model_module": "@jupyter-widgets/base",
       "_model_module_version": "1.2.0",
       "_model_name": "LayoutModel",
       "_view_count": null,
       "_view_module": "@jupyter-widgets/base",
       "_view_module_version": "1.2.0",
       "_view_name": "LayoutView",
       "align_content": null,
       "align_items": null,
       "align_self": null,
       "border": null,
       "bottom": null,
       "display": null,
       "flex": null,
       "flex_flow": null,
       "grid_area": null,
       "grid_auto_columns": null,
       "grid_auto_flow": null,
       "grid_auto_rows": null,
       "grid_column": null,
       "grid_gap": null,
       "grid_row": null,
       "grid_template_areas": null,
       "grid_template_columns": null,
       "grid_template_rows": null,
       "height": null,
       "justify_content": null,
       "justify_items": null,
       "left": null,
       "margin": null,
       "max_height": null,
       "max_width": null,
       "min_height": null,
       "min_width": null,
       "object_fit": null,
       "object_position": null,
       "order": null,
       "overflow": null,
       "overflow_x": null,
       "overflow_y": null,
       "padding": null,
       "right": null,
       "top": null,
       "visibility": null,
       "width": null
      }
     },
     "d59661e6c4c44f949ddaef78795961d5": {
      "model_module": "@jupyter-widgets/base",
      "model_module_version": "1.2.0",
      "model_name": "LayoutModel",
      "state": {
       "_model_module": "@jupyter-widgets/base",
       "_model_module_version": "1.2.0",
       "_model_name": "LayoutModel",
       "_view_count": null,
       "_view_module": "@jupyter-widgets/base",
       "_view_module_version": "1.2.0",
       "_view_name": "LayoutView",
       "align_content": null,
       "align_items": null,
       "align_self": null,
       "border": null,
       "bottom": null,
       "display": null,
       "flex": null,
       "flex_flow": null,
       "grid_area": null,
       "grid_auto_columns": null,
       "grid_auto_flow": null,
       "grid_auto_rows": null,
       "grid_column": null,
       "grid_gap": null,
       "grid_row": null,
       "grid_template_areas": null,
       "grid_template_columns": null,
       "grid_template_rows": null,
       "height": null,
       "justify_content": null,
       "justify_items": null,
       "left": null,
       "margin": null,
       "max_height": null,
       "max_width": null,
       "min_height": null,
       "min_width": null,
       "object_fit": null,
       "object_position": null,
       "order": null,
       "overflow": null,
       "overflow_x": null,
       "overflow_y": null,
       "padding": null,
       "right": null,
       "top": null,
       "visibility": null,
       "width": null
      }
     },
     "d5a7010430de4871aed98ea2fb8ab8e5": {
      "model_module": "@jupyter-widgets/base",
      "model_module_version": "1.2.0",
      "model_name": "LayoutModel",
      "state": {
       "_model_module": "@jupyter-widgets/base",
       "_model_module_version": "1.2.0",
       "_model_name": "LayoutModel",
       "_view_count": null,
       "_view_module": "@jupyter-widgets/base",
       "_view_module_version": "1.2.0",
       "_view_name": "LayoutView",
       "align_content": null,
       "align_items": null,
       "align_self": null,
       "border": null,
       "bottom": null,
       "display": null,
       "flex": null,
       "flex_flow": null,
       "grid_area": null,
       "grid_auto_columns": null,
       "grid_auto_flow": null,
       "grid_auto_rows": null,
       "grid_column": null,
       "grid_gap": null,
       "grid_row": null,
       "grid_template_areas": null,
       "grid_template_columns": null,
       "grid_template_rows": null,
       "height": null,
       "justify_content": null,
       "justify_items": null,
       "left": null,
       "margin": null,
       "max_height": null,
       "max_width": null,
       "min_height": null,
       "min_width": null,
       "object_fit": null,
       "object_position": null,
       "order": null,
       "overflow": null,
       "overflow_x": null,
       "overflow_y": null,
       "padding": null,
       "right": null,
       "top": null,
       "visibility": null,
       "width": null
      }
     },
     "da3e4ff55f7a49b2ba9537a2c6fd0540": {
      "model_module": "@jupyter-widgets/controls",
      "model_module_version": "1.5.0",
      "model_name": "FloatProgressModel",
      "state": {
       "_dom_classes": [],
       "_model_module": "@jupyter-widgets/controls",
       "_model_module_version": "1.5.0",
       "_model_name": "FloatProgressModel",
       "_view_count": null,
       "_view_module": "@jupyter-widgets/controls",
       "_view_module_version": "1.5.0",
       "_view_name": "ProgressView",
       "bar_style": "success",
       "description": "",
       "description_tooltip": null,
       "layout": "IPY_MODEL_8fca668ff20149b39653d70af0e748c3",
       "max": 25.0,
       "min": 0.0,
       "orientation": "horizontal",
       "style": "IPY_MODEL_32875fc0c42142748768cee264392659",
       "value": 25.0
      }
     },
     "dbf205ee6b7b4bcca96bade34b2d1d06": {
      "model_module": "@jupyter-widgets/controls",
      "model_module_version": "1.5.0",
      "model_name": "HTMLModel",
      "state": {
       "_dom_classes": [],
       "_model_module": "@jupyter-widgets/controls",
       "_model_module_version": "1.5.0",
       "_model_name": "HTMLModel",
       "_view_count": null,
       "_view_module": "@jupyter-widgets/controls",
       "_view_module_version": "1.5.0",
       "_view_name": "HTMLView",
       "description": "",
       "description_tooltip": null,
       "layout": "IPY_MODEL_8115e13fdb7741e691c8172ecd3239df",
       "placeholder": "​",
       "style": "IPY_MODEL_9b60ae287f9545c6a36d3a2073e12228",
       "value": "  0%"
      }
     },
     "dda990dd403e448fae70e5f52f0850b6": {
      "model_module": "@jupyter-widgets/controls",
      "model_module_version": "1.5.0",
      "model_name": "HTMLModel",
      "state": {
       "_dom_classes": [],
       "_model_module": "@jupyter-widgets/controls",
       "_model_module_version": "1.5.0",
       "_model_name": "HTMLModel",
       "_view_count": null,
       "_view_module": "@jupyter-widgets/controls",
       "_view_module_version": "1.5.0",
       "_view_name": "HTMLView",
       "description": "",
       "description_tooltip": null,
       "layout": "IPY_MODEL_9bb100649bf6412fa86b637ea63c87b8",
       "placeholder": "​",
       "style": "IPY_MODEL_7e9130969e6c4997b779b347730e3819",
       "value": " 0/7282 [00:00&lt;?, ?it/s]"
      }
     },
     "de1674b5c9d744b9babd611f9f47d07e": {
      "model_module": "@jupyter-widgets/controls",
      "model_module_version": "1.5.0",
      "model_name": "ProgressStyleModel",
      "state": {
       "_model_module": "@jupyter-widgets/controls",
       "_model_module_version": "1.5.0",
       "_model_name": "ProgressStyleModel",
       "_view_count": null,
       "_view_module": "@jupyter-widgets/base",
       "_view_module_version": "1.2.0",
       "_view_name": "StyleView",
       "bar_color": null,
       "description_width": ""
      }
     },
     "e14b3161f9e84f819925df6be3c7222d": {
      "model_module": "@jupyter-widgets/controls",
      "model_module_version": "1.5.0",
      "model_name": "HBoxModel",
      "state": {
       "_dom_classes": [],
       "_model_module": "@jupyter-widgets/controls",
       "_model_module_version": "1.5.0",
       "_model_name": "HBoxModel",
       "_view_count": null,
       "_view_module": "@jupyter-widgets/controls",
       "_view_module_version": "1.5.0",
       "_view_name": "HBoxView",
       "box_style": "",
       "children": [
        "IPY_MODEL_dbf205ee6b7b4bcca96bade34b2d1d06",
        "IPY_MODEL_2ba52a2b907d4d899699e7ca52f90ad1",
        "IPY_MODEL_bf121c85a8834d1f96ed82c13f9b44af"
       ],
       "layout": "IPY_MODEL_6e15df801e0a4e36815c43c48a3a5aa1"
      }
     },
     "e1dc49c326374d19b6f278c0bf7b4fec": {
      "model_module": "@jupyter-widgets/controls",
      "model_module_version": "1.5.0",
      "model_name": "FloatProgressModel",
      "state": {
       "_dom_classes": [],
       "_model_module": "@jupyter-widgets/controls",
       "_model_module_version": "1.5.0",
       "_model_name": "FloatProgressModel",
       "_view_count": null,
       "_view_module": "@jupyter-widgets/controls",
       "_view_module_version": "1.5.0",
       "_view_name": "ProgressView",
       "bar_style": "success",
       "description": "",
       "description_tooltip": null,
       "layout": "IPY_MODEL_700813b9ec3f425c94cc4cce5291be9c",
       "max": 7282.0,
       "min": 0.0,
       "orientation": "horizontal",
       "style": "IPY_MODEL_4e0b4d03f13a4054af318381d1cd45d0",
       "value": 7282.0
      }
     },
     "e30122714dd744e78890c5557b0fa2d2": {
      "model_module": "@jupyter-widgets/controls",
      "model_module_version": "1.5.0",
      "model_name": "HBoxModel",
      "state": {
       "_dom_classes": [],
       "_model_module": "@jupyter-widgets/controls",
       "_model_module_version": "1.5.0",
       "_model_name": "HBoxModel",
       "_view_count": null,
       "_view_module": "@jupyter-widgets/controls",
       "_view_module_version": "1.5.0",
       "_view_name": "HBoxView",
       "box_style": "",
       "children": [
        "IPY_MODEL_d1b997eb2fa1497aaa7547598bbae197",
        "IPY_MODEL_e1dc49c326374d19b6f278c0bf7b4fec",
        "IPY_MODEL_55d0a354cea34a5a9f89f12999fba69f"
       ],
       "layout": "IPY_MODEL_d4f8effc8f2c484984d5bd97e542da6e"
      }
     },
     "e331532169884741b9d3620add82e19c": {
      "model_module": "@jupyter-widgets/controls",
      "model_module_version": "1.5.0",
      "model_name": "DescriptionStyleModel",
      "state": {
       "_model_module": "@jupyter-widgets/controls",
       "_model_module_version": "1.5.0",
       "_model_name": "DescriptionStyleModel",
       "_view_count": null,
       "_view_module": "@jupyter-widgets/base",
       "_view_module_version": "1.2.0",
       "_view_name": "StyleView",
       "description_width": ""
      }
     },
     "ee1e6b34febd475094387635d6dcf9a9": {
      "model_module": "@jupyter-widgets/base",
      "model_module_version": "1.2.0",
      "model_name": "LayoutModel",
      "state": {
       "_model_module": "@jupyter-widgets/base",
       "_model_module_version": "1.2.0",
       "_model_name": "LayoutModel",
       "_view_count": null,
       "_view_module": "@jupyter-widgets/base",
       "_view_module_version": "1.2.0",
       "_view_name": "LayoutView",
       "align_content": null,
       "align_items": null,
       "align_self": null,
       "border": null,
       "bottom": null,
       "display": null,
       "flex": null,
       "flex_flow": null,
       "grid_area": null,
       "grid_auto_columns": null,
       "grid_auto_flow": null,
       "grid_auto_rows": null,
       "grid_column": null,
       "grid_gap": null,
       "grid_row": null,
       "grid_template_areas": null,
       "grid_template_columns": null,
       "grid_template_rows": null,
       "height": null,
       "justify_content": null,
       "justify_items": null,
       "left": null,
       "margin": null,
       "max_height": null,
       "max_width": null,
       "min_height": null,
       "min_width": null,
       "object_fit": null,
       "object_position": null,
       "order": null,
       "overflow": null,
       "overflow_x": null,
       "overflow_y": null,
       "padding": null,
       "right": null,
       "top": null,
       "visibility": null,
       "width": null
      }
     },
     "ef582bfe35d4498eb3182309fa05aec7": {
      "model_module": "@jupyter-widgets/controls",
      "model_module_version": "1.5.0",
      "model_name": "DescriptionStyleModel",
      "state": {
       "_model_module": "@jupyter-widgets/controls",
       "_model_module_version": "1.5.0",
       "_model_name": "DescriptionStyleModel",
       "_view_count": null,
       "_view_module": "@jupyter-widgets/base",
       "_view_module_version": "1.2.0",
       "_view_name": "StyleView",
       "description_width": ""
      }
     },
     "f19ed5e8fd91492d8cca64bf87e7e973": {
      "model_module": "@jupyter-widgets/controls",
      "model_module_version": "1.5.0",
      "model_name": "FloatProgressModel",
      "state": {
       "_dom_classes": [],
       "_model_module": "@jupyter-widgets/controls",
       "_model_module_version": "1.5.0",
       "_model_name": "FloatProgressModel",
       "_view_count": null,
       "_view_module": "@jupyter-widgets/controls",
       "_view_module_version": "1.5.0",
       "_view_name": "ProgressView",
       "bar_style": "danger",
       "description": "",
       "description_tooltip": null,
       "layout": "IPY_MODEL_d16684e7b0dd461abde78116359f3a04",
       "max": 7282.0,
       "min": 0.0,
       "orientation": "horizontal",
       "style": "IPY_MODEL_2854c12063b646b7b830b02a3989783c",
       "value": 0.0
      }
     },
     "f3a4352b19c342f2a67979653f0a6a91": {
      "model_module": "@jupyter-widgets/base",
      "model_module_version": "1.2.0",
      "model_name": "LayoutModel",
      "state": {
       "_model_module": "@jupyter-widgets/base",
       "_model_module_version": "1.2.0",
       "_model_name": "LayoutModel",
       "_view_count": null,
       "_view_module": "@jupyter-widgets/base",
       "_view_module_version": "1.2.0",
       "_view_name": "LayoutView",
       "align_content": null,
       "align_items": null,
       "align_self": null,
       "border": null,
       "bottom": null,
       "display": null,
       "flex": null,
       "flex_flow": null,
       "grid_area": null,
       "grid_auto_columns": null,
       "grid_auto_flow": null,
       "grid_auto_rows": null,
       "grid_column": null,
       "grid_gap": null,
       "grid_row": null,
       "grid_template_areas": null,
       "grid_template_columns": null,
       "grid_template_rows": null,
       "height": null,
       "justify_content": null,
       "justify_items": null,
       "left": null,
       "margin": null,
       "max_height": null,
       "max_width": null,
       "min_height": null,
       "min_width": null,
       "object_fit": null,
       "object_position": null,
       "order": null,
       "overflow": null,
       "overflow_x": null,
       "overflow_y": null,
       "padding": null,
       "right": null,
       "top": null,
       "visibility": null,
       "width": null
      }
     }
    },
    "version_major": 2,
    "version_minor": 0
   }
  }
 },
 "nbformat": 4,
 "nbformat_minor": 5
}
