{
 "cells": [
  {
   "cell_type": "code",
   "execution_count": 1,
   "id": "19101332",
   "metadata": {
    "_cell_guid": "b1076dfc-b9ad-4769-8c92-a6c4dae69d19",
    "_uuid": "8f2839f25d086af736a60e9eeb907d3b93b6e0e5",
    "execution": {
     "iopub.execute_input": "2023-12-06T16:05:03.939088Z",
     "iopub.status.busy": "2023-12-06T16:05:03.938732Z",
     "iopub.status.idle": "2023-12-06T16:05:08.144376Z",
     "shell.execute_reply": "2023-12-06T16:05:08.143563Z"
    },
    "papermill": {
     "duration": 4.220201,
     "end_time": "2023-12-06T16:05:08.146557",
     "exception": false,
     "start_time": "2023-12-06T16:05:03.926356",
     "status": "completed"
    },
    "tags": []
   },
   "outputs": [],
   "source": [
    "import pandas as pd\n",
    "import numpy as np\n",
    "from collections import Counter \n",
    "import torchvision\n",
    "from torchvision import transforms\n",
    "from PIL import Image\n",
    "from torch.utils.data import Dataset, DataLoader\n",
    "import torch\n",
    "import torch.nn as nn\n",
    "from torch.autograd import Variable\n",
    "from tqdm.notebook import tqdm\n",
    "import matplotlib.pyplot as plt\n",
    "import math\n",
    "import torch.nn.functional as F\n",
    "import pickle\n",
    "import gc\n",
    "import random\n",
    "pd.set_option('display.max_colwidth', None)"
   ]
  },
  {
   "cell_type": "code",
   "execution_count": 2,
   "id": "715f948b",
   "metadata": {
    "execution": {
     "iopub.execute_input": "2023-12-06T16:05:08.170488Z",
     "iopub.status.busy": "2023-12-06T16:05:08.170029Z",
     "iopub.status.idle": "2023-12-06T16:05:08.570416Z",
     "shell.execute_reply": "2023-12-06T16:05:08.569455Z"
    },
    "papermill": {
     "duration": 0.414311,
     "end_time": "2023-12-06T16:05:08.572754",
     "exception": false,
     "start_time": "2023-12-06T16:05:08.158443",
     "status": "completed"
    },
    "tags": []
   },
   "outputs": [
    {
     "name": "stdout",
     "output_type": "stream",
     "text": [
      "158915\n"
     ]
    },
    {
     "data": {
      "text/html": [
       "<div>\n",
       "<style scoped>\n",
       "    .dataframe tbody tr th:only-of-type {\n",
       "        vertical-align: middle;\n",
       "    }\n",
       "\n",
       "    .dataframe tbody tr th {\n",
       "        vertical-align: top;\n",
       "    }\n",
       "\n",
       "    .dataframe thead th {\n",
       "        text-align: right;\n",
       "    }\n",
       "</style>\n",
       "<table border=\"1\" class=\"dataframe\">\n",
       "  <thead>\n",
       "    <tr style=\"text-align: right;\">\n",
       "      <th></th>\n",
       "      <th>image_name</th>\n",
       "      <th>comment_number</th>\n",
       "      <th>comment</th>\n",
       "    </tr>\n",
       "  </thead>\n",
       "  <tbody>\n",
       "    <tr>\n",
       "      <th>0</th>\n",
       "      <td>1000092795.jpg</td>\n",
       "      <td>0</td>\n",
       "      <td>Two young guys with shaggy hair look at their hands while hanging out in the yard .</td>\n",
       "    </tr>\n",
       "    <tr>\n",
       "      <th>1</th>\n",
       "      <td>1000092795.jpg</td>\n",
       "      <td>1</td>\n",
       "      <td>Two young  White males are outside near many bushes .</td>\n",
       "    </tr>\n",
       "    <tr>\n",
       "      <th>2</th>\n",
       "      <td>1000092795.jpg</td>\n",
       "      <td>2</td>\n",
       "      <td>Two men in green shirts are standing in a yard .</td>\n",
       "    </tr>\n",
       "    <tr>\n",
       "      <th>3</th>\n",
       "      <td>1000092795.jpg</td>\n",
       "      <td>3</td>\n",
       "      <td>A man in a blue shirt standing in a garden .</td>\n",
       "    </tr>\n",
       "    <tr>\n",
       "      <th>4</th>\n",
       "      <td>1000092795.jpg</td>\n",
       "      <td>4</td>\n",
       "      <td>Two friends enjoy time spent together .</td>\n",
       "    </tr>\n",
       "  </tbody>\n",
       "</table>\n",
       "</div>"
      ],
      "text/plain": [
       "       image_name  comment_number  \\\n",
       "0  1000092795.jpg               0   \n",
       "1  1000092795.jpg               1   \n",
       "2  1000092795.jpg               2   \n",
       "3  1000092795.jpg               3   \n",
       "4  1000092795.jpg               4   \n",
       "\n",
       "                                                                               comment  \n",
       "0  Two young guys with shaggy hair look at their hands while hanging out in the yard .  \n",
       "1                                Two young  White males are outside near many bushes .  \n",
       "2                                     Two men in green shirts are standing in a yard .  \n",
       "3                                         A man in a blue shirt standing in a garden .  \n",
       "4                                              Two friends enjoy time spent together .  "
      ]
     },
     "execution_count": 2,
     "metadata": {},
     "output_type": "execute_result"
    }
   ],
   "source": [
    "#Loading the data\n",
    "\n",
    "df = pd.read_csv(\"../input/flickr30k/captions.txt\", sep=',')\n",
    "print(len(df))\n",
    "df.head(5)"
   ]
  },
  {
   "cell_type": "code",
   "execution_count": 3,
   "id": "ab748e3b",
   "metadata": {
    "execution": {
     "iopub.execute_input": "2023-12-06T16:05:08.595918Z",
     "iopub.status.busy": "2023-12-06T16:05:08.595609Z",
     "iopub.status.idle": "2023-12-06T16:05:08.603419Z",
     "shell.execute_reply": "2023-12-06T16:05:08.602532Z"
    },
    "papermill": {
     "duration": 0.021406,
     "end_time": "2023-12-06T16:05:08.605245",
     "exception": false,
     "start_time": "2023-12-06T16:05:08.583839",
     "status": "completed"
    },
    "tags": []
   },
   "outputs": [],
   "source": [
    "df.rename(columns={\"image_name\": \"image\", \"comment\": \"caption\"},inplace = True)"
   ]
  },
  {
   "cell_type": "code",
   "execution_count": 4,
   "id": "ed240c0e",
   "metadata": {
    "execution": {
     "iopub.execute_input": "2023-12-06T16:05:08.628065Z",
     "iopub.status.busy": "2023-12-06T16:05:08.627809Z",
     "iopub.status.idle": "2023-12-06T16:05:08.632351Z",
     "shell.execute_reply": "2023-12-06T16:05:08.631567Z"
    },
    "papermill": {
     "duration": 0.0181,
     "end_time": "2023-12-06T16:05:08.634174",
     "exception": false,
     "start_time": "2023-12-06T16:05:08.616074",
     "status": "completed"
    },
    "tags": []
   },
   "outputs": [],
   "source": [
    "def remove_single_char_word(word_list):\n",
    "    lst = []\n",
    "    for word in word_list:\n",
    "        #Removing the single character captions\n",
    "        if len(word)>1:\n",
    "            lst.append(word)\n",
    "\n",
    "    return lst"
   ]
  },
  {
   "cell_type": "code",
   "execution_count": 5,
   "id": "dd237ef5",
   "metadata": {
    "execution": {
     "iopub.execute_input": "2023-12-06T16:05:08.656950Z",
     "iopub.status.busy": "2023-12-06T16:05:08.656700Z",
     "iopub.status.idle": "2023-12-06T16:05:10.588618Z",
     "shell.execute_reply": "2023-12-06T16:05:10.587789Z"
    },
    "papermill": {
     "duration": 1.94582,
     "end_time": "2023-12-06T16:05:10.590876",
     "exception": false,
     "start_time": "2023-12-06T16:05:08.645056",
     "status": "completed"
    },
    "tags": []
   },
   "outputs": [],
   "source": [
    "#Add start and end tokens to the captions\n",
    "\n",
    "df['clean_captions'] = df['caption'].apply(lambda caption : ['<start>'] + [word.lower() if word.isalpha() else '' for word in caption.split(\" \")] + ['<end>'])\n",
    "df['clean_captions']  = df['clean_captions'].apply(lambda x : remove_single_char_word(x))"
   ]
  },
  {
   "cell_type": "code",
   "execution_count": 6,
   "id": "4fa9dee6",
   "metadata": {
    "execution": {
     "iopub.execute_input": "2023-12-06T16:05:10.614578Z",
     "iopub.status.busy": "2023-12-06T16:05:10.614236Z",
     "iopub.status.idle": "2023-12-06T16:05:10.717356Z",
     "shell.execute_reply": "2023-12-06T16:05:10.716333Z"
    },
    "papermill": {
     "duration": 0.116905,
     "end_time": "2023-12-06T16:05:10.719346",
     "exception": false,
     "start_time": "2023-12-06T16:05:10.602441",
     "status": "completed"
    },
    "tags": []
   },
   "outputs": [
    {
     "name": "stdout",
     "output_type": "stream",
     "text": [
      "74\n"
     ]
    }
   ],
   "source": [
    "df['seq_length'] = df['clean_captions'].apply(lambda x : len(x))\n",
    "max_seq_len = df['seq_length'].max()\n",
    "print(max_seq_len)"
   ]
  },
  {
   "cell_type": "code",
   "execution_count": 7,
   "id": "77406578",
   "metadata": {
    "execution": {
     "iopub.execute_input": "2023-12-06T16:05:10.743044Z",
     "iopub.status.busy": "2023-12-06T16:05:10.742769Z",
     "iopub.status.idle": "2023-12-06T16:05:11.358575Z",
     "shell.execute_reply": "2023-12-06T16:05:11.357789Z"
    },
    "papermill": {
     "duration": 0.6303,
     "end_time": "2023-12-06T16:05:11.360859",
     "exception": false,
     "start_time": "2023-12-06T16:05:10.730559",
     "status": "completed"
    },
    "tags": []
   },
   "outputs": [],
   "source": [
    "df.drop(['seq_length'], axis = 1, inplace = True)\n",
    "df['clean_captions'] = df['clean_captions'].apply(lambda caption : caption + ['<pad>']*(max_seq_len-len(caption)) )"
   ]
  },
  {
   "cell_type": "code",
   "execution_count": 8,
   "id": "73f16c91",
   "metadata": {
    "execution": {
     "iopub.execute_input": "2023-12-06T16:05:11.385053Z",
     "iopub.status.busy": "2023-12-06T16:05:11.384264Z",
     "iopub.status.idle": "2023-12-06T16:05:14.163603Z",
     "shell.execute_reply": "2023-12-06T16:05:14.162622Z"
    },
    "papermill": {
     "duration": 2.793902,
     "end_time": "2023-12-06T16:05:14.165990",
     "exception": false,
     "start_time": "2023-12-06T16:05:11.372088",
     "status": "completed"
    },
    "tags": []
   },
   "outputs": [],
   "source": [
    "words_list = df['clean_captions'].apply(lambda x : \" \".join(x)).str.cat(sep = ' ').split(' ')\n",
    "words_dict = Counter(words_list)\n",
    "words_dict =  sorted(words_dict, key=words_dict.get, reverse=True)"
   ]
  },
  {
   "cell_type": "code",
   "execution_count": 9,
   "id": "1be3343a",
   "metadata": {
    "execution": {
     "iopub.execute_input": "2023-12-06T16:05:14.189701Z",
     "iopub.status.busy": "2023-12-06T16:05:14.189376Z",
     "iopub.status.idle": "2023-12-06T16:05:14.193889Z",
     "shell.execute_reply": "2023-12-06T16:05:14.193113Z"
    },
    "papermill": {
     "duration": 0.018777,
     "end_time": "2023-12-06T16:05:14.195978",
     "exception": false,
     "start_time": "2023-12-06T16:05:14.177201",
     "status": "completed"
    },
    "tags": []
   },
   "outputs": [
    {
     "name": "stdout",
     "output_type": "stream",
     "text": [
      "17898\n"
     ]
    }
   ],
   "source": [
    "vocab_size = len(words_dict)\n",
    "print(vocab_size)"
   ]
  },
  {
   "cell_type": "code",
   "execution_count": 10,
   "id": "9e7c3b45",
   "metadata": {
    "execution": {
     "iopub.execute_input": "2023-12-06T16:05:14.219587Z",
     "iopub.status.busy": "2023-12-06T16:05:14.218803Z",
     "iopub.status.idle": "2023-12-06T16:05:14.233708Z",
     "shell.execute_reply": "2023-12-06T16:05:14.232842Z"
    },
    "papermill": {
     "duration": 0.028722,
     "end_time": "2023-12-06T16:05:14.235733",
     "exception": false,
     "start_time": "2023-12-06T16:05:14.207011",
     "status": "completed"
    },
    "tags": []
   },
   "outputs": [
    {
     "name": "stdout",
     "output_type": "stream",
     "text": [
      "17898 17898\n"
     ]
    }
   ],
   "source": [
    "# creating word index\n",
    "\n",
    "index_to_word = {index: word for index, word in enumerate(words_dict)}\n",
    "word_to_index = {word: index for index, word in enumerate(words_dict)}\n",
    "print(len(index_to_word), len(word_to_index))"
   ]
  },
  {
   "cell_type": "code",
   "execution_count": 11,
   "id": "c06120e5",
   "metadata": {
    "execution": {
     "iopub.execute_input": "2023-12-06T16:05:14.259095Z",
     "iopub.status.busy": "2023-12-06T16:05:14.258827Z",
     "iopub.status.idle": "2023-12-06T16:05:14.269169Z",
     "shell.execute_reply": "2023-12-06T16:05:14.268328Z"
    },
    "papermill": {
     "duration": 0.024136,
     "end_time": "2023-12-06T16:05:14.271034",
     "exception": false,
     "start_time": "2023-12-06T16:05:14.246898",
     "status": "completed"
    },
    "tags": []
   },
   "outputs": [],
   "source": [
    "#wrote this pickle file for inference\n",
    "afile = open('I2W.pkl','wb')\n",
    "ap = pickle.dump(index_to_word,afile)\n",
    "afile.close()"
   ]
  },
  {
   "cell_type": "code",
   "execution_count": 12,
   "id": "231d6fdc",
   "metadata": {
    "execution": {
     "iopub.execute_input": "2023-12-06T16:05:14.294437Z",
     "iopub.status.busy": "2023-12-06T16:05:14.293900Z",
     "iopub.status.idle": "2023-12-06T16:05:14.303226Z",
     "shell.execute_reply": "2023-12-06T16:05:14.302455Z"
    },
    "papermill": {
     "duration": 0.023042,
     "end_time": "2023-12-06T16:05:14.305139",
     "exception": false,
     "start_time": "2023-12-06T16:05:14.282097",
     "status": "completed"
    },
    "tags": []
   },
   "outputs": [],
   "source": [
    "bfile = open('W2I.pkl','wb')\n",
    "bp = pickle.dump(word_to_index,bfile)\n",
    "bfile.close()"
   ]
  },
  {
   "cell_type": "code",
   "execution_count": 13,
   "id": "b6c09316",
   "metadata": {
    "execution": {
     "iopub.execute_input": "2023-12-06T16:05:14.328277Z",
     "iopub.status.busy": "2023-12-06T16:05:14.328014Z",
     "iopub.status.idle": "2023-12-06T16:05:16.742180Z",
     "shell.execute_reply": "2023-12-06T16:05:16.741335Z"
    },
    "papermill": {
     "duration": 2.428567,
     "end_time": "2023-12-06T16:05:16.744710",
     "exception": false,
     "start_time": "2023-12-06T16:05:14.316143",
     "status": "completed"
    },
    "tags": []
   },
   "outputs": [],
   "source": [
    "#Convert the words to index using the dictionary\n",
    "\n",
    "df['text_seq']  = df['clean_captions'].apply(lambda caption : [word_to_index[word] for word in caption] )"
   ]
  },
  {
   "cell_type": "code",
   "execution_count": 14,
   "id": "69a2efa1",
   "metadata": {
    "execution": {
     "iopub.execute_input": "2023-12-06T16:05:16.770982Z",
     "iopub.status.busy": "2023-12-06T16:05:16.770652Z",
     "iopub.status.idle": "2023-12-06T16:05:16.971109Z",
     "shell.execute_reply": "2023-12-06T16:05:16.970335Z"
    },
    "papermill": {
     "duration": 0.216412,
     "end_time": "2023-12-06T16:05:16.973546",
     "exception": false,
     "start_time": "2023-12-06T16:05:16.757134",
     "status": "completed"
    },
    "tags": []
   },
   "outputs": [],
   "source": [
    "df = df.sort_values(by = 'image')\n",
    "train = df.iloc[:int(0.9*len(df))]\n",
    "valid = df.iloc[int(0.9*len(df)):]"
   ]
  },
  {
   "cell_type": "code",
   "execution_count": 15,
   "id": "6496fbd0",
   "metadata": {
    "execution": {
     "iopub.execute_input": "2023-12-06T16:05:16.998044Z",
     "iopub.status.busy": "2023-12-06T16:05:16.997728Z",
     "iopub.status.idle": "2023-12-06T16:05:17.003599Z",
     "shell.execute_reply": "2023-12-06T16:05:17.002732Z"
    },
    "papermill": {
     "duration": 0.020256,
     "end_time": "2023-12-06T16:05:17.005409",
     "exception": false,
     "start_time": "2023-12-06T16:05:16.985153",
     "status": "completed"
    },
    "tags": []
   },
   "outputs": [
    {
     "data": {
      "text/plain": [
       "143023"
      ]
     },
     "execution_count": 15,
     "metadata": {},
     "output_type": "execute_result"
    }
   ],
   "source": [
    "len(train)"
   ]
  },
  {
   "cell_type": "code",
   "execution_count": 16,
   "id": "d20382dd",
   "metadata": {
    "execution": {
     "iopub.execute_input": "2023-12-06T16:05:17.029284Z",
     "iopub.status.busy": "2023-12-06T16:05:17.028987Z",
     "iopub.status.idle": "2023-12-06T16:05:17.046977Z",
     "shell.execute_reply": "2023-12-06T16:05:17.046042Z"
    },
    "papermill": {
     "duration": 0.032049,
     "end_time": "2023-12-06T16:05:17.048796",
     "exception": false,
     "start_time": "2023-12-06T16:05:17.016747",
     "status": "completed"
    },
    "tags": []
   },
   "outputs": [
    {
     "name": "stdout",
     "output_type": "stream",
     "text": [
      "28605 3179\n"
     ]
    }
   ],
   "source": [
    "unq_train_imgs = train[['image']].drop_duplicates()\n",
    "unq_valid_imgs = valid[['image']].drop_duplicates()\n",
    "print(len(unq_train_imgs), len(unq_valid_imgs))"
   ]
  },
  {
   "cell_type": "code",
   "execution_count": 17,
   "id": "4b96d8df",
   "metadata": {
    "execution": {
     "iopub.execute_input": "2023-12-06T16:05:17.072563Z",
     "iopub.status.busy": "2023-12-06T16:05:17.072259Z",
     "iopub.status.idle": "2023-12-06T16:05:17.133027Z",
     "shell.execute_reply": "2023-12-06T16:05:17.132198Z"
    },
    "papermill": {
     "duration": 0.075205,
     "end_time": "2023-12-06T16:05:17.135044",
     "exception": false,
     "start_time": "2023-12-06T16:05:17.059839",
     "status": "completed"
    },
    "tags": []
   },
   "outputs": [
    {
     "name": "stdout",
     "output_type": "stream",
     "text": [
      "cuda\n"
     ]
    }
   ],
   "source": [
    "device = torch.device(\"cuda\" if torch.cuda.is_available() else \"cpu\")\n",
    "print(device)"
   ]
  },
  {
   "cell_type": "code",
   "execution_count": 18,
   "id": "4891b115",
   "metadata": {
    "execution": {
     "iopub.execute_input": "2023-12-06T16:05:17.202868Z",
     "iopub.status.busy": "2023-12-06T16:05:17.202047Z",
     "iopub.status.idle": "2023-12-06T16:05:17.209192Z",
     "shell.execute_reply": "2023-12-06T16:05:17.208363Z"
    },
    "papermill": {
     "duration": 0.063762,
     "end_time": "2023-12-06T16:05:17.211081",
     "exception": false,
     "start_time": "2023-12-06T16:05:17.147319",
     "status": "completed"
    },
    "tags": []
   },
   "outputs": [],
   "source": [
    "class extractImageFeatureDataSet():\n",
    "    def __init__(self, data, size):\n",
    "        self.data = data \n",
    "        self.scaler = transforms.Resize([size,size])\n",
    "        self.normalize = transforms.Normalize(mean=[0.485, 0.456, 0.406],\n",
    "                                     std=[0.229, 0.224, 0.225])\n",
    "        self.to_tensor = transforms.ToTensor()\n",
    "    def __len__(self):  \n",
    "        return len(self.data)\n",
    "\n",
    "    def __getitem__(self, idx):\n",
    "\n",
    "        image_name = self.data.iloc[idx]['image']\n",
    "        img_loc = '../input/flickr30k/flickr30k_images/'+str(image_name)\n",
    "\n",
    "        img = Image.open(img_loc)\n",
    "        t_img = self.normalize(self.to_tensor(self.scaler(img)))\n",
    "\n",
    "        return image_name, t_img"
   ]
  },
  {
   "cell_type": "code",
   "execution_count": 19,
   "id": "e259f809",
   "metadata": {
    "execution": {
     "iopub.execute_input": "2023-12-06T16:05:17.235457Z",
     "iopub.status.busy": "2023-12-06T16:05:17.235162Z",
     "iopub.status.idle": "2023-12-06T16:05:17.240149Z",
     "shell.execute_reply": "2023-12-06T16:05:17.239368Z"
    },
    "papermill": {
     "duration": 0.019423,
     "end_time": "2023-12-06T16:05:17.241989",
     "exception": false,
     "start_time": "2023-12-06T16:05:17.222566",
     "status": "completed"
    },
    "tags": []
   },
   "outputs": [],
   "source": [
    "train_ImageDataset_ResNet = extractImageFeatureDataSet(unq_train_imgs , 224)\n",
    "train_ImageDataloader_ResNet = DataLoader(train_ImageDataset_ResNet, batch_size = 1, shuffle=False)\n",
    "\n",
    "valid_ImageDataset_ResNet = extractImageFeatureDataSet(unq_valid_imgs , 224)\n",
    "valid_ImageDataloader_ResNet = DataLoader(valid_ImageDataset_ResNet, batch_size = 1, shuffle=False)"
   ]
  },
  {
   "cell_type": "code",
   "execution_count": 20,
   "id": "192b9326",
   "metadata": {
    "execution": {
     "iopub.execute_input": "2023-12-06T16:05:17.265808Z",
     "iopub.status.busy": "2023-12-06T16:05:17.265265Z",
     "iopub.status.idle": "2023-12-06T16:05:17.388759Z",
     "shell.execute_reply": "2023-12-06T16:05:17.387832Z"
    },
    "papermill": {
     "duration": 0.137594,
     "end_time": "2023-12-06T16:05:17.390843",
     "exception": false,
     "start_time": "2023-12-06T16:05:17.253249",
     "status": "completed"
    },
    "tags": []
   },
   "outputs": [
    {
     "data": {
      "application/vnd.jupyter.widget-view+json": {
       "model_id": "cb516de20aa7467d9a5ff1b8bff784e2",
       "version_major": 2,
       "version_minor": 0
      },
      "text/plain": [
       "  0%|          | 0/28605 [00:00<?, ?it/s]"
      ]
     },
     "metadata": {},
     "output_type": "display_data"
    },
    {
     "name": "stdout",
     "output_type": "stream",
     "text": [
      "Image size for Resnet Features: torch.Size([1, 3, 224, 224])\n"
     ]
    }
   ],
   "source": [
    "for ima,image in tqdm(train_ImageDataloader_ResNet):\n",
    "    print(f'Image size for Resnet Features: {image.shape}')\n",
    "    break"
   ]
  },
  {
   "cell_type": "code",
   "execution_count": 21,
   "id": "68317e23",
   "metadata": {
    "execution": {
     "iopub.execute_input": "2023-12-06T16:05:17.415718Z",
     "iopub.status.busy": "2023-12-06T16:05:17.415446Z",
     "iopub.status.idle": "2023-12-06T16:05:21.660000Z",
     "shell.execute_reply": "2023-12-06T16:05:21.659116Z"
    },
    "papermill": {
     "duration": 4.259155,
     "end_time": "2023-12-06T16:05:21.661997",
     "exception": false,
     "start_time": "2023-12-06T16:05:17.402842",
     "status": "completed"
    },
    "tags": []
   },
   "outputs": [
    {
     "name": "stderr",
     "output_type": "stream",
     "text": [
      "/opt/conda/lib/python3.10/site-packages/torchvision/models/_utils.py:208: UserWarning: The parameter 'pretrained' is deprecated since 0.13 and may be removed in the future, please use 'weights' instead.\n",
      "  warnings.warn(\n",
      "/opt/conda/lib/python3.10/site-packages/torchvision/models/_utils.py:223: UserWarning: Arguments other than a weight enum or `None` for 'weights' are deprecated since 0.13 and may be removed in the future. The current behavior is equivalent to passing `weights=ResNet18_Weights.IMAGENET1K_V1`. You can also use `weights=ResNet18_Weights.DEFAULT` to get the most up-to-date weights.\n",
      "  warnings.warn(msg)\n",
      "Downloading: \"https://download.pytorch.org/models/resnet18-f37072fd.pth\" to /root/.cache/torch/hub/checkpoints/resnet18-f37072fd.pth\n",
      "100%|██████████| 44.7M/44.7M [00:01<00:00, 42.8MB/s]\n"
     ]
    },
    {
     "data": {
      "text/plain": [
       "['conv1',\n",
       " 'bn1',\n",
       " 'relu',\n",
       " 'maxpool',\n",
       " 'layer1',\n",
       " 'layer2',\n",
       " 'layer3',\n",
       " 'layer4',\n",
       " 'avgpool',\n",
       " 'fc']"
      ]
     },
     "execution_count": 21,
     "metadata": {},
     "output_type": "execute_result"
    }
   ],
   "source": [
    "resnet18 = torchvision.models.resnet18(pretrained=True).to(device)\n",
    "resnet18.eval()\n",
    "list(resnet18._modules)"
   ]
  },
  {
   "cell_type": "code",
   "execution_count": 22,
   "id": "ca67ff55",
   "metadata": {
    "execution": {
     "iopub.execute_input": "2023-12-06T16:05:21.689260Z",
     "iopub.status.busy": "2023-12-06T16:05:21.688965Z",
     "iopub.status.idle": "2023-12-06T16:05:21.693651Z",
     "shell.execute_reply": "2023-12-06T16:05:21.692891Z"
    },
    "papermill": {
     "duration": 0.020316,
     "end_time": "2023-12-06T16:05:21.695450",
     "exception": false,
     "start_time": "2023-12-06T16:05:21.675134",
     "status": "completed"
    },
    "tags": []
   },
   "outputs": [],
   "source": [
    "resNet18Layer4 = resnet18._modules.get('layer4').to(device)"
   ]
  },
  {
   "cell_type": "code",
   "execution_count": 23,
   "id": "a27d7f14",
   "metadata": {
    "execution": {
     "iopub.execute_input": "2023-12-06T16:05:21.722147Z",
     "iopub.status.busy": "2023-12-06T16:05:21.721855Z",
     "iopub.status.idle": "2023-12-06T16:05:21.726974Z",
     "shell.execute_reply": "2023-12-06T16:05:21.726155Z"
    },
    "papermill": {
     "duration": 0.020609,
     "end_time": "2023-12-06T16:05:21.728874",
     "exception": false,
     "start_time": "2023-12-06T16:05:21.708265",
     "status": "completed"
    },
    "tags": []
   },
   "outputs": [],
   "source": [
    "def get_resnet_vector(t_img):\n",
    "    \n",
    "    #Copy the embedding of the resnet to image\n",
    "    t_img = Variable(t_img)\n",
    "\n",
    "    my_embedding = torch.zeros(1, 512, 7, 7)\n",
    "    def copy_data(m, i, o):\n",
    "        my_embedding.copy_(o.data)\n",
    "    \n",
    "    h = resNet18Layer4.register_forward_hook(copy_data)\n",
    "    resnet18(t_img)\n",
    "    \n",
    "    h.remove()\n",
    "    return my_embedding"
   ]
  },
  {
   "cell_type": "code",
   "execution_count": 24,
   "id": "160555ce",
   "metadata": {
    "execution": {
     "iopub.execute_input": "2023-12-06T16:05:21.756273Z",
     "iopub.status.busy": "2023-12-06T16:05:21.755506Z",
     "iopub.status.idle": "2023-12-06T16:05:21.761352Z",
     "shell.execute_reply": "2023-12-06T16:05:21.760511Z"
    },
    "papermill": {
     "duration": 0.021423,
     "end_time": "2023-12-06T16:05:21.763180",
     "exception": false,
     "start_time": "2023-12-06T16:05:21.741757",
     "status": "completed"
    },
    "tags": []
   },
   "outputs": [],
   "source": [
    "def writeResnetPickle(loader,name):\n",
    "    picklDict = {}\n",
    "    for image_name,img in tqdm(loader):\n",
    "        img = img.to(device)\n",
    "        embdg = get_resnet_vector(img)\n",
    "        \n",
    "        picklDict[image_name[0]] =  embdg\n",
    "    \n",
    "    a_file = open(f'./{name}.pkl', \"wb\")\n",
    "    pickle.dump(picklDict, a_file)\n",
    "    a_file.close()\n",
    "    \n",
    "    return \"Done\""
   ]
  },
  {
   "cell_type": "code",
   "execution_count": 25,
   "id": "a514a1ff",
   "metadata": {
    "execution": {
     "iopub.execute_input": "2023-12-06T16:05:21.790888Z",
     "iopub.status.busy": "2023-12-06T16:05:21.790096Z",
     "iopub.status.idle": "2023-12-06T16:15:30.335790Z",
     "shell.execute_reply": "2023-12-06T16:15:30.334734Z"
    },
    "papermill": {
     "duration": 608.5748,
     "end_time": "2023-12-06T16:15:30.351026",
     "exception": false,
     "start_time": "2023-12-06T16:05:21.776226",
     "status": "completed"
    },
    "tags": []
   },
   "outputs": [
    {
     "data": {
      "application/vnd.jupyter.widget-view+json": {
       "model_id": "cea0cc4388a34c38bdc97a2aea0d2198",
       "version_major": 2,
       "version_minor": 0
      },
      "text/plain": [
       "  0%|          | 0/28605 [00:00<?, ?it/s]"
      ]
     },
     "metadata": {},
     "output_type": "display_data"
    },
    {
     "data": {
      "application/vnd.jupyter.widget-view+json": {
       "model_id": "3562af34a59043d8ab7eabd865c2903d",
       "version_major": 2,
       "version_minor": 0
      },
      "text/plain": [
       "  0%|          | 0/3179 [00:00<?, ?it/s]"
      ]
     },
     "metadata": {},
     "output_type": "display_data"
    },
    {
     "data": {
      "text/plain": [
       "'Done'"
      ]
     },
     "execution_count": 25,
     "metadata": {},
     "output_type": "execute_result"
    }
   ],
   "source": [
    "writeResnetPickle(train_ImageDataloader_ResNet,'resnetTrainEncoder')\n",
    "writeResnetPickle(valid_ImageDataloader_ResNet,'resnetValidEncoder')"
   ]
  },
  {
   "cell_type": "code",
   "execution_count": 26,
   "id": "13aef856",
   "metadata": {
    "execution": {
     "iopub.execute_input": "2023-12-06T16:15:30.380021Z",
     "iopub.status.busy": "2023-12-06T16:15:30.379678Z",
     "iopub.status.idle": "2023-12-06T16:15:30.386839Z",
     "shell.execute_reply": "2023-12-06T16:15:30.385998Z"
    },
    "papermill": {
     "duration": 0.024061,
     "end_time": "2023-12-06T16:15:30.388730",
     "exception": false,
     "start_time": "2023-12-06T16:15:30.364669",
     "status": "completed"
    },
    "tags": []
   },
   "outputs": [],
   "source": [
    "class FlickerDataSet():\n",
    "    def __init__(self, data, pkl_file):\n",
    "        self.data = data\n",
    "        self.encodedImgs = pd.read_pickle(pkl_file)\n",
    "\n",
    "    def __len__(self):\n",
    "        return len(self.data)\n",
    "\n",
    "    def __getitem__(self, idx):\n",
    "    \n",
    "        caption_seq = self.data.iloc[idx]['text_seq']\n",
    "        target_seq = caption_seq[1:]+[0]\n",
    "\n",
    "        image_name = self.data.iloc[idx]['image']\n",
    "        image_tensor = self.encodedImgs[image_name]\n",
    "        image_tensor = image_tensor.permute(0,2,3,1)\n",
    "        image_tensor_view = image_tensor.view(image_tensor.size(0), -1, image_tensor.size(3))\n",
    "\n",
    "        return torch.tensor(caption_seq), torch.tensor(target_seq), image_tensor_view"
   ]
  },
  {
   "cell_type": "code",
   "execution_count": 27,
   "id": "63f6f8bc",
   "metadata": {
    "execution": {
     "iopub.execute_input": "2023-12-06T16:15:30.416785Z",
     "iopub.status.busy": "2023-12-06T16:15:30.416242Z",
     "iopub.status.idle": "2023-12-06T16:15:30.421213Z",
     "shell.execute_reply": "2023-12-06T16:15:30.420234Z"
    },
    "papermill": {
     "duration": 0.020768,
     "end_time": "2023-12-06T16:15:30.423114",
     "exception": false,
     "start_time": "2023-12-06T16:15:30.402346",
     "status": "completed"
    },
    "tags": []
   },
   "outputs": [],
   "source": [
    "def getEncodedLoader(data,pickleFile,train):\n",
    "    dataset = FlickerDataSet(data,pickleFile)\n",
    "    if train:\n",
    "        loader = DataLoader(dataset, batch_size = 32, shuffle = True)\n",
    "    else:\n",
    "        loader = DataLoader(dataset, batch_size = 32, shuffle = False)\n",
    "    \n",
    "    return loader"
   ]
  },
  {
   "cell_type": "code",
   "execution_count": 28,
   "id": "8176bc1f",
   "metadata": {
    "execution": {
     "iopub.execute_input": "2023-12-06T16:15:30.450670Z",
     "iopub.status.busy": "2023-12-06T16:15:30.450416Z",
     "iopub.status.idle": "2023-12-06T16:15:36.483335Z",
     "shell.execute_reply": "2023-12-06T16:15:36.482349Z"
    },
    "papermill": {
     "duration": 6.04945,
     "end_time": "2023-12-06T16:15:36.485758",
     "exception": false,
     "start_time": "2023-12-06T16:15:30.436308",
     "status": "completed"
    },
    "tags": []
   },
   "outputs": [],
   "source": [
    "train_resnet_loader = getEncodedLoader(train,'resnetTrainEncoder.pkl',True)\n",
    "valid_resnet_loader = getEncodedLoader(valid, 'resnetValidEncoder.pkl',False)"
   ]
  },
  {
   "cell_type": "code",
   "execution_count": 29,
   "id": "1f05645d",
   "metadata": {
    "execution": {
     "iopub.execute_input": "2023-12-06T16:15:36.514717Z",
     "iopub.status.busy": "2023-12-06T16:15:36.513934Z",
     "iopub.status.idle": "2023-12-06T16:15:36.523445Z",
     "shell.execute_reply": "2023-12-06T16:15:36.522624Z"
    },
    "papermill": {
     "duration": 0.025946,
     "end_time": "2023-12-06T16:15:36.525356",
     "exception": false,
     "start_time": "2023-12-06T16:15:36.499410",
     "status": "completed"
    },
    "tags": []
   },
   "outputs": [],
   "source": [
    "class PositionalEncoding(nn.Module):\n",
    "\n",
    "    def __init__(self, d_model, dropout=0.1, max_len=max_seq_len):\n",
    "        super(PositionalEncoding, self).__init__()\n",
    "        self.dropout = nn.Dropout(p=dropout)\n",
    "\n",
    "        pe = torch.zeros(max_len, d_model)\n",
    "        position = torch.arange(0, max_len, dtype=torch.float).unsqueeze(1)\n",
    "        div_term = torch.exp(torch.arange(0, d_model, 2).float() * (-math.log(10000.0) / d_model))\n",
    "        pe[:, 0::2] = torch.sin(position * div_term)\n",
    "        pe[:, 1::2] = torch.cos(position * div_term)\n",
    "        pe = pe.unsqueeze(0)\n",
    "        self.register_buffer('pe', pe)\n",
    "        \n",
    "\n",
    "    def forward(self, x):\n",
    "        if self.pe.size(0) < x.size(0):\n",
    "            self.pe = self.pe.repeat(x.size(0), 1, 1).to(device)\n",
    "        self.pe = self.pe[:x.size(0), : , : ]\n",
    "        \n",
    "        x = x + self.pe\n",
    "        return self.dropout(x)"
   ]
  },
  {
   "cell_type": "code",
   "execution_count": 30,
   "id": "74f53e8d",
   "metadata": {
    "execution": {
     "iopub.execute_input": "2023-12-06T16:15:36.554081Z",
     "iopub.status.busy": "2023-12-06T16:15:36.553369Z",
     "iopub.status.idle": "2023-12-06T16:15:36.565728Z",
     "shell.execute_reply": "2023-12-06T16:15:36.565056Z"
    },
    "papermill": {
     "duration": 0.028342,
     "end_time": "2023-12-06T16:15:36.567448",
     "exception": false,
     "start_time": "2023-12-06T16:15:36.539106",
     "status": "completed"
    },
    "tags": []
   },
   "outputs": [],
   "source": [
    "class ImageCaptionModel(nn.Module):\n",
    "    def __init__(self, n_head, n_decoder_layer, vocab_size, embedding_size):\n",
    "        super(ImageCaptionModel, self).__init__()\n",
    "        self.pos_encoder = PositionalEncoding(embedding_size, 0.1)\n",
    "        self.TransformerDecoderLayer = nn.TransformerDecoderLayer(d_model =  embedding_size, nhead = n_head)\n",
    "        self.TransformerDecoder = nn.TransformerDecoder(decoder_layer = self.TransformerDecoderLayer, num_layers = n_decoder_layer)\n",
    "        self.embedding_size = embedding_size\n",
    "        self.embedding = nn.Embedding(vocab_size , embedding_size)\n",
    "        self.last_linear_layer = nn.Linear(embedding_size, vocab_size)\n",
    "        self.init_weights()\n",
    "\n",
    "    def init_weights(self):\n",
    "        initrange = 0.1\n",
    "        self.embedding.weight.data.uniform_(-initrange, initrange)\n",
    "        self.last_linear_layer.bias.data.zero_()\n",
    "        self.last_linear_layer.weight.data.uniform_(-initrange, initrange)\n",
    "\n",
    "    def generate_Mask(self, size, decoder_inp):\n",
    "        decoder_input_mask = (torch.triu(torch.ones(size, size)) == 1).transpose(0, 1)\n",
    "        decoder_input_mask = decoder_input_mask.float().masked_fill(decoder_input_mask == 0, float('-inf')).masked_fill(decoder_input_mask == 1, float(0.0))\n",
    "\n",
    "        decoder_input_pad_mask = decoder_inp.float().masked_fill(decoder_inp == 0, float(0.0)).masked_fill(decoder_inp > 0, float(1.0))\n",
    "        decoder_input_pad_mask_bool = decoder_inp == 0\n",
    "\n",
    "        return decoder_input_mask, decoder_input_pad_mask, decoder_input_pad_mask_bool\n",
    "\n",
    "    def forward(self, encoded_image, decoder_inp):\n",
    "        encoded_image = encoded_image.permute(1,0,2)\n",
    "        \n",
    "        decoder_inp_embed = self.embedding(decoder_inp)* math.sqrt(self.embedding_size)\n",
    "        \n",
    "        \n",
    "        decoder_inp_embed = self.pos_encoder(decoder_inp_embed)\n",
    "        decoder_inp_embed = decoder_inp_embed.permute(1,0,2)\n",
    "        \n",
    "\n",
    "        decoder_input_mask, decoder_input_pad_mask, decoder_input_pad_mask_bool = self.generate_Mask(decoder_inp.size(1), decoder_inp)\n",
    "        decoder_input_mask = decoder_input_mask.to(device)\n",
    "        decoder_input_pad_mask = decoder_input_pad_mask.to(device)\n",
    "        decoder_input_pad_mask_bool = decoder_input_pad_mask_bool.to(device)\n",
    "\n",
    "        decoder_output = self.TransformerDecoder(tgt = decoder_inp_embed, memory = encoded_image, tgt_mask = decoder_input_mask, tgt_key_padding_mask = decoder_input_pad_mask_bool)\n",
    "        \n",
    "        final_output = self.last_linear_layer(decoder_output)\n",
    "\n",
    "        return final_output,  decoder_input_pad_mask\n"
   ]
  },
  {
   "cell_type": "code",
   "execution_count": 31,
   "id": "89cefd2b",
   "metadata": {
    "execution": {
     "iopub.execute_input": "2023-12-06T16:15:36.595466Z",
     "iopub.status.busy": "2023-12-06T16:15:36.595011Z",
     "iopub.status.idle": "2023-12-06T16:15:36.598830Z",
     "shell.execute_reply": "2023-12-06T16:15:36.597999Z"
    },
    "papermill": {
     "duration": 0.019931,
     "end_time": "2023-12-06T16:15:36.600766",
     "exception": false,
     "start_time": "2023-12-06T16:15:36.580835",
     "status": "completed"
    },
    "tags": []
   },
   "outputs": [],
   "source": [
    "EPOCH = 20"
   ]
  },
  {
   "cell_type": "code",
   "execution_count": 32,
   "id": "50941153",
   "metadata": {
    "execution": {
     "iopub.execute_input": "2023-12-06T16:15:36.629486Z",
     "iopub.status.busy": "2023-12-06T16:15:36.628729Z",
     "iopub.status.idle": "2023-12-06T16:15:37.069005Z",
     "shell.execute_reply": "2023-12-06T16:15:37.068164Z"
    },
    "papermill": {
     "duration": 0.456876,
     "end_time": "2023-12-06T16:15:37.071395",
     "exception": false,
     "start_time": "2023-12-06T16:15:36.614519",
     "status": "completed"
    },
    "tags": []
   },
   "outputs": [],
   "source": [
    "ictModel = ImageCaptionModel(n_head=16, n_decoder_layer=5, vocab_size=vocab_size, embedding_size=512).to(device)\n",
    "optimizer = torch.optim.Adam(ictModel.parameters(), lr = 0.00001)\n",
    "scheduler = torch.optim.lr_scheduler.ReduceLROnPlateau(optimizer, factor = 0.8, patience=2, verbose = True)\n",
    "criterion = torch.nn.CrossEntropyLoss(reduction='none')\n",
    "min_val_loss = float('Inf')"
   ]
  },
  {
   "cell_type": "code",
   "execution_count": 33,
   "id": "4297e5da",
   "metadata": {
    "execution": {
     "iopub.execute_input": "2023-12-06T16:15:37.102059Z",
     "iopub.status.busy": "2023-12-06T16:15:37.101720Z",
     "iopub.status.idle": "2023-12-06T20:02:10.711587Z",
     "shell.execute_reply": "2023-12-06T20:02:10.710229Z"
    },
    "papermill": {
     "duration": 13593.627868,
     "end_time": "2023-12-06T20:02:10.713810",
     "exception": false,
     "start_time": "2023-12-06T16:15:37.085942",
     "status": "completed"
    },
    "tags": []
   },
   "outputs": [
    {
     "data": {
      "application/vnd.jupyter.widget-view+json": {
       "model_id": "510d1acb6fc644fd858ba36ee6b9b8ed",
       "version_major": 2,
       "version_minor": 0
      },
      "text/plain": [
       "  0%|          | 0/20 [00:00<?, ?it/s]"
      ]
     },
     "metadata": {},
     "output_type": "display_data"
    },
    {
     "name": "stderr",
     "output_type": "stream",
     "text": [
      "/opt/conda/lib/python3.10/site-packages/torch/nn/functional.py:4999: UserWarning: Support for mismatched key_padding_mask and attn_mask is deprecated. Use same type for both instead.\n",
      "  warnings.warn(\n"
     ]
    },
    {
     "name": "stdout",
     "output_type": "stream",
     "text": [
      "Epoch ->  0  Training Loss ->  4.8881964683532715 Eval Loss ->  4.554938316345215\n",
      "Writing Model at epoch  0\n",
      "Epoch ->  1  Training Loss ->  4.060741424560547 Eval Loss ->  4.23807954788208\n",
      "Writing Model at epoch  1\n",
      "Epoch ->  2  Training Loss ->  3.8058629035949707 Eval Loss ->  4.056238174438477\n",
      "Writing Model at epoch  2\n",
      "Epoch ->  3  Training Loss ->  3.639719009399414 Eval Loss ->  3.931603193283081\n",
      "Writing Model at epoch  3\n",
      "Epoch ->  4  Training Loss ->  3.517350196838379 Eval Loss ->  3.8430142402648926\n",
      "Writing Model at epoch  4\n",
      "Epoch ->  5  Training Loss ->  3.419080972671509 Eval Loss ->  3.7760162353515625\n",
      "Writing Model at epoch  5\n",
      "Epoch ->  6  Training Loss ->  3.3378751277923584 Eval Loss ->  3.728520393371582\n",
      "Writing Model at epoch  6\n",
      "Epoch ->  7  Training Loss ->  3.2670180797576904 Eval Loss ->  3.6716644763946533\n",
      "Writing Model at epoch  7\n",
      "Epoch ->  8  Training Loss ->  3.2040796279907227 Eval Loss ->  3.6354575157165527\n",
      "Writing Model at epoch  8\n",
      "Epoch ->  9  Training Loss ->  3.1466445922851562 Eval Loss ->  3.6058883666992188\n",
      "Writing Model at epoch  9\n",
      "Epoch ->  10  Training Loss ->  3.094447612762451 Eval Loss ->  3.575090169906616\n",
      "Writing Model at epoch  10\n",
      "Epoch ->  11  Training Loss ->  3.046297550201416 Eval Loss ->  3.559540033340454\n",
      "Writing Model at epoch  11\n",
      "Epoch ->  12  Training Loss ->  3.0007822513580322 Eval Loss ->  3.5378477573394775\n",
      "Writing Model at epoch  12\n",
      "Epoch ->  13  Training Loss ->  2.9574594497680664 Eval Loss ->  3.525773763656616\n",
      "Writing Model at epoch  13\n",
      "Epoch ->  14  Training Loss ->  2.916005849838257 Eval Loss ->  3.51489520072937\n",
      "Writing Model at epoch  14\n",
      "Epoch ->  15  Training Loss ->  2.8768184185028076 Eval Loss ->  3.4987552165985107\n",
      "Writing Model at epoch  15\n",
      "Epoch ->  16  Training Loss ->  2.8380613327026367 Eval Loss ->  3.4894895553588867\n",
      "Writing Model at epoch  16\n",
      "Epoch ->  17  Training Loss ->  2.8007092475891113 Eval Loss ->  3.4873135089874268\n",
      "Writing Model at epoch  17\n",
      "Epoch ->  18  Training Loss ->  2.7653298377990723 Eval Loss ->  3.4730947017669678\n",
      "Writing Model at epoch  18\n",
      "Epoch ->  19  Training Loss ->  2.7307403087615967 Eval Loss ->  3.472414016723633\n",
      "Writing Model at epoch  19\n"
     ]
    }
   ],
   "source": [
    "train_losses = []\n",
    "valid_losses = []\n",
    "  \n",
    "for epoch in tqdm(range(EPOCH)):\n",
    "    total_epoch_train_loss = 0\n",
    "    total_epoch_valid_loss = 0\n",
    "    total_train_words = 0\n",
    "    total_valid_words = 0\n",
    "    ictModel.train()\n",
    "\n",
    "    ### Train Loop\n",
    "    for caption_seq, target_seq, image_embed in train_resnet_loader:\n",
    "\n",
    "        optimizer.zero_grad()\n",
    "        \n",
    "        image_embed = image_embed.squeeze(1).to(device)\n",
    "        caption_seq = caption_seq.to(device)\n",
    "        target_seq = target_seq.to(device)\n",
    "\n",
    "        output, padding_mask = ictModel.forward(image_embed, caption_seq)\n",
    "        output = output.permute(1, 2, 0)\n",
    "\n",
    "        loss = criterion(output,target_seq)\n",
    "\n",
    "        loss_masked = torch.mul(loss, padding_mask)\n",
    "\n",
    "        final_batch_loss = torch.sum(loss_masked)/torch.sum(padding_mask)\n",
    "\n",
    "        final_batch_loss.backward()\n",
    "        optimizer.step()\n",
    "        total_epoch_train_loss += torch.sum(loss_masked).detach().item()\n",
    "        total_train_words += torch.sum(padding_mask)\n",
    "\n",
    " \n",
    "    total_epoch_train_loss = total_epoch_train_loss/total_train_words\n",
    "  \n",
    "\n",
    "    ### Eval Loop\n",
    "    ictModel.eval()\n",
    "    with torch.no_grad():\n",
    "        for caption_seq, target_seq, image_embed in valid_resnet_loader:\n",
    "\n",
    "            image_embed = image_embed.squeeze(1).to(device)\n",
    "            caption_seq = caption_seq.to(device)\n",
    "            target_seq = target_seq.to(device)\n",
    "\n",
    "            output, padding_mask = ictModel.forward(image_embed, caption_seq)\n",
    "            output = output.permute(1, 2, 0)\n",
    "\n",
    "            loss = criterion(output,target_seq)\n",
    "\n",
    "            loss_masked = torch.mul(loss, padding_mask)\n",
    "\n",
    "            total_epoch_valid_loss += torch.sum(loss_masked).detach().item()\n",
    "            total_valid_words += torch.sum(padding_mask)\n",
    "\n",
    "    total_epoch_valid_loss = total_epoch_valid_loss/total_valid_words\n",
    "    \n",
    "    \n",
    "    print(\"Epoch -> \", epoch,\" Training Loss -> \", total_epoch_train_loss.item(), \"Eval Loss -> \", total_epoch_valid_loss.item() )\n",
    "    \n",
    "\n",
    "    train_losses.append(total_epoch_train_loss.item())\n",
    "    valid_losses.append(total_epoch_valid_loss.item())\n",
    "    \n",
    "    if min_val_loss > total_epoch_valid_loss:\n",
    "        print(\"Writing Model at epoch \", epoch)\n",
    "        torch.save(ictModel, './BestModel.pt')\n",
    "        min_val_loss = total_epoch_valid_loss\n",
    "  \n",
    "\n",
    "    scheduler.step(total_epoch_valid_loss.item())"
   ]
  },
  {
   "cell_type": "code",
   "execution_count": 34,
   "id": "0f41549f",
   "metadata": {
    "execution": {
     "iopub.execute_input": "2023-12-06T20:02:10.745788Z",
     "iopub.status.busy": "2023-12-06T20:02:10.745468Z",
     "iopub.status.idle": "2023-12-06T20:02:11.168238Z",
     "shell.execute_reply": "2023-12-06T20:02:11.167456Z"
    },
    "papermill": {
     "duration": 0.44134,
     "end_time": "2023-12-06T20:02:11.170571",
     "exception": false,
     "start_time": "2023-12-06T20:02:10.729231",
     "status": "completed"
    },
    "tags": []
   },
   "outputs": [],
   "source": [
    "torch.save(ictModel,'FinalModel.pt')"
   ]
  },
  {
   "cell_type": "code",
   "execution_count": 35,
   "id": "06eebe3b",
   "metadata": {
    "execution": {
     "iopub.execute_input": "2023-12-06T20:02:11.203073Z",
     "iopub.status.busy": "2023-12-06T20:02:11.202221Z",
     "iopub.status.idle": "2023-12-06T20:02:11.484088Z",
     "shell.execute_reply": "2023-12-06T20:02:11.483110Z"
    },
    "papermill": {
     "duration": 0.300499,
     "end_time": "2023-12-06T20:02:11.486480",
     "exception": false,
     "start_time": "2023-12-06T20:02:11.185981",
     "status": "completed"
    },
    "tags": []
   },
   "outputs": [
    {
     "data": {
      "image/png": "[encoded data removed]",
      "text/plain": [
       "<Figure size 640x480 with 1 Axes>"
      ]
     },
     "metadata": {},
     "output_type": "display_data"
    },
    {
     "data": {
      "text/plain": [
       "<Figure size 640x480 with 0 Axes>"
      ]
     },
     "metadata": {},
     "output_type": "display_data"
    }
   ],
   "source": [
    "import matplotlib.pyplot as plt\n",
    "\n",
    "plt.plot(train_losses, label = 'Training Loss')\n",
    "plt.plot(valid_losses, label = 'Validation Loss')\n",
    "\n",
    "plt.legend()\n",
    "plt.show()\n",
    "\n",
    "plt.savefig('Loss.png')"
   ]
  },
  {
   "cell_type": "code",
   "execution_count": 36,
   "id": "3c6e25f3",
   "metadata": {
    "execution": {
     "iopub.execute_input": "2023-12-06T20:02:11.521171Z",
     "iopub.status.busy": "2023-12-06T20:02:11.520407Z",
     "iopub.status.idle": "2023-12-06T20:02:11.721706Z",
     "shell.execute_reply": "2023-12-06T20:02:11.720650Z"
    },
    "papermill": {
     "duration": 0.220569,
     "end_time": "2023-12-06T20:02:11.723833",
     "exception": false,
     "start_time": "2023-12-06T20:02:11.503264",
     "status": "completed"
    },
    "tags": []
   },
   "outputs": [
    {
     "name": "stdout",
     "output_type": "stream",
     "text": [
      "1 2 0\n"
     ]
    }
   ],
   "source": [
    "model = torch.load('BestModel.pt')\n",
    "start_token = word_to_index['<start>']\n",
    "end_token = word_to_index['<end>']\n",
    "pad_token = word_to_index['<pad>']\n",
    "max_seq_len = 74\n",
    "print(start_token, end_token, pad_token)"
   ]
  },
  {
   "cell_type": "code",
   "execution_count": 37,
   "id": "7477d96c",
   "metadata": {
    "execution": {
     "iopub.execute_input": "2023-12-06T20:02:11.757836Z",
     "iopub.status.busy": "2023-12-06T20:02:11.757148Z",
     "iopub.status.idle": "2023-12-06T20:02:12.244219Z",
     "shell.execute_reply": "2023-12-06T20:02:12.243420Z"
    },
    "papermill": {
     "duration": 0.506688,
     "end_time": "2023-12-06T20:02:12.246779",
     "exception": false,
     "start_time": "2023-12-06T20:02:11.740091",
     "status": "completed"
    },
    "tags": []
   },
   "outputs": [],
   "source": [
    "valid_img_embed = pd.read_pickle('resnetValidEncoder.pkl')"
   ]
  },
  {
   "cell_type": "code",
   "execution_count": 38,
   "id": "c573ab93",
   "metadata": {
    "execution": {
     "iopub.execute_input": "2023-12-06T20:02:12.280795Z",
     "iopub.status.busy": "2023-12-06T20:02:12.280436Z",
     "iopub.status.idle": "2023-12-06T20:02:12.290540Z",
     "shell.execute_reply": "2023-12-06T20:02:12.289660Z"
    },
    "papermill": {
     "duration": 0.029302,
     "end_time": "2023-12-06T20:02:12.292407",
     "exception": false,
     "start_time": "2023-12-06T20:02:12.263105",
     "status": "completed"
    },
    "tags": []
   },
   "outputs": [],
   "source": [
    "def generate_caption(K, img_nm): \n",
    "    img_loc = '../input/flickr30k/flickr30k_images/'+str(img_nm)\n",
    "    image = Image.open(img_loc).convert(\"RGB\")\n",
    "\n",
    "    model.eval() \n",
    "    valid_img_df = valid[valid['image']==img_nm]\n",
    "    print(\"Actual Caption : \")\n",
    "    print(valid_img_df['caption'].tolist())\n",
    "    img_embed = valid_img_embed[img_nm].to(device)\n",
    "    img_embed = img_embed.permute(0,2,3,1)\n",
    "    img_embed = img_embed.view(img_embed.size(0), -1, img_embed.size(3))\n",
    "\n",
    "    input_seq = [pad_token]*max_seq_len\n",
    "    input_seq[0] = start_token\n",
    "\n",
    "    input_seq = torch.tensor(input_seq).unsqueeze(0).to(device)\n",
    "    \n",
    "    predicted_sentence = []\n",
    "    with torch.no_grad():\n",
    "        for eval_iter in range(0, max_seq_len):\n",
    "\n",
    "            output, padding_mask = model.forward(img_embed, input_seq)\n",
    "            output = output[eval_iter, 0, :]\n",
    "            values = torch.topk(output, K).values.tolist()\n",
    "            indices = torch.topk(output, K).indices.tolist()\n",
    "            next_word_index = random.choices(indices, values, k = 1)[0]\n",
    "\n",
    "            next_word = index_to_word[next_word_index]\n",
    "\n",
    "            input_seq[:, eval_iter+1] = next_word_index\n",
    "\n",
    "\n",
    "            if next_word == '<end>' :\n",
    "                break\n",
    "\n",
    "            predicted_sentence.append(next_word)\n",
    "    print(\"\\n\")\n",
    "    print(\"Predicted caption : \")\n",
    "    print(\" \".join(predicted_sentence+['.']))"
   ]
  },
  {
   "cell_type": "markdown",
   "id": "320e5264",
   "metadata": {
    "papermill": {
     "duration": 0.015606,
     "end_time": "2023-12-06T20:02:12.324031",
     "exception": false,
     "start_time": "2023-12-06T20:02:12.308425",
     "status": "completed"
    },
    "tags": []
   },
   "source": [
    "# Let's Generate Captions "
   ]
  },
  {
   "cell_type": "code",
   "execution_count": 39,
   "id": "af15808c",
   "metadata": {
    "execution": {
     "iopub.execute_input": "2023-12-06T20:02:12.357878Z",
     "iopub.status.busy": "2023-12-06T20:02:12.357056Z",
     "iopub.status.idle": "2023-12-06T20:02:12.452683Z",
     "shell.execute_reply": "2023-12-06T20:02:12.451511Z"
    },
    "papermill": {
     "duration": 0.115458,
     "end_time": "2023-12-06T20:02:12.455418",
     "exception": false,
     "start_time": "2023-12-06T20:02:12.339960",
     "status": "completed"
    },
    "tags": []
   },
   "outputs": [
    {
     "name": "stdout",
     "output_type": "stream",
     "text": [
      "Actual Caption : \n",
      "['Two men  one wearing a gray shirt and the other wearing a plaid coat  are fishing on a pier .', 'Two men sit on top of a weathered fort-like structure next to the sea  fishing .', 'Two men near a lake with fishing poles out into the lake .', 'Men fishing off of a pier built out of stone .', 'Two men fish off of a cliff .']\n",
      "\n",
      "\n",
      "Predicted caption : \n",
      "two men are on the side of the road .\n"
     ]
    },
    {
     "name": "stderr",
     "output_type": "stream",
     "text": [
      "/opt/conda/lib/python3.10/site-packages/torch/nn/functional.py:4999: UserWarning: Support for mismatched key_padding_mask and attn_mask is deprecated. Use same type for both instead.\n",
      "  warnings.warn(\n"
     ]
    }
   ],
   "source": [
    "generate_caption(1, unq_valid_imgs.iloc[50]['image'])"
   ]
  },
  {
   "cell_type": "code",
   "execution_count": 40,
   "id": "fc132a75",
   "metadata": {
    "execution": {
     "iopub.execute_input": "2023-12-06T20:02:12.489932Z",
     "iopub.status.busy": "2023-12-06T20:02:12.489237Z",
     "iopub.status.idle": "2023-12-06T20:02:12.605578Z",
     "shell.execute_reply": "2023-12-06T20:02:12.604288Z"
    },
    "papermill": {
     "duration": 0.135617,
     "end_time": "2023-12-06T20:02:12.607630",
     "exception": false,
     "start_time": "2023-12-06T20:02:12.472013",
     "status": "completed"
    },
    "tags": []
   },
   "outputs": [
    {
     "name": "stdout",
     "output_type": "stream",
     "text": [
      "Actual Caption : \n",
      "['Two men  one wearing a gray shirt and the other wearing a plaid coat  are fishing on a pier .', 'Two men sit on top of a weathered fort-like structure next to the sea  fishing .', 'Two men near a lake with fishing poles out into the lake .', 'Men fishing off of a pier built out of stone .', 'Two men fish off of a cliff .']\n",
      "\n",
      "\n",
      "Predicted caption : \n",
      "two people are on top cliff overlooking water and one man in the foreground .\n"
     ]
    }
   ],
   "source": [
    "generate_caption(2, unq_valid_imgs.iloc[50]['image'])"
   ]
  }
 ],
 "metadata": {
  "kaggle": {
   "accelerator": "gpu",
   "dataSources": [
    {
     "datasetId": 623289,
     "sourceId": 1111676,
     "sourceType": "datasetVersion"
    },
    {
     "datasetId": 2808179,
     "sourceId": 4845244,
     "sourceType": "datasetVersion"
    }
   ],
   "dockerImageVersionId": 30588,
   "isGpuEnabled": true,
   "isInternetEnabled": true,
   "language": "python",
   "sourceType": "notebook"
  },
  "kernelspec": {
   "display_name": "Python 3",
   "language": "python",
   "name": "python3"
  },
  "language_info": {
   "codemirror_mode": {
    "name": "ipython",
    "version": 3
   },
   "file_extension": ".py",
   "mimetype": "text/x-python",
   "name": "python",
   "nbconvert_exporter": "python",
   "pygments_lexer": "ipython3",
   "version": "3.10.12"
  },
  "papermill": {
   "default_parameters": {},
   "duration": 14235.239594,
   "end_time": "2023-12-06T20:02:15.892188",
   "environment_variables": {},
   "exception": null,
   "input_path": "__notebook__.ipynb",
   "output_path": "__notebook__.ipynb",
   "parameters": {},
   "start_time": "2023-12-06T16:05:00.652594",
   "version": "2.4.0"
  },
  "widgets": {
   "application/vnd.jupyter.widget-state+json": {
    "state": {
     "0f39dbf5882e4bcfa5be530662f64ad8": {
      "model_module": "@jupyter-widgets/base",
      "model_module_version": "1.2.0",
      "model_name": "LayoutModel",
      "state": {
       "_model_module": "@jupyter-widgets/base",
       "_model_module_version": "1.2.0",
       "_model_name": "LayoutModel",
       "_view_count": null,
       "_view_module": "@jupyter-widgets/base",
       "_view_module_version": "1.2.0",
       "_view_name": "LayoutView",
       "align_content": null,
       "align_items": null,
       "align_self": null,
       "border": null,
       "bottom": null,
       "display": null,
       "flex": null,
       "flex_flow": null,
       "grid_area": null,
       "grid_auto_columns": null,
       "grid_auto_flow": null,
       "grid_auto_rows": null,
       "grid_column": null,
       "grid_gap": null,
       "grid_row": null,
       "grid_template_areas": null,
       "grid_template_columns": null,
       "grid_template_rows": null,
       "height": null,
       "justify_content": null,
       "justify_items": null,
       "left": null,
       "margin": null,
       "max_height": null,
       "max_width": null,
       "min_height": null,
       "min_width": null,
       "object_fit": null,
       "object_position": null,
       "order": null,
       "overflow": null,
       "overflow_x": null,
       "overflow_y": null,
       "padding": null,
       "right": null,
       "top": null,
       "visibility": null,
       "width": null
      }
     },
     "1631c7a8008746d3ba42e5db2bd0ca2c": {
      "model_module": "@jupyter-widgets/controls",
      "model_module_version": "1.5.0",
      "model_name": "HTMLModel",
      "state": {
       "_dom_classes": [],
       "_model_module": "@jupyter-widgets/controls",
       "_model_module_version": "1.5.0",
       "_model_name": "HTMLModel",
       "_view_count": null,
       "_view_module": "@jupyter-widgets/controls",
       "_view_module_version": "1.5.0",
       "_view_name": "HTMLView",
       "description": "",
       "description_tooltip": null,
       "layout": "IPY_MODEL_281b1f5d2c3a4e36819421b0021cad02",
       "placeholder": "​",
       "style": "IPY_MODEL_7ac3a285cd6e4c1da444f976a3151bd1",
       "value": "100%"
      }
     },
     "1a63b3f198094c088060872cf394d126": {
      "model_module": "@jupyter-widgets/controls",
      "model_module_version": "1.5.0",
      "model_name": "HTMLModel",
      "state": {
       "_dom_classes": [],
       "_model_module": "@jupyter-widgets/controls",
       "_model_module_version": "1.5.0",
       "_model_name": "HTMLModel",
       "_view_count": null,
       "_view_module": "@jupyter-widgets/controls",
       "_view_module_version": "1.5.0",
       "_view_name": "HTMLView",
       "description": "",
       "description_tooltip": null,
       "layout": "IPY_MODEL_ea98505f1db84cc1a589edb36ca77d95",
       "placeholder": "​",
       "style": "IPY_MODEL_aa547c1f50fe4824a733ec317a445a2c",
       "value": "  0%"
      }
     },
     "1e02fad21ba64c8ea0a72fadadc9630d": {
      "model_module": "@jupyter-widgets/base",
      "model_module_version": "1.2.0",
      "model_name": "LayoutModel",
      "state": {
       "_model_module": "@jupyter-widgets/base",
       "_model_module_version": "1.2.0",
       "_model_name": "LayoutModel",
       "_view_count": null,
       "_view_module": "@jupyter-widgets/base",
       "_view_module_version": "1.2.0",
       "_view_name": "LayoutView",
       "align_content": null,
       "align_items": null,
       "align_self": null,
       "border": null,
       "bottom": null,
       "display": null,
       "flex": null,
       "flex_flow": null,
       "grid_area": null,
       "grid_auto_columns": null,
       "grid_auto_flow": null,
       "grid_auto_rows": null,
       "grid_column": null,
       "grid_gap": null,
       "grid_row": null,
       "grid_template_areas": null,
       "grid_template_columns": null,
       "grid_template_rows": null,
       "height": null,
       "justify_content": null,
       "justify_items": null,
       "left": null,
       "margin": null,
       "max_height": null,
       "max_width": null,
       "min_height": null,
       "min_width": null,
       "object_fit": null,
       "object_position": null,
       "order": null,
       "overflow": null,
       "overflow_x": null,
       "overflow_y": null,
       "padding": null,
       "right": null,
       "top": null,
       "visibility": null,
       "width": null
      }
     },
     "281b1f5d2c3a4e36819421b0021cad02": {
      "model_module": "@jupyter-widgets/base",
      "model_module_version": "1.2.0",
      "model_name": "LayoutModel",
      "state": {
       "_model_module": "@jupyter-widgets/base",
       "_model_module_version": "1.2.0",
       "_model_name": "LayoutModel",
       "_view_count": null,
       "_view_module": "@jupyter-widgets/base",
       "_view_module_version": "1.2.0",
       "_view_name": "LayoutView",
       "align_content": null,
       "align_items": null,
       "align_self": null,
       "border": null,
       "bottom": null,
       "display": null,
       "flex": null,
       "flex_flow": null,
       "grid_area": null,
       "grid_auto_columns": null,
       "grid_auto_flow": null,
       "grid_auto_rows": null,
       "grid_column": null,
       "grid_gap": null,
       "grid_row": null,
       "grid_template_areas": null,
       "grid_template_columns": null,
       "grid_template_rows": null,
       "height": null,
       "justify_content": null,
       "justify_items": null,
       "left": null,
       "margin": null,
       "max_height": null,
       "max_width": null,
       "min_height": null,
       "min_width": null,
       "object_fit": null,
       "object_position": null,
       "order": null,
       "overflow": null,
       "overflow_x": null,
       "overflow_y": null,
       "padding": null,
       "right": null,
       "top": null,
       "visibility": null,
       "width": null
      }
     },
     "303725fba9864bd1a4d176369bbfa603": {
      "model_module": "@jupyter-widgets/controls",
      "model_module_version": "1.5.0",
      "model_name": "DescriptionStyleModel",
      "state": {
       "_model_module": "@jupyter-widgets/controls",
       "_model_module_version": "1.5.0",
       "_model_name": "DescriptionStyleModel",
       "_view_count": null,
       "_view_module": "@jupyter-widgets/base",
       "_view_module_version": "1.2.0",
       "_view_name": "StyleView",
       "description_width": ""
      }
     },
     "3562af34a59043d8ab7eabd865c2903d": {
      "model_module": "@jupyter-widgets/controls",
      "model_module_version": "1.5.0",
      "model_name": "HBoxModel",
      "state": {
       "_dom_classes": [],
       "_model_module": "@jupyter-widgets/controls",
       "_model_module_version": "1.5.0",
       "_model_name": "HBoxModel",
       "_view_count": null,
       "_view_module": "@jupyter-widgets/controls",
       "_view_module_version": "1.5.0",
       "_view_name": "HBoxView",
       "box_style": "",
       "children": [
        "IPY_MODEL_69cdfaf36e254fd3aeeade76000a423d",
        "IPY_MODEL_7c6ad4ed93ac448b9b5798e5d23828c1",
        "IPY_MODEL_8a8ac9d7ba3948249c3ccc2f2dd93bb2"
       ],
       "layout": "IPY_MODEL_5289ed9cf65e4f56a6bc02ff116d3c2f"
      }
     },
     "392510f1a3a740fb8f7770c3bf533bca": {
      "model_module": "@jupyter-widgets/base",
      "model_module_version": "1.2.0",
      "model_name": "LayoutModel",
      "state": {
       "_model_module": "@jupyter-widgets/base",
       "_model_module_version": "1.2.0",
       "_model_name": "LayoutModel",
       "_view_count": null,
       "_view_module": "@jupyter-widgets/base",
       "_view_module_version": "1.2.0",
       "_view_name": "LayoutView",
       "align_content": null,
       "align_items": null,
       "align_self": null,
       "border": null,
       "bottom": null,
       "display": null,
       "flex": null,
       "flex_flow": null,
       "grid_area": null,
       "grid_auto_columns": null,
       "grid_auto_flow": null,
       "grid_auto_rows": null,
       "grid_column": null,
       "grid_gap": null,
       "grid_row": null,
       "grid_template_areas": null,
       "grid_template_columns": null,
       "grid_template_rows": null,
       "height": null,
       "justify_content": null,
       "justify_items": null,
       "left": null,
       "margin": null,
       "max_height": null,
       "max_width": null,
       "min_height": null,
       "min_width": null,
       "object_fit": null,
       "object_position": null,
       "order": null,
       "overflow": null,
       "overflow_x": null,
       "overflow_y": null,
       "padding": null,
       "right": null,
       "top": null,
       "visibility": null,
       "width": null
      }
     },
     "3bf400c5f9f44290b2e5fd7c1d046706": {
      "model_module": "@jupyter-widgets/controls",
      "model_module_version": "1.5.0",
      "model_name": "DescriptionStyleModel",
      "state": {
       "_model_module": "@jupyter-widgets/controls",
       "_model_module_version": "1.5.0",
       "_model_name": "DescriptionStyleModel",
       "_view_count": null,
       "_view_module": "@jupyter-widgets/base",
       "_view_module_version": "1.2.0",
       "_view_name": "StyleView",
       "description_width": ""
      }
     },
     "440205270c1d47649aa8e2f8c8dc1313": {
      "model_module": "@jupyter-widgets/controls",
      "model_module_version": "1.5.0",
      "model_name": "HTMLModel",
      "state": {
       "_dom_classes": [],
       "_model_module": "@jupyter-widgets/controls",
       "_model_module_version": "1.5.0",
       "_model_name": "HTMLModel",
       "_view_count": null,
       "_view_module": "@jupyter-widgets/controls",
       "_view_module_version": "1.5.0",
       "_view_name": "HTMLView",
       "description": "",
       "description_tooltip": null,
       "layout": "IPY_MODEL_5b4d8b46f94b4c29bdba745b17f0a1b0",
       "placeholder": "​",
       "style": "IPY_MODEL_bab8aab19f6545349d91bc8a29c62cc9",
       "value": " 0/28605 [00:00&lt;?, ?it/s]"
      }
     },
     "472a7c48b8bf4328946a2f7a95f6a668": {
      "model_module": "@jupyter-widgets/base",
      "model_module_version": "1.2.0",
      "model_name": "LayoutModel",
      "state": {
       "_model_module": "@jupyter-widgets/base",
       "_model_module_version": "1.2.0",
       "_model_name": "LayoutModel",
       "_view_count": null,
       "_view_module": "@jupyter-widgets/base",
       "_view_module_version": "1.2.0",
       "_view_name": "LayoutView",
       "align_content": null,
       "align_items": null,
       "align_self": null,
       "border": null,
       "bottom": null,
       "display": null,
       "flex": null,
       "flex_flow": null,
       "grid_area": null,
       "grid_auto_columns": null,
       "grid_auto_flow": null,
       "grid_auto_rows": null,
       "grid_column": null,
       "grid_gap": null,
       "grid_row": null,
       "grid_template_areas": null,
       "grid_template_columns": null,
       "grid_template_rows": null,
       "height": null,
       "justify_content": null,
       "justify_items": null,
       "left": null,
       "margin": null,
       "max_height": null,
       "max_width": null,
       "min_height": null,
       "min_width": null,
       "object_fit": null,
       "object_position": null,
       "order": null,
       "overflow": null,
       "overflow_x": null,
       "overflow_y": null,
       "padding": null,
       "right": null,
       "top": null,
       "visibility": null,
       "width": null
      }
     },
     "50c795cc600b4cb1bf93ae845444c015": {
      "model_module": "@jupyter-widgets/controls",
      "model_module_version": "1.5.0",
      "model_name": "HTMLModel",
      "state": {
       "_dom_classes": [],
       "_model_module": "@jupyter-widgets/controls",
       "_model_module_version": "1.5.0",
       "_model_name": "HTMLModel",
       "_view_count": null,
       "_view_module": "@jupyter-widgets/controls",
       "_view_module_version": "1.5.0",
       "_view_name": "HTMLView",
       "description": "",
       "description_tooltip": null,
       "layout": "IPY_MODEL_90b9c30edf0849f98899aed0d175cb5b",
       "placeholder": "​",
       "style": "IPY_MODEL_ab5715beff334077b8647def4b65da2b",
       "value": " 28605/28605 [09:00&lt;00:00, 55.20it/s]"
      }
     },
     "50cea96269a84205922f8851b5b9ed7f": {
      "model_module": "@jupyter-widgets/base",
      "model_module_version": "1.2.0",
      "model_name": "LayoutModel",
      "state": {
       "_model_module": "@jupyter-widgets/base",
       "_model_module_version": "1.2.0",
       "_model_name": "LayoutModel",
       "_view_count": null,
       "_view_module": "@jupyter-widgets/base",
       "_view_module_version": "1.2.0",
       "_view_name": "LayoutView",
       "align_content": null,
       "align_items": null,
       "align_self": null,
       "border": null,
       "bottom": null,
       "display": null,
       "flex": null,
       "flex_flow": null,
       "grid_area": null,
       "grid_auto_columns": null,
       "grid_auto_flow": null,
       "grid_auto_rows": null,
       "grid_column": null,
       "grid_gap": null,
       "grid_row": null,
       "grid_template_areas": null,
       "grid_template_columns": null,
       "grid_template_rows": null,
       "height": null,
       "justify_content": null,
       "justify_items": null,
       "left": null,
       "margin": null,
       "max_height": null,
       "max_width": null,
       "min_height": null,
       "min_width": null,
       "object_fit": null,
       "object_position": null,
       "order": null,
       "overflow": null,
       "overflow_x": null,
       "overflow_y": null,
       "padding": null,
       "right": null,
       "top": null,
       "visibility": null,
       "width": null
      }
     },
     "510d1acb6fc644fd858ba36ee6b9b8ed": {
      "model_module": "@jupyter-widgets/controls",
      "model_module_version": "1.5.0",
      "model_name": "HBoxModel",
      "state": {
       "_dom_classes": [],
       "_model_module": "@jupyter-widgets/controls",
       "_model_module_version": "1.5.0",
       "_model_name": "HBoxModel",
       "_view_count": null,
       "_view_module": "@jupyter-widgets/controls",
       "_view_module_version": "1.5.0",
       "_view_name": "HBoxView",
       "box_style": "",
       "children": [
        "IPY_MODEL_1631c7a8008746d3ba42e5db2bd0ca2c",
        "IPY_MODEL_d3b3197cf488480e972393d5e3f57443",
        "IPY_MODEL_a318ceb9bb664288b622275f59f6374d"
       ],
       "layout": "IPY_MODEL_8fc20a4a5f6b4e66839411d52179ab80"
      }
     },
     "5289ed9cf65e4f56a6bc02ff116d3c2f": {
      "model_module": "@jupyter-widgets/base",
      "model_module_version": "1.2.0",
      "model_name": "LayoutModel",
      "state": {
       "_model_module": "@jupyter-widgets/base",
       "_model_module_version": "1.2.0",
       "_model_name": "LayoutModel",
       "_view_count": null,
       "_view_module": "@jupyter-widgets/base",
       "_view_module_version": "1.2.0",
       "_view_name": "LayoutView",
       "align_content": null,
       "align_items": null,
       "align_self": null,
       "border": null,
       "bottom": null,
       "display": null,
       "flex": null,
       "flex_flow": null,
       "grid_area": null,
       "grid_auto_columns": null,
       "grid_auto_flow": null,
       "grid_auto_rows": null,
       "grid_column": null,
       "grid_gap": null,
       "grid_row": null,
       "grid_template_areas": null,
       "grid_template_columns": null,
       "grid_template_rows": null,
       "height": null,
       "justify_content": null,
       "justify_items": null,
       "left": null,
       "margin": null,
       "max_height": null,
       "max_width": null,
       "min_height": null,
       "min_width": null,
       "object_fit": null,
       "object_position": null,
       "order": null,
       "overflow": null,
       "overflow_x": null,
       "overflow_y": null,
       "padding": null,
       "right": null,
       "top": null,
       "visibility": null,
       "width": null
      }
     },
     "560564726ba64895b606612158fec4c4": {
      "model_module": "@jupyter-widgets/base",
      "model_module_version": "1.2.0",
      "model_name": "LayoutModel",
      "state": {
       "_model_module": "@jupyter-widgets/base",
       "_model_module_version": "1.2.0",
       "_model_name": "LayoutModel",
       "_view_count": null,
       "_view_module": "@jupyter-widgets/base",
       "_view_module_version": "1.2.0",
       "_view_name": "LayoutView",
       "align_content": null,
       "align_items": null,
       "align_self": null,
       "border": null,
       "bottom": null,
       "display": null,
       "flex": null,
       "flex_flow": null,
       "grid_area": null,
       "grid_auto_columns": null,
       "grid_auto_flow": null,
       "grid_auto_rows": null,
       "grid_column": null,
       "grid_gap": null,
       "grid_row": null,
       "grid_template_areas": null,
       "grid_template_columns": null,
       "grid_template_rows": null,
       "height": null,
       "justify_content": null,
       "justify_items": null,
       "left": null,
       "margin": null,
       "max_height": null,
       "max_width": null,
       "min_height": null,
       "min_width": null,
       "object_fit": null,
       "object_position": null,
       "order": null,
       "overflow": null,
       "overflow_x": null,
       "overflow_y": null,
       "padding": null,
       "right": null,
       "top": null,
       "visibility": null,
       "width": null
      }
     },
     "5b4d8b46f94b4c29bdba745b17f0a1b0": {
      "model_module": "@jupyter-widgets/base",
      "model_module_version": "1.2.0",
      "model_name": "LayoutModel",
      "state": {
       "_model_module": "@jupyter-widgets/base",
       "_model_module_version": "1.2.0",
       "_model_name": "LayoutModel",
       "_view_count": null,
       "_view_module": "@jupyter-widgets/base",
       "_view_module_version": "1.2.0",
       "_view_name": "LayoutView",
       "align_content": null,
       "align_items": null,
       "align_self": null,
       "border": null,
       "bottom": null,
       "display": null,
       "flex": null,
       "flex_flow": null,
       "grid_area": null,
       "grid_auto_columns": null,
       "grid_auto_flow": null,
       "grid_auto_rows": null,
       "grid_column": null,
       "grid_gap": null,
       "grid_row": null,
       "grid_template_areas": null,
       "grid_template_columns": null,
       "grid_template_rows": null,
       "height": null,
       "justify_content": null,
       "justify_items": null,
       "left": null,
       "margin": null,
       "max_height": null,
       "max_width": null,
       "min_height": null,
       "min_width": null,
       "object_fit": null,
       "object_position": null,
       "order": null,
       "overflow": null,
       "overflow_x": null,
       "overflow_y": null,
       "padding": null,
       "right": null,
       "top": null,
       "visibility": null,
       "width": null
      }
     },
     "5b5f328670544c6b88c65e1c635328d8": {
      "model_module": "@jupyter-widgets/controls",
      "model_module_version": "1.5.0",
      "model_name": "HTMLModel",
      "state": {
       "_dom_classes": [],
       "_model_module": "@jupyter-widgets/controls",
       "_model_module_version": "1.5.0",
       "_model_name": "HTMLModel",
       "_view_count": null,
       "_view_module": "@jupyter-widgets/controls",
       "_view_module_version": "1.5.0",
       "_view_name": "HTMLView",
       "description": "",
       "description_tooltip": null,
       "layout": "IPY_MODEL_e979303a627449a1a88c68c21788dda1",
       "placeholder": "​",
       "style": "IPY_MODEL_3bf400c5f9f44290b2e5fd7c1d046706",
       "value": "100%"
      }
     },
     "69cdfaf36e254fd3aeeade76000a423d": {
      "model_module": "@jupyter-widgets/controls",
      "model_module_version": "1.5.0",
      "model_name": "HTMLModel",
      "state": {
       "_dom_classes": [],
       "_model_module": "@jupyter-widgets/controls",
       "_model_module_version": "1.5.0",
       "_model_name": "HTMLModel",
       "_view_count": null,
       "_view_module": "@jupyter-widgets/controls",
       "_view_module_version": "1.5.0",
       "_view_name": "HTMLView",
       "description": "",
       "description_tooltip": null,
       "layout": "IPY_MODEL_392510f1a3a740fb8f7770c3bf533bca",
       "placeholder": "​",
       "style": "IPY_MODEL_a6f3d1fc167845de81c5dab1f0adf753",
       "value": "100%"
      }
     },
     "7ac3a285cd6e4c1da444f976a3151bd1": {
      "model_module": "@jupyter-widgets/controls",
      "model_module_version": "1.5.0",
      "model_name": "DescriptionStyleModel",
      "state": {
       "_model_module": "@jupyter-widgets/controls",
       "_model_module_version": "1.5.0",
       "_model_name": "DescriptionStyleModel",
       "_view_count": null,
       "_view_module": "@jupyter-widgets/base",
       "_view_module_version": "1.2.0",
       "_view_name": "StyleView",
       "description_width": ""
      }
     },
     "7c6ad4ed93ac448b9b5798e5d23828c1": {
      "model_module": "@jupyter-widgets/controls",
      "model_module_version": "1.5.0",
      "model_name": "FloatProgressModel",
      "state": {
       "_dom_classes": [],
       "_model_module": "@jupyter-widgets/controls",
       "_model_module_version": "1.5.0",
       "_model_name": "FloatProgressModel",
       "_view_count": null,
       "_view_module": "@jupyter-widgets/controls",
       "_view_module_version": "1.5.0",
       "_view_name": "ProgressView",
       "bar_style": "success",
       "description": "",
       "description_tooltip": null,
       "layout": "IPY_MODEL_ff576240acf44d5dace1253d2c22f8c4",
       "max": 3179.0,
       "min": 0.0,
       "orientation": "horizontal",
       "style": "IPY_MODEL_cfa1a484fbb94fde88d00865ab6f20fc",
       "value": 3179.0
      }
     },
     "7d1929215b66458f964fc43d5f309482": {
      "model_module": "@jupyter-widgets/base",
      "model_module_version": "1.2.0",
      "model_name": "LayoutModel",
      "state": {
       "_model_module": "@jupyter-widgets/base",
       "_model_module_version": "1.2.0",
       "_model_name": "LayoutModel",
       "_view_count": null,
       "_view_module": "@jupyter-widgets/base",
       "_view_module_version": "1.2.0",
       "_view_name": "LayoutView",
       "align_content": null,
       "align_items": null,
       "align_self": null,
       "border": null,
       "bottom": null,
       "display": null,
       "flex": null,
       "flex_flow": null,
       "grid_area": null,
       "grid_auto_columns": null,
       "grid_auto_flow": null,
       "grid_auto_rows": null,
       "grid_column": null,
       "grid_gap": null,
       "grid_row": null,
       "grid_template_areas": null,
       "grid_template_columns": null,
       "grid_template_rows": null,
       "height": null,
       "justify_content": null,
       "justify_items": null,
       "left": null,
       "margin": null,
       "max_height": null,
       "max_width": null,
       "min_height": null,
       "min_width": null,
       "object_fit": null,
       "object_position": null,
       "order": null,
       "overflow": null,
       "overflow_x": null,
       "overflow_y": null,
       "padding": null,
       "right": null,
       "top": null,
       "visibility": null,
       "width": null
      }
     },
     "84a8f150693c4cbc9ab4dd4ced709b7f": {
      "model_module": "@jupyter-widgets/controls",
      "model_module_version": "1.5.0",
      "model_name": "FloatProgressModel",
      "state": {
       "_dom_classes": [],
       "_model_module": "@jupyter-widgets/controls",
       "_model_module_version": "1.5.0",
       "_model_name": "FloatProgressModel",
       "_view_count": null,
       "_view_module": "@jupyter-widgets/controls",
       "_view_module_version": "1.5.0",
       "_view_name": "ProgressView",
       "bar_style": "success",
       "description": "",
       "description_tooltip": null,
       "layout": "IPY_MODEL_1e02fad21ba64c8ea0a72fadadc9630d",
       "max": 28605.0,
       "min": 0.0,
       "orientation": "horizontal",
       "style": "IPY_MODEL_e3ffe66a579142528e14513bb3f6cddb",
       "value": 28605.0
      }
     },
     "8a8ac9d7ba3948249c3ccc2f2dd93bb2": {
      "model_module": "@jupyter-widgets/controls",
      "model_module_version": "1.5.0",
      "model_name": "HTMLModel",
      "state": {
       "_dom_classes": [],
       "_model_module": "@jupyter-widgets/controls",
       "_model_module_version": "1.5.0",
       "_model_name": "HTMLModel",
       "_view_count": null,
       "_view_module": "@jupyter-widgets/controls",
       "_view_module_version": "1.5.0",
       "_view_name": "HTMLView",
       "description": "",
       "description_tooltip": null,
       "layout": "IPY_MODEL_a9ab566b33e245a0b78e00f5f7bbf2b4",
       "placeholder": "​",
       "style": "IPY_MODEL_303725fba9864bd1a4d176369bbfa603",
       "value": " 3179/3179 [00:59&lt;00:00, 52.71it/s]"
      }
     },
     "8fc20a4a5f6b4e66839411d52179ab80": {
      "model_module": "@jupyter-widgets/base",
      "model_module_version": "1.2.0",
      "model_name": "LayoutModel",
      "state": {
       "_model_module": "@jupyter-widgets/base",
       "_model_module_version": "1.2.0",
       "_model_name": "LayoutModel",
       "_view_count": null,
       "_view_module": "@jupyter-widgets/base",
       "_view_module_version": "1.2.0",
       "_view_name": "LayoutView",
       "align_content": null,
       "align_items": null,
       "align_self": null,
       "border": null,
       "bottom": null,
       "display": null,
       "flex": null,
       "flex_flow": null,
       "grid_area": null,
       "grid_auto_columns": null,
       "grid_auto_flow": null,
       "grid_auto_rows": null,
       "grid_column": null,
       "grid_gap": null,
       "grid_row": null,
       "grid_template_areas": null,
       "grid_template_columns": null,
       "grid_template_rows": null,
       "height": null,
       "justify_content": null,
       "justify_items": null,
       "left": null,
       "margin": null,
       "max_height": null,
       "max_width": null,
       "min_height": null,
       "min_width": null,
       "object_fit": null,
       "object_position": null,
       "order": null,
       "overflow": null,
       "overflow_x": null,
       "overflow_y": null,
       "padding": null,
       "right": null,
       "top": null,
       "visibility": null,
       "width": null
      }
     },
     "90b9c30edf0849f98899aed0d175cb5b": {
      "model_module": "@jupyter-widgets/base",
      "model_module_version": "1.2.0",
      "model_name": "LayoutModel",
      "state": {
       "_model_module": "@jupyter-widgets/base",
       "_model_module_version": "1.2.0",
       "_model_name": "LayoutModel",
       "_view_count": null,
       "_view_module": "@jupyter-widgets/base",
       "_view_module_version": "1.2.0",
       "_view_name": "LayoutView",
       "align_content": null,
       "align_items": null,
       "align_self": null,
       "border": null,
       "bottom": null,
       "display": null,
       "flex": null,
       "flex_flow": null,
       "grid_area": null,
       "grid_auto_columns": null,
       "grid_auto_flow": null,
       "grid_auto_rows": null,
       "grid_column": null,
       "grid_gap": null,
       "grid_row": null,
       "grid_template_areas": null,
       "grid_template_columns": null,
       "grid_template_rows": null,
       "height": null,
       "justify_content": null,
       "justify_items": null,
       "left": null,
       "margin": null,
       "max_height": null,
       "max_width": null,
       "min_height": null,
       "min_width": null,
       "object_fit": null,
       "object_position": null,
       "order": null,
       "overflow": null,
       "overflow_x": null,
       "overflow_y": null,
       "padding": null,
       "right": null,
       "top": null,
       "visibility": null,
       "width": null
      }
     },
     "a318ceb9bb664288b622275f59f6374d": {
      "model_module": "@jupyter-widgets/controls",
      "model_module_version": "1.5.0",
      "model_name": "HTMLModel",
      "state": {
       "_dom_classes": [],
       "_model_module": "@jupyter-widgets/controls",
       "_model_module_version": "1.5.0",
       "_model_name": "HTMLModel",
       "_view_count": null,
       "_view_module": "@jupyter-widgets/controls",
       "_view_module_version": "1.5.0",
       "_view_name": "HTMLView",
       "description": "",
       "description_tooltip": null,
       "layout": "IPY_MODEL_7d1929215b66458f964fc43d5f309482",
       "placeholder": "​",
       "style": "IPY_MODEL_e07b103ece6446b9aba19d8ba36371f3",
       "value": " 20/20 [3:46:33&lt;00:00, 681.35s/it]"
      }
     },
     "a6f3d1fc167845de81c5dab1f0adf753": {
      "model_module": "@jupyter-widgets/controls",
      "model_module_version": "1.5.0",
      "model_name": "DescriptionStyleModel",
      "state": {
       "_model_module": "@jupyter-widgets/controls",
       "_model_module_version": "1.5.0",
       "_model_name": "DescriptionStyleModel",
       "_view_count": null,
       "_view_module": "@jupyter-widgets/base",
       "_view_module_version": "1.2.0",
       "_view_name": "StyleView",
       "description_width": ""
      }
     },
     "a915e97efa7849d1a387a3ddbd174b34": {
      "model_module": "@jupyter-widgets/controls",
      "model_module_version": "1.5.0",
      "model_name": "ProgressStyleModel",
      "state": {
       "_model_module": "@jupyter-widgets/controls",
       "_model_module_version": "1.5.0",
       "_model_name": "ProgressStyleModel",
       "_view_count": null,
       "_view_module": "@jupyter-widgets/base",
       "_view_module_version": "1.2.0",
       "_view_name": "StyleView",
       "bar_color": null,
       "description_width": ""
      }
     },
     "a9ab566b33e245a0b78e00f5f7bbf2b4": {
      "model_module": "@jupyter-widgets/base",
      "model_module_version": "1.2.0",
      "model_name": "LayoutModel",
      "state": {
       "_model_module": "@jupyter-widgets/base",
       "_model_module_version": "1.2.0",
       "_model_name": "LayoutModel",
       "_view_count": null,
       "_view_module": "@jupyter-widgets/base",
       "_view_module_version": "1.2.0",
       "_view_name": "LayoutView",
       "align_content": null,
       "align_items": null,
       "align_self": null,
       "border": null,
       "bottom": null,
       "display": null,
       "flex": null,
       "flex_flow": null,
       "grid_area": null,
       "grid_auto_columns": null,
       "grid_auto_flow": null,
       "grid_auto_rows": null,
       "grid_column": null,
       "grid_gap": null,
       "grid_row": null,
       "grid_template_areas": null,
       "grid_template_columns": null,
       "grid_template_rows": null,
       "height": null,
       "justify_content": null,
       "justify_items": null,
       "left": null,
       "margin": null,
       "max_height": null,
       "max_width": null,
       "min_height": null,
       "min_width": null,
       "object_fit": null,
       "object_position": null,
       "order": null,
       "overflow": null,
       "overflow_x": null,
       "overflow_y": null,
       "padding": null,
       "right": null,
       "top": null,
       "visibility": null,
       "width": null
      }
     },
     "aa547c1f50fe4824a733ec317a445a2c": {
      "model_module": "@jupyter-widgets/controls",
      "model_module_version": "1.5.0",
      "model_name": "DescriptionStyleModel",
      "state": {
       "_model_module": "@jupyter-widgets/controls",
       "_model_module_version": "1.5.0",
       "_model_name": "DescriptionStyleModel",
       "_view_count": null,
       "_view_module": "@jupyter-widgets/base",
       "_view_module_version": "1.2.0",
       "_view_name": "StyleView",
       "description_width": ""
      }
     },
     "ab14884c6fe240adbeb2ffeffbb640e9": {
      "model_module": "@jupyter-widgets/controls",
      "model_module_version": "1.5.0",
      "model_name": "FloatProgressModel",
      "state": {
       "_dom_classes": [],
       "_model_module": "@jupyter-widgets/controls",
       "_model_module_version": "1.5.0",
       "_model_name": "FloatProgressModel",
       "_view_count": null,
       "_view_module": "@jupyter-widgets/controls",
       "_view_module_version": "1.5.0",
       "_view_name": "ProgressView",
       "bar_style": "danger",
       "description": "",
       "description_tooltip": null,
       "layout": "IPY_MODEL_50cea96269a84205922f8851b5b9ed7f",
       "max": 28605.0,
       "min": 0.0,
       "orientation": "horizontal",
       "style": "IPY_MODEL_eeb386685aa9478c9cf4bbb0526eb6d1",
       "value": 0.0
      }
     },
     "ab5715beff334077b8647def4b65da2b": {
      "model_module": "@jupyter-widgets/controls",
      "model_module_version": "1.5.0",
      "model_name": "DescriptionStyleModel",
      "state": {
       "_model_module": "@jupyter-widgets/controls",
       "_model_module_version": "1.5.0",
       "_model_name": "DescriptionStyleModel",
       "_view_count": null,
       "_view_module": "@jupyter-widgets/base",
       "_view_module_version": "1.2.0",
       "_view_name": "StyleView",
       "description_width": ""
      }
     },
     "bab8aab19f6545349d91bc8a29c62cc9": {
      "model_module": "@jupyter-widgets/controls",
      "model_module_version": "1.5.0",
      "model_name": "DescriptionStyleModel",
      "state": {
       "_model_module": "@jupyter-widgets/controls",
       "_model_module_version": "1.5.0",
       "_model_name": "DescriptionStyleModel",
       "_view_count": null,
       "_view_module": "@jupyter-widgets/base",
       "_view_module_version": "1.2.0",
       "_view_name": "StyleView",
       "description_width": ""
      }
     },
     "cb516de20aa7467d9a5ff1b8bff784e2": {
      "model_module": "@jupyter-widgets/controls",
      "model_module_version": "1.5.0",
      "model_name": "HBoxModel",
      "state": {
       "_dom_classes": [],
       "_model_module": "@jupyter-widgets/controls",
       "_model_module_version": "1.5.0",
       "_model_name": "HBoxModel",
       "_view_count": null,
       "_view_module": "@jupyter-widgets/controls",
       "_view_module_version": "1.5.0",
       "_view_name": "HBoxView",
       "box_style": "",
       "children": [
        "IPY_MODEL_1a63b3f198094c088060872cf394d126",
        "IPY_MODEL_ab14884c6fe240adbeb2ffeffbb640e9",
        "IPY_MODEL_440205270c1d47649aa8e2f8c8dc1313"
       ],
       "layout": "IPY_MODEL_560564726ba64895b606612158fec4c4"
      }
     },
     "cea0cc4388a34c38bdc97a2aea0d2198": {
      "model_module": "@jupyter-widgets/controls",
      "model_module_version": "1.5.0",
      "model_name": "HBoxModel",
      "state": {
       "_dom_classes": [],
       "_model_module": "@jupyter-widgets/controls",
       "_model_module_version": "1.5.0",
       "_model_name": "HBoxModel",
       "_view_count": null,
       "_view_module": "@jupyter-widgets/controls",
       "_view_module_version": "1.5.0",
       "_view_name": "HBoxView",
       "box_style": "",
       "children": [
        "IPY_MODEL_5b5f328670544c6b88c65e1c635328d8",
        "IPY_MODEL_84a8f150693c4cbc9ab4dd4ced709b7f",
        "IPY_MODEL_50c795cc600b4cb1bf93ae845444c015"
       ],
       "layout": "IPY_MODEL_0f39dbf5882e4bcfa5be530662f64ad8"
      }
     },
     "cfa1a484fbb94fde88d00865ab6f20fc": {
      "model_module": "@jupyter-widgets/controls",
      "model_module_version": "1.5.0",
      "model_name": "ProgressStyleModel",
      "state": {
       "_model_module": "@jupyter-widgets/controls",
       "_model_module_version": "1.5.0",
       "_model_name": "ProgressStyleModel",
       "_view_count": null,
       "_view_module": "@jupyter-widgets/base",
       "_view_module_version": "1.2.0",
       "_view_name": "StyleView",
       "bar_color": null,
       "description_width": ""
      }
     },
     "d3b3197cf488480e972393d5e3f57443": {
      "model_module": "@jupyter-widgets/controls",
      "model_module_version": "1.5.0",
      "model_name": "FloatProgressModel",
      "state": {
       "_dom_classes": [],
       "_model_module": "@jupyter-widgets/controls",
       "_model_module_version": "1.5.0",
       "_model_name": "FloatProgressModel",
       "_view_count": null,
       "_view_module": "@jupyter-widgets/controls",
       "_view_module_version": "1.5.0",
       "_view_name": "ProgressView",
       "bar_style": "success",
       "description": "",
       "description_tooltip": null,
       "layout": "IPY_MODEL_472a7c48b8bf4328946a2f7a95f6a668",
       "max": 20.0,
       "min": 0.0,
       "orientation": "horizontal",
       "style": "IPY_MODEL_a915e97efa7849d1a387a3ddbd174b34",
       "value": 20.0
      }
     },
     "e07b103ece6446b9aba19d8ba36371f3": {
      "model_module": "@jupyter-widgets/controls",
      "model_module_version": "1.5.0",
      "model_name": "DescriptionStyleModel",
      "state": {
       "_model_module": "@jupyter-widgets/controls",
       "_model_module_version": "1.5.0",
       "_model_name": "DescriptionStyleModel",
       "_view_count": null,
       "_view_module": "@jupyter-widgets/base",
       "_view_module_version": "1.2.0",
       "_view_name": "StyleView",
       "description_width": ""
      }
     },
     "e3ffe66a579142528e14513bb3f6cddb": {
      "model_module": "@jupyter-widgets/controls",
      "model_module_version": "1.5.0",
      "model_name": "ProgressStyleModel",
      "state": {
       "_model_module": "@jupyter-widgets/controls",
       "_model_module_version": "1.5.0",
       "_model_name": "ProgressStyleModel",
       "_view_count": null,
       "_view_module": "@jupyter-widgets/base",
       "_view_module_version": "1.2.0",
       "_view_name": "StyleView",
       "bar_color": null,
       "description_width": ""
      }
     },
     "e979303a627449a1a88c68c21788dda1": {
      "model_module": "@jupyter-widgets/base",
      "model_module_version": "1.2.0",
      "model_name": "LayoutModel",
      "state": {
       "_model_module": "@jupyter-widgets/base",
       "_model_module_version": "1.2.0",
       "_model_name": "LayoutModel",
       "_view_count": null,
       "_view_module": "@jupyter-widgets/base",
       "_view_module_version": "1.2.0",
       "_view_name": "LayoutView",
       "align_content": null,
       "align_items": null,
       "align_self": null,
       "border": null,
       "bottom": null,
       "display": null,
       "flex": null,
       "flex_flow": null,
       "grid_area": null,
       "grid_auto_columns": null,
       "grid_auto_flow": null,
       "grid_auto_rows": null,
       "grid_column": null,
       "grid_gap": null,
       "grid_row": null,
       "grid_template_areas": null,
       "grid_template_columns": null,
       "grid_template_rows": null,
       "height": null,
       "justify_content": null,
       "justify_items": null,
       "left": null,
       "margin": null,
       "max_height": null,
       "max_width": null,
       "min_height": null,
       "min_width": null,
       "object_fit": null,
       "object_position": null,
       "order": null,
       "overflow": null,
       "overflow_x": null,
       "overflow_y": null,
       "padding": null,
       "right": null,
       "top": null,
       "visibility": null,
       "width": null
      }
     },
     "ea98505f1db84cc1a589edb36ca77d95": {
      "model_module": "@jupyter-widgets/base",
      "model_module_version": "1.2.0",
      "model_name": "LayoutModel",
      "state": {
       "_model_module": "@jupyter-widgets/base",
       "_model_module_version": "1.2.0",
       "_model_name": "LayoutModel",
       "_view_count": null,
       "_view_module": "@jupyter-widgets/base",
       "_view_module_version": "1.2.0",
       "_view_name": "LayoutView",
       "align_content": null,
       "align_items": null,
       "align_self": null,
       "border": null,
       "bottom": null,
       "display": null,
       "flex": null,
       "flex_flow": null,
       "grid_area": null,
       "grid_auto_columns": null,
       "grid_auto_flow": null,
       "grid_auto_rows": null,
       "grid_column": null,
       "grid_gap": null,
       "grid_row": null,
       "grid_template_areas": null,
       "grid_template_columns": null,
       "grid_template_rows": null,
       "height": null,
       "justify_content": null,
       "justify_items": null,
       "left": null,
       "margin": null,
       "max_height": null,
       "max_width": null,
       "min_height": null,
       "min_width": null,
       "object_fit": null,
       "object_position": null,
       "order": null,
       "overflow": null,
       "overflow_x": null,
       "overflow_y": null,
       "padding": null,
       "right": null,
       "top": null,
       "visibility": null,
       "width": null
      }
     },
     "eeb386685aa9478c9cf4bbb0526eb6d1": {
      "model_module": "@jupyter-widgets/controls",
      "model_module_version": "1.5.0",
      "model_name": "ProgressStyleModel",
      "state": {
       "_model_module": "@jupyter-widgets/controls",
       "_model_module_version": "1.5.0",
       "_model_name": "ProgressStyleModel",
       "_view_count": null,
       "_view_module": "@jupyter-widgets/base",
       "_view_module_version": "1.2.0",
       "_view_name": "StyleView",
       "bar_color": null,
       "description_width": ""
      }
     },
     "ff576240acf44d5dace1253d2c22f8c4": {
      "model_module": "@jupyter-widgets/base",
      "model_module_version": "1.2.0",
      "model_name": "LayoutModel",
      "state": {
       "_model_module": "@jupyter-widgets/base",
       "_model_module_version": "1.2.0",
       "_model_name": "LayoutModel",
       "_view_count": null,
       "_view_module": "@jupyter-widgets/base",
       "_view_module_version": "1.2.0",
       "_view_name": "LayoutView",
       "align_content": null,
       "align_items": null,
       "align_self": null,
       "border": null,
       "bottom": null,
       "display": null,
       "flex": null,
       "flex_flow": null,
       "grid_area": null,
       "grid_auto_columns": null,
       "grid_auto_flow": null,
       "grid_auto_rows": null,
       "grid_column": null,
       "grid_gap": null,
       "grid_row": null,
       "grid_template_areas": null,
       "grid_template_columns": null,
       "grid_template_rows": null,
       "height": null,
       "justify_content": null,
       "justify_items": null,
       "left": null,
       "margin": null,
       "max_height": null,
       "max_width": null,
       "min_height": null,
       "min_width": null,
       "object_fit": null,
       "object_position": null,
       "order": null,
       "overflow": null,
       "overflow_x": null,
       "overflow_y": null,
       "padding": null,
       "right": null,
       "top": null,
       "visibility": null,
       "width": null
      }
     }
    },
    "version_major": 2,
    "version_minor": 0
   }
  }
 },
 "nbformat": 4,
 "nbformat_minor": 5
}
